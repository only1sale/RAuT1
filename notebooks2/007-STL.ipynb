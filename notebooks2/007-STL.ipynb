{
 "cells": [
  {
   "cell_type": "markdown",
   "metadata": {
    "slideshow": {
     "slide_type": "slide"
    }
   },
   "source": [
    "# STL - Standard Template Library\n",
    "\n",
    "#### Aleksandar Minja <br> April 2020"
   ]
  },
  {
   "cell_type": "markdown",
   "metadata": {
    "slideshow": {
     "slide_type": "slide"
    }
   },
   "source": [
    "STL je skup šablonskih struktura i funkcija koje pružaju česte strukture podataka (npr. stack, list, queu, ...), algoritme i iteratore (apstrakcija pokazivača) koji omogućavaju jedinstveno korišćenje algoritama, nezavisno od strukture podataka koja se koristi. Glavne komponente STL biblioteke su:\n",
    "- Kontejneri (šablonske strukture)\n",
    "    - `vector <T>`\n",
    "    - `array <T, int>`\n",
    "    - `list <T>`\n",
    "    - `set <T>`\n",
    "    - `map <T, U>`\n",
    "    - `stack <T>`\n",
    "    - `dequeu <T>`\n",
    "    - ...    "
   ]
  },
  {
   "cell_type": "markdown",
   "metadata": {
    "slideshow": {
     "slide_type": "subslide"
    }
   },
   "source": [
    "- Algoritmi\n",
    "    - Sortiranje\n",
    "    - Pretraga\n",
    "    - Manipulacija kontejnerima i nizovima\n",
    "    - Numerički algoritmi\n",
    "- Iteratori\n",
    "    - mehanizam za rukovanje sekvencom vrednosti\n",
    "    - transparentno rukovanje STL algoritmima\n",
    "- Funkcije\n",
    "    - Mehanizam za proširenje algoritma\n",
    "    - Funkcijski objekti - Funktori\n",
    "----\n",
    "- Pomoćne strukture (Utility)\n",
    "    - Par vrednosti, različitog tipa - `pair <T, U>`"
   ]
  },
  {
   "cell_type": "code",
   "execution_count": null,
   "metadata": {
    "slideshow": {
     "slide_type": "slide"
    }
   },
   "outputs": [],
   "source": [
    "#include <iostream>  //cout, cin, endl\n",
    "#include <utility>   // pair\n",
    "#include <vector>    //vector\n",
    "#include <array>     //array\n",
    "#include <algorithm> //max, min, sort\n",
    "#include <numeric>   //accumulate;"
   ]
  },
  {
   "cell_type": "markdown",
   "metadata": {
    "slideshow": {
     "slide_type": "slide"
    }
   },
   "source": [
    "### Vektor kontejner\n",
    "\n",
    "Vektor je najčešće korišćeni kontejenr. Predstavlja STL implementaciju dinamičkog niza. Sa vektorom je moguće rukovati kao i sa klasičnim nizom. Pored ovoga, vektor omogućava naredne korisne funkcije članice:\n",
    "- `size()` - vraća veličinu vektora (br. elemenata u vektoru).\n",
    "- `resize(N)` - promeni veličinu vektora na `N`. Ukoliko je `N` veće od trenutne dužine, svi novi el. će dobiti osnovnu vrednost.\n",
    "- `resize(N, X)` - ako je `N` veće od trenutne dužine, svi novi elementi će imati vrednost `X`.\n",
    "- `push_back(X)` - dodaje el. `X` na kraj niza.\n",
    "- `pop_back()` - izbacuje el. sa kraja niza i vraća ga."
   ]
  },
  {
   "cell_type": "code",
   "execution_count": null,
   "metadata": {
    "slideshow": {
     "slide_type": "slide"
    }
   },
   "outputs": [],
   "source": [
    "std::vector niz = {4, 2, 3, 1, 9, 5, 6, 8, 7}; //implicitna dedukcija tipa; "
   ]
  },
  {
   "cell_type": "code",
   "execution_count": null,
   "metadata": {
    "slideshow": {
     "slide_type": "fragment"
    }
   },
   "outputs": [],
   "source": [
    "niz.resize(6);\n",
    "niz.resize(10, 13);\n",
    "for(auto v : niz)\n",
    "    std::cout << v << \" \";"
   ]
  },
  {
   "cell_type": "markdown",
   "metadata": {
    "slideshow": {
     "slide_type": "slide"
    }
   },
   "source": [
    "### Iteratori\n",
    "\n",
    "Kontejneri imaju funkcije članice za rad sa iteratorima. Najznačjanije funkcije su:\n",
    "- `begin()` - vraća iterator na prvi element\n",
    "- `end()` - vraća iterator iza poslednjeg elementa\n",
    "- `rbegin()`- (reverse begin) vraća iterator na poslednji el.\n",
    "- `rend()` - (reverse end) vraća iterator ispred prvog el.\n",
    "\n",
    "Iteratori (kao i pokazivači) mogu da se inkrementiraju i da se dereferenciraju da bi se pročitala vrednost na koju pokazuju. Iteratori se mogu koristiti u for petlji na sledeći način:"
   ]
  },
  {
   "cell_type": "code",
   "execution_count": null,
   "metadata": {
    "slideshow": {
     "slide_type": "fragment"
    }
   },
   "outputs": [],
   "source": [
    "for(auto it = niz.begin(); it != niz.end(); ++it)\n",
    "    std::cout << *it << \" \";"
   ]
  },
  {
   "cell_type": "markdown",
   "metadata": {
    "slideshow": {
     "slide_type": "slide"
    }
   },
   "source": [
    "### Maximalni i minimalni element\n",
    "\n",
    "Algoritmi `max_element(Iterator first, Iterator last)` i `min_element(Iterator first, Iterator last)` vraćaju iteratore na najveći i najmanji elemenat u kontejneru, respektivno. `Iterator first`, predstavlja iterator (pokazivač) na prvi elemenat, dok `Iterator last` predstavlja iterator (pokazivač) iza poslednjeg elementa. Algoritam se primenjuje na niz $[\\text{first}, \\text{last})$. Neki algoritmi zahtevaju i dodatne argumente."
   ]
  },
  {
   "cell_type": "code",
   "execution_count": null,
   "metadata": {
    "slideshow": {
     "slide_type": "fragment"
    }
   },
   "outputs": [],
   "source": [
    "std::cout << \"Maximum: \" << *std::max_element(niz.begin(), niz.end()) << std::endl;\n",
    "std::cout << \"Minimum: \" << *std::min_element(niz.begin(), niz.end()) << std::endl;"
   ]
  },
  {
   "cell_type": "markdown",
   "metadata": {
    "slideshow": {
     "slide_type": "notes"
    }
   },
   "source": [
    "Većina STL algoritama radi sa klasičnim nizovima. Umesto iteratora prosleđujemo pokazivače. "
   ]
  },
  {
   "cell_type": "code",
   "execution_count": null,
   "metadata": {
    "slideshow": {
     "slide_type": "fragment"
    }
   },
   "outputs": [],
   "source": [
    "int arr[5] = {3, 4, 5, 1, 2};\n",
    "std::cout << \"Maximum: \" << *std::max_element(arr, arr + 5) << std::endl;\n",
    "std::cout << \"Minimum: \" << *std::min_element(arr, arr + 5) << std::endl;"
   ]
  },
  {
   "cell_type": "markdown",
   "metadata": {
    "slideshow": {
     "slide_type": "slide"
    }
   },
   "source": [
    "### Sortiranje\n",
    "\n",
    "Algoritam `sort(Iterator first, Iterator last)` sortira niz po ne opadajućem redosledu. "
   ]
  },
  {
   "cell_type": "code",
   "execution_count": null,
   "metadata": {
    "slideshow": {
     "slide_type": "fragment"
    }
   },
   "outputs": [],
   "source": [
    "std::sort(niz.begin(), niz.end());\n",
    "for(auto v : niz)\n",
    "    std::cout << v << \" \";"
   ]
  },
  {
   "cell_type": "markdown",
   "metadata": {
    "slideshow": {
     "slide_type": "slide"
    }
   },
   "source": [
    "Funkcija `sort` ima i treći opcioni argument - komparator, koji predstavlja funkciju poređenja. Zadavanjem komparatora, možemo sortirati niz po ne rastućem redosledu."
   ]
  },
  {
   "cell_type": "code",
   "execution_count": null,
   "metadata": {
    "slideshow": {
     "slide_type": "fragment"
    }
   },
   "outputs": [],
   "source": [
    "template <typename T>\n",
    "bool comparator(T &a, T &b){\n",
    "    return a > b;\n",
    "}"
   ]
  },
  {
   "cell_type": "code",
   "execution_count": null,
   "metadata": {
    "slideshow": {
     "slide_type": "fragment"
    }
   },
   "outputs": [],
   "source": [
    "std::sort(niz.begin(), niz.end(), comparator<int>);\n",
    "for(auto v : niz)\n",
    "    std::cout << v << \" \";"
   ]
  },
  {
   "cell_type": "markdown",
   "metadata": {
    "slideshow": {
     "slide_type": "slide"
    }
   },
   "source": [
    "### Lambda izrazi\n",
    "\n",
    "Da ne bi svaki put definisali funkcije koje će biti pozvane samo jedanput, C++ nudi mehanizam za definisanje malih \"bezimenih\" funkcija direktno u kodu (čak i unutar drugih funkcija ili poziva funkcije). Ove male funkcije se nazivaju *lambda izrazi*.\n",
    "\n",
    "```\n",
    "[ capture ] (lista_argumenata) -> return-tip { ... } \n",
    "```\n",
    "`capture` služi za \"hvatanje\" spoljašnjih promenljivih, i moguće opcije su:\n",
    " - `[&]`, ili `[const &]`: hvataj sve promenljive po referenci, ili const referenci\n",
    " - `[=]` : hvataj sve promenljive po vrednosti\n",
    " - `[a, &b]` : hvataj `a` po vrednosti, a `b` po referenci.\n",
    "\n",
    "Lambda izraz ima tip koji je poznat samo kompajleru, pa se prilikom definicije uvek koristi automatska dedukcija tipa `auto`. Lambda izraze možemo koristit direktno prilikom poziva algoritama."
   ]
  },
  {
   "cell_type": "code",
   "execution_count": null,
   "metadata": {
    "slideshow": {
     "slide_type": "slide"
    }
   },
   "outputs": [],
   "source": [
    "auto l = [](int a, int b) -> int { return a + b; }; // definicija, pa ide \";\" na kraju;"
   ]
  },
  {
   "cell_type": "code",
   "execution_count": null,
   "metadata": {
    "slideshow": {
     "slide_type": "fragment"
    }
   },
   "outputs": [],
   "source": [
    "//std::cout << \"Zbir: \" << l(3, 5) << std::endl;\n",
    "//std::cout << \"Zbir: \" << l(1, 2) << std::endl;"
   ]
  },
  {
   "cell_type": "code",
   "execution_count": null,
   "metadata": {
    "slideshow": {
     "slide_type": "fragment"
    }
   },
   "outputs": [],
   "source": [
    "std::sort(niz.begin(), niz.end(), [](int a, int b) { return a < b; });\n",
    "for(auto v : niz)\n",
    "    std::cout << v << \" \";"
   ]
  },
  {
   "cell_type": "markdown",
   "metadata": {
    "slideshow": {
     "slide_type": "slide"
    }
   },
   "source": [
    "### Akumulator\n",
    "\n",
    "Funkcija `accumulate(Iter first, Iter last, T init)` vraća akumuliranu vrednost. `first` i `last` su iteratori na prvi i iza poslednjeg elementa, a `init` je početna vrednost akumulatora. Akumulator može da se koristi za mnoge značajne operacije. "
   ]
  },
  {
   "cell_type": "code",
   "execution_count": null,
   "metadata": {
    "slideshow": {
     "slide_type": "fragment"
    }
   },
   "outputs": [],
   "source": [
    "std::cout << \"Suma el.: \" << std::accumulate(niz.begin(), niz.end(), 0) << std::endl;\n",
    "std::cout << \"Proizvod: \" << std::accumulate(\n",
    "                                niz.begin(), niz.end(), 1, \n",
    "                                [](int &a, int &b) {return a = a * b;}) << std::endl;\n",
    "std::cout << \"Suma kvadrata: \" << std::accumulate(\n",
    "                                niz.begin(), niz.end(), 1, \n",
    "                                [](int &a, int &b) {return a = a + b * b;}) << std::endl;"
   ]
  },
  {
   "cell_type": "markdown",
   "metadata": {
    "slideshow": {
     "slide_type": "notes"
    }
   },
   "source": [
    "Primetite da kod akumulatora, lambda izraz prima dva argumenta - prvi argument je trenutna vrednost akumulatora, a drugi argument je vrednost niza koja se prosleđuje."
   ]
  }
 ],
 "metadata": {
  "celltoolbar": "Slideshow",
  "kernelspec": {
   "display_name": "C++17",
   "language": "C++17",
   "name": "xcpp17"
  },
  "language_info": {
   "codemirror_mode": "text/x-c++src",
   "file_extension": ".cpp",
   "mimetype": "text/x-c++src",
   "name": "c++",
   "version": "-std=c++17"
  }
 },
 "nbformat": 4,
 "nbformat_minor": 2
}
