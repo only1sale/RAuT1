{
 "cells": [
  {
   "cell_type": "markdown",
   "metadata": {
    "slideshow": {
     "slide_type": "slide"
    }
   },
   "source": [
    "# Uvod u C++ \n",
    "\n",
    "## Alati i Rad sa konzolom\n",
    "\n",
    "#### Aleksandar Minja <br> Mart 2020"
   ]
  },
  {
   "cell_type": "markdown",
   "metadata": {
    "slideshow": {
     "slide_type": "slide"
    }
   },
   "source": [
    "## Uvod\n",
    "\n",
    "### Alati:\n",
    "\n",
    "| Jupyter  | Xeus cling | Python tutor | Code::blocks |\n",
    "| :-----------: | :-----------: | :-----------: | :-----------: |\n",
    "| ![](../images/jp.png)  | ![](../images/xeus-cling.png)  | ![](../images/pyt.png)  | ![](../images/codeblocks-featured.png)  |"
   ]
  },
  {
   "cell_type": "markdown",
   "metadata": {
    "slideshow": {
     "slide_type": "slide"
    }
   },
   "source": [
    "## Komentari"
   ]
  },
  {
   "cell_type": "code",
   "execution_count": 1,
   "metadata": {
    "slideshow": {
     "slide_type": "fragment"
    }
   },
   "outputs": [],
   "source": [
    "//Ovo je jednolinijski komentar"
   ]
  },
  {
   "cell_type": "code",
   "execution_count": 2,
   "metadata": {
    "slideshow": {
     "slide_type": "fragment"
    }
   },
   "outputs": [],
   "source": [
    "/*Ovo \n",
    "je \n",
    "viselinijski \n",
    "komentar*/ "
   ]
  },
  {
   "cell_type": "markdown",
   "metadata": {
    "slideshow": {
     "slide_type": "slide"
    }
   },
   "source": [
    "## Ispis na konzolu (console output)"
   ]
  },
  {
   "cell_type": "markdown",
   "metadata": {
    "slideshow": {
     "slide_type": "notes"
    }
   },
   "source": [
    "## Ispisivanje i čitanje poruka sa komandne linije\n",
    "\n",
    "Programski jezik C++ je baziran i kompatibilan sa programskim jezikom C i sadrži sve C-ove biblioteke, tako da uvek možemo uključiti *stdio.h* zaglavlje i pozvati funkcije **printf()** i **scanf()** za ispis i čitanje vrednosti, respektivno, ali C++ nudi dodatni sloj apstrakcije koji značajno pojednostavlja razvoj i pisanje kompjuterskih programa.\n",
    "\n",
    "Streamovi su apstrakcije \"uređaja\" koji dozvoljavaju pisanje i čitanje. Streamovi su obično asocirani sa fizičkim uređajima poput diska, tastature, mreže ili konzole. Biblioteka za rukovanje sa standardnim \"stream objektima\" se naziva *iostream* i da bi čitali i pisali vrednosti na kozoli potrebno je uključiti zaglavlje *iostream* (primetite da C++ zaglavlja nemaju ekstenziju \".h\"). Dovoljno je samo jednom uključiti neko zaglavlje u Jupyter svesci i ono će biti dostupna do kraja rada sa tom sveskom (ili do restartovanja kernela)."
   ]
  },
  {
   "cell_type": "markdown",
   "metadata": {
    "slideshow": {
     "slide_type": "notes"
    }
   },
   "source": [
    "### Ispis na konzolu\n",
    "\n",
    "Stream objekat za ispis na konzolu se naziva **cout** (console output), i on pripada standardnom imenskom prostoru (**std** namespace), pa zbog toga pišemo \"std::cout\" (gde \"::\" predstavlja *scope* operator). Cout objekat je povezan sa konzolom i svaka poruka prosleđenja **cout** objektu će se pojaviti na korisničkom ekranu. Za ispisivanje poruke koristimo \"<<\" operator (std::cout << \"Poruka\"; - \"Poruka\" se šalje na konzolu). Za prelazak u novi red uvek možemo koristiti specijalni znak '\\n', ali zbog preglednijeg koda, C++ nudi specijalnu poruku za to: **std::endl**. Za bolje razumevanje, pogledajte ovaj primer na [pythontutor](http://www.pythontutor.com/cpp.html#code=%23include%20%3Ciostream%3E%0A%0Aint%20main%28%29%20%7B%0A%20%20std%3A%3Acout%20%3C%3C%20%22Dobrodosli%20na%20predmet%20Razvojni%22%20%0A%20%20%20%20%20%20%20%20%20%20%20%20%3C%3C%20%22Alati%20u%20Telekomunikacijama%22%20%3C%3C%20std%3A%3Aendl%3B%0A%20%20return%200%3B%0A%7D&curInstr=0&mode=display&origin=opt-frontend.js&py=cpp&rawInputLstJSON=%5B%5D) sajtu."
   ]
  },
  {
   "cell_type": "code",
   "execution_count": 3,
   "metadata": {
    "slideshow": {
     "slide_type": "subslide"
    }
   },
   "outputs": [],
   "source": [
    "#include <iostream>"
   ]
  },
  {
   "cell_type": "code",
   "execution_count": 4,
   "metadata": {
    "slideshow": {
     "slide_type": "fragment"
    }
   },
   "outputs": [
    {
     "name": "stdout",
     "output_type": "stream",
     "text": [
      "Dobrodosli na predmet RAuT\n"
     ]
    }
   ],
   "source": [
    "std::cout << \"Dobrodosli na predmet RAuT\" << std::endl;"
   ]
  },
  {
   "cell_type": "markdown",
   "metadata": {
    "slideshow": {
     "slide_type": "slide"
    }
   },
   "source": [
    "## Čitanje sa konzole (console input)"
   ]
  },
  {
   "cell_type": "code",
   "execution_count": 5,
   "metadata": {
    "slideshow": {
     "slide_type": "subslide"
    }
   },
   "outputs": [],
   "source": [
    "char s[30];"
   ]
  },
  {
   "cell_type": "code",
   "execution_count": 6,
   "metadata": {
    "slideshow": {
     "slide_type": "fragment"
    }
   },
   "outputs": [
    {
     "name": "stdout",
     "output_type": "stream",
     "text": [
      "Unesi svoje ime: Minja\n",
      "Pozdrav Minja\n"
     ]
    }
   ],
   "source": [
    "std::cout << \"Unesi svoje ime: \";\n",
    "std::cin >> s;\n",
    "std::cout << \"Pozdrav \" << s << std::endl;"
   ]
  },
  {
   "cell_type": "code",
   "execution_count": 7,
   "metadata": {
    "slideshow": {
     "slide_type": "subslide"
    }
   },
   "outputs": [],
   "source": [
    "int x, y;"
   ]
  },
  {
   "cell_type": "code",
   "execution_count": 8,
   "metadata": {
    "slideshow": {
     "slide_type": "fragment"
    }
   },
   "outputs": [
    {
     "name": "stdout",
     "output_type": "stream",
     "text": [
      "5 7\n",
      "x + y = 12\n"
     ]
    }
   ],
   "source": [
    "std::cin >> x >> y;\n",
    "std::cout << \"x + y = \" << x + y << std::endl;"
   ]
  },
  {
   "cell_type": "markdown",
   "metadata": {
    "slideshow": {
     "slide_type": "slide"
    }
   },
   "source": [
    "## Rezime\n",
    "\n",
    "Komentari:\n",
    "  - Jednolinijski počinju sa `\\\\`\n",
    "  - Višelinijski počinju sa `\\*`, a završavaju se sa znakom `*\\`\n",
    "  \n",
    "Za rad sa konzolom koristimo *streamove*.\n",
    "  - Potrebno je uključiti zaglavnje `#include <iostream>`\n",
    "  - Ispis poruke na konzolu: `std::cout << poruka`\n",
    "  - Prelazak u novi red: `std::endl`\n",
    "  - Čitanje vrednosti sa konzole (i smeštanje vrednosti u promenljivu `x`): `std::cin >> x`."
   ]
  }
 ],
 "metadata": {
  "celltoolbar": "Slideshow",
  "kernelspec": {
   "display_name": "C++17",
   "language": "C++17",
   "name": "xcpp17"
  },
  "language_info": {
   "codemirror_mode": "text/x-c++src",
   "file_extension": ".cpp",
   "mimetype": "text/x-c++src",
   "name": "c++",
   "version": "-std=c++17"
  },
  "rise": {
   "enable_chalkboard": true
  }
 },
 "nbformat": 4,
 "nbformat_minor": 4
}
