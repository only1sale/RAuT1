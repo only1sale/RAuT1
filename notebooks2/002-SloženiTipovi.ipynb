{
 "cells": [
  {
   "cell_type": "markdown",
   "metadata": {
    "slideshow": {
     "slide_type": "slide"
    }
   },
   "source": [
    "# Složeni tipovi\n",
    "\n",
    "#### Aleksandar Minja <br> Mart 2020"
   ]
  },
  {
   "cell_type": "code",
   "execution_count": 1,
   "metadata": {
    "slideshow": {
     "slide_type": "fragment"
    }
   },
   "outputs": [],
   "source": [
    "#include <iostream>"
   ]
  },
  {
   "cell_type": "markdown",
   "metadata": {
    "slideshow": {
     "slide_type": "slide"
    }
   },
   "source": [
    "## Složeni tipovi se dele na:\n",
    "* Korisnički definisani (*user-defined types*) tipovi\n",
    "    * klase\n",
    "    * strukture\n",
    "    * unije\n",
    "* Ostali složeni tipovi:\n",
    "    * pokazivači\n",
    "    * reference\n",
    "    * nabrajanja (enumerations)\n",
    "    * nizovi \n",
    "    * funkcije"
   ]
  },
  {
   "cell_type": "markdown",
   "metadata": {
    "slideshow": {
     "slide_type": "slide"
    }
   },
   "source": [
    "## Memorija\n",
    "\n",
    "* Memorija: jedan ili više blokova adresabilnih lokacija\n",
    "    * Najmanja jedinica memorije je 1 bajt (8 bita)\n",
    "    * Svaki bajt ima adresu (bajt je adresabilan)\n",
    "    * Blok je niz bajtova bez prekida\n",
    "* Memorijska lokacija je objekat **skalarnog tipa**:\n",
    "    * Aritmetički tipovi (npr. int, char, bool ...)\n",
    "    * pokazivači \n",
    "    * enumeratori"
   ]
  },
  {
   "cell_type": "markdown",
   "metadata": {
    "slideshow": {
     "slide_type": "slide"
    }
   },
   "source": [
    "## Pokazivači i Reference \n",
    "### Mehanizmi za rukovanje memorijskim lokacijama\n",
    "\n",
    "\n",
    "Pokazivač je složen tip koji služi za čuvanje memorijskih adresa. Deklariše se na sledeći način:\n",
    "\n",
    "`[tip] * identifikator;`\n",
    "    \n",
    "Za identifikator se kaže da je \"pokazivač na `[tip]`\" i on čuva početnu adresu nekog podatka tipa `[tip]` (pri čemu to može biti i neki složeni tip ili void). \n",
    "\n",
    "Kao što smo videli, svaki tip ima različitu veličinu, a pokazivač čuva samo adresu prvog bajta, međutim svaki pokazivač zna kolko bajtova \"adresira\" (zna tip na koji pokazuje). \n",
    "\n",
    "Prilikom deklarisanja pokazivača znak `*` se odnosi na identifikator, a ne na `[tip]`.\n"
   ]
  },
  {
   "cell_type": "code",
   "execution_count": 2,
   "metadata": {
    "slideshow": {
     "slide_type": "subslide"
    }
   },
   "outputs": [
    {
     "name": "stdout",
     "output_type": "stream",
     "text": [
      "4 ... 8\n",
      "1 ... 8\n",
      "8 ... 8\n"
     ]
    }
   ],
   "source": [
    "std::cout << sizeof(int) << \" ... \" << sizeof(int*) << std::endl;\n",
    "std::cout << sizeof(char) << \" ... \" << sizeof(char*) << std::endl;\n",
    "std::cout << sizeof(double) << \" ... \" << sizeof(double*) << std::endl;"
   ]
  },
  {
   "cell_type": "markdown",
   "metadata": {
    "slideshow": {
     "slide_type": "slide"
    }
   },
   "source": [
    "## Adresiranje\n",
    "\n",
    "Operator adresiranja (&) vraća adresu promenljive ili izraza. \n",
    "\n",
    "Ukoliko napišemo `& izraz`, bitno je da `izraz` ima mesto u memoriji (tj. da nije privremena vrednost). \n",
    "\n",
    "Ukoliko imamo pokazivač px, da bi pročitali vrednost sačuvanu na lokaciji na koju pokazuje px, potrebno je dereferencirati pokazivač - ovo radimo pomoću znaka `*` - (npr. `*px`). "
   ]
  },
  {
   "cell_type": "code",
   "execution_count": 3,
   "metadata": {
    "slideshow": {
     "slide_type": "subslide"
    }
   },
   "outputs": [],
   "source": [
    "int x = 5, y = 7;\n",
    "int *px = &x, *py = &y;"
   ]
  },
  {
   "cell_type": "code",
   "execution_count": 4,
   "metadata": {
    "slideshow": {
     "slide_type": "fragment"
    }
   },
   "outputs": [
    {
     "name": "stdout",
     "output_type": "stream",
     "text": [
      "5 ... 5\n",
      "7 ... 7\n"
     ]
    }
   ],
   "source": [
    "std::cout << *px << \" ... \" << x << std::endl;\n",
    "std::cout << *py << \" ... \" << y << std::endl;"
   ]
  },
  {
   "cell_type": "code",
   "execution_count": 5,
   "metadata": {
    "slideshow": {
     "slide_type": "fragment"
    }
   },
   "outputs": [],
   "source": [
    "px = py; "
   ]
  },
  {
   "cell_type": "code",
   "execution_count": 6,
   "metadata": {
    "slideshow": {
     "slide_type": "fragment"
    }
   },
   "outputs": [],
   "source": [
    "*px = 9;"
   ]
  },
  {
   "cell_type": "markdown",
   "metadata": {
    "slideshow": {
     "slide_type": "slide"
    }
   },
   "source": [
    "## Pokazivači i konstante -1-\n",
    "\n",
    "1. Pokazivač na konstantu se defeniše na sledeći način (modifikator **const** ide levo od znaka * ):\n",
    "\n",
    "    * **const** &lt; tip &gt; * identifikator;\n",
    "\n",
    "    * &lt; tip &gt; **const** * identifikator;\n",
    "   \n",
    "   Ono na šta pokazivač pokazuje ne može da se menja (bar ne preko pokazivača). \n",
    "\n",
    "\n",
    "2. Konstantan pokazivač se define na sledeći način (modifikator **const** ide desno od znaka * ):\n",
    "\n",
    "    * &lt; tip &gt; * **const** identifikator;\n",
    "\n",
    "   Pokazivač ne može da se menja (da pokazuje na nešto drugo).\n"
   ]
  },
  {
   "cell_type": "markdown",
   "metadata": {
    "slideshow": {
     "slide_type": "subslide"
    }
   },
   "source": [
    "## Pokazivači i konstante -2-\n",
    "\n",
    "\n",
    "3. Konstantan pokazivač na konstantu se definiše na sledeći način:\n",
    "\n",
    "    * **const** &lt; tip &gt; * **const** identifikator;\n",
    "\n",
    "   Ni pokazivač, ni ono na šta pokazivač pokazuje ne može da se menja."
   ]
  },
  {
   "cell_type": "code",
   "execution_count": 7,
   "metadata": {
    "slideshow": {
     "slide_type": "subslide"
    }
   },
   "outputs": [],
   "source": [
    "const int a = 5;\n",
    "const int b = 7;\n",
    "\n",
    "int c = 9;\n",
    "\n",
    "const int *pa;"
   ]
  },
  {
   "cell_type": "code",
   "execution_count": 8,
   "metadata": {
    "slideshow": {
     "slide_type": "fragment"
    }
   },
   "outputs": [
    {
     "name": "stdout",
     "output_type": "stream",
     "text": [
      "6\n"
     ]
    }
   ],
   "source": [
    "pa = &c;\n",
    "c= 6;\n",
    "std::cout << *pa << std::endl;"
   ]
  },
  {
   "cell_type": "code",
   "execution_count": 9,
   "metadata": {
    "slideshow": {
     "slide_type": "fragment"
    }
   },
   "outputs": [
    {
     "name": "stdout",
     "output_type": "stream",
     "text": [
      "6 ... 6\n"
     ]
    }
   ],
   "source": [
    "const int * const pc = &c;\n",
    "std::cout << *pc << \" ... \" << c << std::endl;"
   ]
  },
  {
   "cell_type": "code",
   "execution_count": 10,
   "metadata": {
    "slideshow": {
     "slide_type": "fragment"
    }
   },
   "outputs": [],
   "source": [
    "const int * const pb = &a;"
   ]
  },
  {
   "cell_type": "code",
   "execution_count": 11,
   "metadata": {
    "slideshow": {
     "slide_type": "fragment"
    }
   },
   "outputs": [
    {
     "name": "stdout",
     "output_type": "stream",
     "text": [
      "5\n"
     ]
    }
   ],
   "source": [
    "//pb = &b;\n",
    "std::cout << *pb << std::endl;"
   ]
  },
  {
   "cell_type": "markdown",
   "metadata": {
    "slideshow": {
     "slide_type": "slide"
    }
   },
   "source": [
    "## Reference\n",
    "\n",
    "Reference ne zauzimaju prostor u memoriji i ne može da se dobije adresa na referencu (ne postoji pokazivač na referencu). Reference se ponašaju kao konstantni pokazivači (jednom inicijalizovani, ne mogu da pokazuju na neku drugu proemnljivu) čije se dereferenciranje obavlja automatski - ovo može značajno da pojednostavi kod. "
   ]
  },
  {
   "cell_type": "code",
   "execution_count": 12,
   "metadata": {
    "slideshow": {
     "slide_type": "subslide"
    }
   },
   "outputs": [],
   "source": [
    "int o = 5, p = 7;"
   ]
  },
  {
   "cell_type": "code",
   "execution_count": 13,
   "metadata": {
    "slideshow": {
     "slide_type": "fragment"
    }
   },
   "outputs": [],
   "source": [
    "int &ro = o;\n",
    "int &rp = p;"
   ]
  },
  {
   "cell_type": "code",
   "execution_count": 14,
   "metadata": {
    "slideshow": {
     "slide_type": "fragment"
    }
   },
   "outputs": [
    {
     "name": "stdout",
     "output_type": "stream",
     "text": [
      "5 ... 5\n",
      "7 ... 7\n"
     ]
    }
   ],
   "source": [
    "std::cout << ro << \" ... \" << o << std::endl;\n",
    "std::cout << rp << \" ... \" << p << std::endl;"
   ]
  },
  {
   "cell_type": "code",
   "execution_count": 15,
   "metadata": {
    "slideshow": {
     "slide_type": "fragment"
    }
   },
   "outputs": [],
   "source": [
    "o = 345;\n",
    "p = 221;  "
   ]
  },
  {
   "cell_type": "code",
   "execution_count": 16,
   "metadata": {
    "slideshow": {
     "slide_type": "fragment"
    }
   },
   "outputs": [],
   "source": [
    "ro = rp; "
   ]
  },
  {
   "cell_type": "code",
   "execution_count": 17,
   "metadata": {
    "slideshow": {
     "slide_type": "fragment"
    }
   },
   "outputs": [],
   "source": [
    "o = 1117;\n",
    "rp = o;"
   ]
  },
  {
   "cell_type": "markdown",
   "metadata": {
    "slideshow": {
     "slide_type": "slide"
    }
   },
   "source": [
    "## Nabrajanja (Enum-i)\n",
    "\n",
    "Nabrajanja (enumeracije) služi za dodeljivanje imena (koja čine program razumljivijim) celobrojnim vrednostima. Za definisanje nabrajanja koristi se ključna reč enum. Svakom imenu se dodeljuje jedna celobrojna vrednost. Prvom imenu se dodeljuje vrednost 0 (sem ako drugačije nije navedeno) i svako sledeće ime dobija vrednost za jedan veću od prethodne."
   ]
  },
  {
   "cell_type": "code",
   "execution_count": 18,
   "metadata": {
    "slideshow": {
     "slide_type": "subslide"
    }
   },
   "outputs": [],
   "source": [
    "enum Dani {Pon = 1, Uto, Sre, Cet, Pet, Sub = 16, Ned };\n",
    "Dani dan;"
   ]
  },
  {
   "cell_type": "code",
   "execution_count": 19,
   "metadata": {
    "slideshow": {
     "slide_type": "fragment"
    }
   },
   "outputs": [
    {
     "name": "stdout",
     "output_type": "stream",
     "text": [
      "17\n"
     ]
    }
   ],
   "source": [
    "dan = Ned;\n",
    "std::cout << dan << std::endl;"
   ]
  },
  {
   "cell_type": "markdown",
   "metadata": {
    "slideshow": {
     "slide_type": "slide"
    }
   },
   "source": [
    "## Nizovi\n",
    "\n",
    "Niz je uređena struktura podataka međusobno jednakih tipova, koji se nazivaju elementi niza. U memoriji, niz je predstavljen neprekidnim blokom memorijskih lokacija u kojima su elemnti niza smešteni jedan iza drugog. Niz se deklariše na sledeći način:\n",
    "\n",
    "`<tip> identifikator[N];` // N predstavlja broj el. u nizu i mora da bude celobrojni konstantni broj\n",
    "\n",
    "Niz može da se inicijalizuje pomoću inicijalizacione liste, pri čemu, u slučaju da ima manje vrednosti nego elemenata niza, ostali elementi će biti postavljeni na nulu. \n",
    "\n",
    "`<tip> identifikator[N] = {E1, E2};` // E1 i E2 predstavljaju neke vrednosti tipa  &lt; tip &gt;"
   ]
  },
  {
   "cell_type": "code",
   "execution_count": 20,
   "metadata": {
    "slideshow": {
     "slide_type": "subslide"
    }
   },
   "outputs": [],
   "source": [
    "int niz[3] = {7, 9};"
   ]
  },
  {
   "cell_type": "code",
   "execution_count": 21,
   "metadata": {
    "slideshow": {
     "slide_type": "fragment"
    }
   },
   "outputs": [
    {
     "name": "stdout",
     "output_type": "stream",
     "text": [
      "12 ... 12\n",
      "7\n",
      "9\n",
      "0\n"
     ]
    }
   ],
   "source": [
    "std::cout << sizeof(niz) << \" ... \" << sizeof(int)*3 << std::endl;\n",
    "std::cout << niz[0] << std::endl;\n",
    "std::cout << niz[1] << std::endl;\n",
    "std::cout << niz[2] << std::endl;"
   ]
  },
  {
   "cell_type": "markdown",
   "metadata": {
    "slideshow": {
     "slide_type": "slide"
    }
   },
   "source": [
    "## New i Delete\n",
    "\n",
    "Ovako definisan niz se alocira na stack-u (statička memorija), i broj elemenata mora biti fiksan i poznat pre pokretanja programa. U slučaju da ne znamo unapred broj elemenata niza, moguće je dinamički alocirati niz na heap-u (dinamička memorija) pomoću operatora **new**. Operaor **new** vraća pokazivač na memorijsku lokaciju na heap-u. Sve promenljive alocirane pomoću operatora **new**, moraju biti oslobođene pomoću operatora **delete**, u suprotnom dolazi do tkz. curenja memorije. **new** i **delete** su zamena za funkcije **malloc()** i **free()**. "
   ]
  },
  {
   "cell_type": "code",
   "execution_count": 22,
   "metadata": {
    "slideshow": {
     "slide_type": "subslide"
    }
   },
   "outputs": [],
   "source": [
    "int nx = 5;\n",
    "int *pnx = new int(nx);\n",
    "int *pny = new int;\n",
    "pny = &nx;"
   ]
  },
  {
   "cell_type": "code",
   "execution_count": 23,
   "metadata": {
    "slideshow": {
     "slide_type": "fragment"
    }
   },
   "outputs": [
    {
     "name": "stdout",
     "output_type": "stream",
     "text": [
      "5 ... 5\n",
      "5 ... 5\n"
     ]
    }
   ],
   "source": [
    "std::cout << *pnx << \" ... \" << nx << std::endl;\n",
    "std::cout << *pny << \" ... \" << nx << std::endl;"
   ]
  },
  {
   "cell_type": "code",
   "execution_count": 24,
   "metadata": {
    "slideshow": {
     "slide_type": "fragment"
    }
   },
   "outputs": [],
   "source": [
    "*pnx = 8;\n",
    "*pny = 7; "
   ]
  },
  {
   "cell_type": "code",
   "execution_count": 25,
   "metadata": {
    "slideshow": {
     "slide_type": "subslide"
    }
   },
   "outputs": [],
   "source": [
    "int *niz2 = new int[5];"
   ]
  },
  {
   "cell_type": "code",
   "execution_count": 26,
   "metadata": {
    "slideshow": {
     "slide_type": "fragment"
    }
   },
   "outputs": [],
   "source": [
    "niz2[0] = niz2[1] = niz2[2] = niz2[3] = niz2[4] = 5;\n",
    "*(niz2 + 3) = 4;\n",
    "*(niz2 + 4) = 7;"
   ]
  },
  {
   "cell_type": "code",
   "execution_count": 27,
   "metadata": {
    "slideshow": {
     "slide_type": "fragment"
    }
   },
   "outputs": [
    {
     "name": "stdout",
     "output_type": "stream",
     "text": [
      "1. 5\n",
      "2. 5\n",
      "3. 5\n",
      "4. 4\n",
      "5. 7\n",
      "Velicina niza: 8 ... 20\n"
     ]
    }
   ],
   "source": [
    "std::cout << \"1. \" << niz2[0] << std::endl;\n",
    "std::cout << \"2. \" << niz2[1] << std::endl;\n",
    "std::cout << \"3. \" << niz2[2] << std::endl;\n",
    "std::cout << \"4. \" << niz2[3] << std::endl;\n",
    "std::cout << \"5. \" << niz2[4] << std::endl;\n",
    "\n",
    "std::cout << \"Velicina niza: \" << sizeof(niz2) << \" ... \" << sizeof(int)*5 << std::endl;\n",
    "delete []niz2;"
   ]
  },
  {
   "cell_type": "code",
   "execution_count": 28,
   "metadata": {
    "slideshow": {
     "slide_type": "subslide"
    }
   },
   "outputs": [
    {
     "name": "stdout",
     "output_type": "stream",
     "text": [
      "1 2 \n",
      "3 4 \n",
      "5 6 \n"
     ]
    }
   ],
   "source": [
    "int niz3[3][2] = {{1,2},{3,4},{5,6}};\n",
    "for(auto i = 0; i < 3; ++i) {\n",
    "    for(auto j = 0; j < 2; ++j) {\n",
    "        std::cout << niz3[i][j] << \" \";\n",
    "    }\n",
    "    std::cout << std::endl;\n",
    "}"
   ]
  },
  {
   "cell_type": "code",
   "execution_count": 29,
   "metadata": {
    "slideshow": {
     "slide_type": "fragment"
    }
   },
   "outputs": [
    {
     "name": "stdout",
     "output_type": "stream",
     "text": [
      "0 \n",
      "0 1 \n",
      "0 1 2 \n"
     ]
    }
   ],
   "source": [
    "int *arr[3];\n",
    "\n",
    "for(auto i = 0; i < 3; ++i){\n",
    "    arr[i] = new int[i+1];\n",
    "    for(auto j = 0; j <= i; ++j){\n",
    "        arr[i][j] = j;\n",
    "    }\n",
    "}\n",
    "\n",
    "for(auto i = 0; i <3; ++i){\n",
    "    for(auto j = 0; j < i + 1; ++j){\n",
    "        std::cout << arr[i][j] << \" \";\n",
    "    }\n",
    "    std::cout << std::endl;\n",
    "}"
   ]
  },
  {
   "cell_type": "markdown",
   "metadata": {
    "slideshow": {
     "slide_type": "slide"
    }
   },
   "source": [
    "## Strukture\n",
    "\n",
    "Struktura predstavlja uređeni skup promenlivih, koji za razliku od niza, ne moraju biti istog tipa. \n",
    "\n",
    "Strukture (ili klase) igraju mnogo značajniju ulogu u C++-u i u objektno orijentisanom programiranju (OOP) generalno, te su značajno unapređene u odnosu na C strukture. Prva značajna razlika jeste ta što je definicija sturkture pojednostavljena (nema typedef). \n",
    "\n",
    "Veličina strukture je bar koliko i zbir veličina svih promenljivih koje pripadaju strukturi (atributi ili polja), mada može biti i nešto veća (radi se poravnanje promenljivih). Prilikom definisanja instance strukture, može da se koristi inicijalizaciona lista (slično kao kod nizova). \n",
    "\n",
    "Za pristup atributima strukture, koristi se operator tačka (\".\"). "
   ]
  },
  {
   "cell_type": "code",
   "execution_count": 30,
   "metadata": {
    "slideshow": {
     "slide_type": "subslide"
    }
   },
   "outputs": [],
   "source": [
    "struct S1 {\n",
    "    int a;\n",
    "    int b;\n",
    "    int c;\n",
    "};\n",
    "\n",
    "struct S2{\n",
    "    int a;\n",
    "    char b;\n",
    "    double c;\n",
    "};\n",
    "S1 s1 = {1, 3};"
   ]
  },
  {
   "cell_type": "code",
   "execution_count": 31,
   "metadata": {
    "slideshow": {
     "slide_type": "fragment"
    }
   },
   "outputs": [
    {
     "name": "stdout",
     "output_type": "stream",
     "text": [
      "Veličina s1: 12 <--> 12\n",
      "Strktura s1: 1, 3, 0\n"
     ]
    }
   ],
   "source": [
    "std::cout << \"Veličina s1: \" << sizeof(s1) << \" <--> \" << sizeof(int)*3 << std::endl;\n",
    "std::cout << \"Strktura s1: \" << s1.a << \", \" << s1.b << \", \" << s1.c << std::endl;"
   ]
  },
  {
   "cell_type": "code",
   "execution_count": 32,
   "metadata": {
    "slideshow": {
     "slide_type": "fragment"
    }
   },
   "outputs": [],
   "source": [
    "S2 s2 = {1, 'c', 0.};"
   ]
  },
  {
   "cell_type": "code",
   "execution_count": 33,
   "metadata": {
    "slideshow": {
     "slide_type": "fragment"
    }
   },
   "outputs": [
    {
     "name": "stdout",
     "output_type": "stream",
     "text": [
      "Veličina s2: 16 <--> 13\n",
      "Strktura s2: 1, c, 0\n"
     ]
    }
   ],
   "source": [
    "std::cout << \"Veličina s2: \" << sizeof(s2) << \" <--> \" << (sizeof(int) + sizeof(char) + sizeof(double)) << std::endl;\n",
    "std::cout << \"Strktura s2: \" << s2.a << \", \" << s2.b << \", \" << s2.c << std::endl;"
   ]
  },
  {
   "cell_type": "code",
   "execution_count": 34,
   "metadata": {
    "slideshow": {
     "slide_type": "subslide"
    }
   },
   "outputs": [],
   "source": [
    "S2 *s3 = &s2;\n",
    "s3 -> a = 5;\n",
    "s3 -> b = 'x';\n",
    "s3 -> c = 9.;"
   ]
  },
  {
   "cell_type": "code",
   "execution_count": 35,
   "metadata": {
    "slideshow": {
     "slide_type": "fragment"
    }
   },
   "outputs": [
    {
     "name": "stdout",
     "output_type": "stream",
     "text": [
      "Strktura s3: 5, x, 9\n"
     ]
    }
   ],
   "source": [
    "std::cout << \"Strktura s3: \" << s3 -> a << \", \" << s3 -> b << \", \" << s3 -> c << std::endl;"
   ]
  },
  {
   "cell_type": "markdown",
   "metadata": {
    "slideshow": {
     "slide_type": "slide"
    }
   },
   "source": [
    "## Enum Strukture (Bezbedni enumeratori)\n",
    "\n",
    "Enum strukture, često nazvani i scoped enumerators, su bezbedni enumeratori koji ne mogu da se porede sa drugim enumima ili celobrojnim vrednostima već samo sa instancama iste enum strukture. Ukoliko želimo da ispišemo vrednost nekog scoped enuma ili da ga poredimo sa celim brojem, moram da ga kastujemo u int."
   ]
  },
  {
   "cell_type": "code",
   "execution_count": 36,
   "metadata": {
    "slideshow": {
     "slide_type": "subslide"
    }
   },
   "outputs": [],
   "source": [
    "enum boje {Crvena, Plava, Zuta = 3, Zelena}; //Klasicni enum"
   ]
  },
  {
   "cell_type": "code",
   "execution_count": 37,
   "metadata": {
    "slideshow": {
     "slide_type": "fragment"
    }
   },
   "outputs": [
    {
     "name": "stdout",
     "output_type": "stream",
     "text": [
      "Crvena: 0 == 0: 1\n",
      "Plava:  1 == 1: 1\n",
      "Zuta:   3 == 2: 0\n",
      "Zuta:   3 == 3: 1\n",
      "Zelena: 4 == 4: 1\n"
     ]
    }
   ],
   "source": [
    "std::cout << \"Crvena: \" << Crvena << \" == 0: \" << (Crvena == 0) << std::endl;\n",
    "std::cout << \"Plava:  \" << Plava  << \" == 1: \" << (Plava  == 1) << std::endl;\n",
    "std::cout << \"Zuta:   \" << Zuta   << \" == 2: \" << (Zuta   == 2) << std::endl;\n",
    "std::cout << \"Zuta:   \" << Zuta   << \" == 3: \" << (Zuta   == 3) << std::endl;\n",
    "std::cout << \"Zelena: \" << Zelena << \" == 4: \" << (Zelena == 4) << std::endl;"
   ]
  },
  {
   "cell_type": "code",
   "execution_count": 38,
   "metadata": {
    "slideshow": {
     "slide_type": "subslide"
    }
   },
   "outputs": [],
   "source": [
    "enum struct Boje { Crvena, Plava, Zuta = 3 , Zelena}; //Scoped enum\n",
    "Boje bb = Boje::Zuta;"
   ]
  },
  {
   "cell_type": "code",
   "execution_count": 39,
   "metadata": {
    "slideshow": {
     "slide_type": "fragment"
    }
   },
   "outputs": [
    {
     "name": "stdout",
     "output_type": "stream",
     "text": [
      "Boja b je Zuta: 1\n",
      "Broj Zute je: 3\n"
     ]
    }
   ],
   "source": [
    "std::cout << \"Boja b je Zuta: \" << (bb == Boje::Zuta) << std::endl;\n",
    "std::cout << \"Broj Zute je: \" << (int)bb << std::endl;"
   ]
  },
  {
   "cell_type": "code",
   "execution_count": 40,
   "metadata": {
    "slideshow": {
     "slide_type": "fragment"
    }
   },
   "outputs": [
    {
     "name": "stdout",
     "output_type": "stream",
     "text": [
      "Crvena: 0 == 0: 1\n",
      "Plava:  1 == 1: 1\n",
      "Zuta:   3 == 2: 0\n",
      "Zelena: 4 == 4: 1\n"
     ]
    }
   ],
   "source": [
    "std::cout << \"Crvena: \" << (int)Boje::Crvena << \" == 0: \" << ((int)Boje::Crvena == 0) << std::endl;\n",
    "std::cout << \"Plava:  \" << (int)Boje::Plava  << \" == 1: \" << ((int)Boje::Plava  == 1) << std::endl;\n",
    "std::cout << \"Zuta:   \" << (int)Boje::Zuta   << \" == 2: \" << ((int)Boje::Zuta   == 2) << std::endl;\n",
    "std::cout << \"Zelena: \" << (int)Boje::Zelena << \" == 4: \" << ((int)Boje::Zelena == 4) << std::endl;"
   ]
  },
  {
   "cell_type": "markdown",
   "metadata": {
    "slideshow": {
     "slide_type": "slide"
    }
   },
   "source": [
    "## Bit Polja (Bitfields)\n",
    "\n",
    "Celobrojna polja struktura ne moraju da koriste sve bite, već samo par bita. To radimo tako što nakon deklaracije polja koristimo dvotačku i broj bita koji želimo da koristimo (npr. unsigned x : 3). Ovo je korisno za pravljenje flagova - unutrašnje stanje strukture. Takođe možemo ostaviti neke bite praznim, ili definisati dva (ili više) bit polja nad istim celobrojnim podatkom."
   ]
  },
  {
   "cell_type": "code",
   "execution_count": 41,
   "metadata": {
    "slideshow": {
     "slide_type": "subslide"
    }
   },
   "outputs": [],
   "source": [
    "struct S3 {\n",
    "    unsigned x:5;\n",
    "    // will usually occupy 2 bytes:\n",
    "    // 3 bits: value of b1\n",
    "    // 2 bits: unused\n",
    "    // 6 bits: value of b2\n",
    "    // 2 bits: value of b3\n",
    "    // 3 bits: unused\n",
    "    unsigned char b1 : 3, : 2, b2 : 6, b3 : 2;\n",
    "};"
   ]
  },
  {
   "cell_type": "code",
   "execution_count": 42,
   "metadata": {
    "slideshow": {
     "slide_type": "fragment"
    }
   },
   "outputs": [],
   "source": [
    "S3 ss = {30};"
   ]
  },
  {
   "cell_type": "code",
   "execution_count": 43,
   "metadata": {
    "slideshow": {
     "slide_type": "fragment"
    }
   },
   "outputs": [
    {
     "name": "stdout",
     "output_type": "stream",
     "text": [
      "30\n",
      "31\n",
      "0\n",
      "1\n"
     ]
    }
   ],
   "source": [
    "std::cout << (ss.x++) << std::endl;\n",
    "std::cout << (ss.x++) << std::endl;\n",
    "std::cout << (ss.x++) << std::endl;\n",
    "std::cout << (ss.x++) << std::endl;"
   ]
  },
  {
   "cell_type": "markdown",
   "metadata": {
    "slideshow": {
     "slide_type": "slide"
    }
   },
   "source": [
    "## Unije\n",
    "\n",
    "Unija je struktura gde se svi atributi (polja) preklapaju u memoriji. Unija je velika koliko i najveći atirbut. Kažemo da unija u svakom trenutku sadrži samo jedan od svojih atributa."
   ]
  },
  {
   "cell_type": "code",
   "execution_count": 44,
   "metadata": {
    "slideshow": {
     "slide_type": "subslide"
    }
   },
   "outputs": [],
   "source": [
    "union U1 {\n",
    "    char x; //1 bajt\n",
    "    unsigned y; //4 bajta\n",
    "    double z; //8 bajta\n",
    "};"
   ]
  },
  {
   "cell_type": "code",
   "execution_count": 45,
   "metadata": {
    "slideshow": {
     "slide_type": "fragment"
    }
   },
   "outputs": [],
   "source": [
    "U1 u = {'x'}; //Inicijalizujemo samo prvi el. unije"
   ]
  },
  {
   "cell_type": "code",
   "execution_count": 46,
   "metadata": {
    "slideshow": {
     "slide_type": "fragment"
    }
   },
   "outputs": [
    {
     "name": "stdout",
     "output_type": "stream",
     "text": [
      "8 <--> 13\n"
     ]
    }
   ],
   "source": [
    "std::cout << sizeof(U1) << \" <--> \" << (sizeof(char) + sizeof(unsigned) + sizeof(double)) << std::endl;"
   ]
  },
  {
   "cell_type": "code",
   "execution_count": 47,
   "metadata": {
    "slideshow": {
     "slide_type": "fragment"
    }
   },
   "outputs": [
    {
     "name": "stdout",
     "output_type": "stream",
     "text": [
      "x\n",
      "120\n",
      "5.92879e-322\n"
     ]
    }
   ],
   "source": [
    "std::cout << u.x << std::endl; \n",
    "std::cout << u.y << std::endl; //iskorisceno je prvih 8 bita, zbog x-a\n",
    "std::cout << u.z << std::endl;"
   ]
  },
  {
   "cell_type": "code",
   "execution_count": 48,
   "metadata": {
    "slideshow": {
     "slide_type": "subslide"
    }
   },
   "outputs": [],
   "source": [
    "u.y = 61; //menjamo sve vrednosti, i x i y i z.;"
   ]
  },
  {
   "cell_type": "code",
   "execution_count": 49,
   "metadata": {
    "slideshow": {
     "slide_type": "fragment"
    }
   },
   "outputs": [
    {
     "name": "stdout",
     "output_type": "stream",
     "text": [
      "=\n",
      "61\n",
      "3.0138e-322\n"
     ]
    }
   ],
   "source": [
    "std::cout << u.x << std::endl; \n",
    "std::cout << u.y << std::endl; //iskorisceno je prvih 8 bita, zbog x-a\n",
    "std::cout << u.z << std::endl;"
   ]
  },
  {
   "cell_type": "markdown",
   "metadata": {
    "slideshow": {
     "slide_type": "slide"
    }
   },
   "source": [
    "## Rezime\n",
    "\n",
    "* Korisnički definisani (*user-defined types*) tipovi\n",
    "    * klase\n",
    "    * strukture\n",
    "    * unije\n",
    "* Ostali složeni tipovi:\n",
    "    * pokazivači\n",
    "    * reference\n",
    "    * nabrajanja (enumerations)\n",
    "    * nizovi \n",
    "    * funkcije"
   ]
  }
 ],
 "metadata": {
  "celltoolbar": "Slideshow",
  "kernelspec": {
   "display_name": "C++14",
   "language": "C++14",
   "name": "xcpp14"
  },
  "language_info": {
   "codemirror_mode": "text/x-c++src",
   "file_extension": ".cpp",
   "mimetype": "text/x-c++src",
   "name": "c++",
   "version": "-std=c++14"
  }
 },
 "nbformat": 4,
 "nbformat_minor": 4
}
