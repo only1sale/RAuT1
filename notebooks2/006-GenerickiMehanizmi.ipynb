{
 "cells": [
  {
   "cell_type": "markdown",
   "metadata": {
    "slideshow": {
     "slide_type": "slide"
    }
   },
   "source": [
    "# Generički mehanizmi\n",
    "\n",
    "#### Aleksandar Minja <br> April 2020"
   ]
  },
  {
   "cell_type": "code",
   "execution_count": 1,
   "metadata": {
    "slideshow": {
     "slide_type": "fragment"
    }
   },
   "outputs": [],
   "source": [
    "#include <iostream>\n",
    "#include <typeinfo>\n",
    "#include <vector>"
   ]
  },
  {
   "cell_type": "markdown",
   "metadata": {
    "slideshow": {
     "slide_type": "slide"
    }
   },
   "source": [
    "**<font color=\"blue\">Zadatak:</font>** Definisati skup funkcija koje\n",
    "  1. obavljaju isti skup operacija na potpuno isti način\n",
    "  2. nad različitim tipovima podataka\n",
    "\n",
    "**<font color=\"blue\">Rešenje:</font>** Preklapanje funkcija\n",
    "\n"
   ]
  },
  {
   "cell_type": "code",
   "execution_count": 2,
   "metadata": {
    "slideshow": {
     "slide_type": "fragment"
    }
   },
   "outputs": [],
   "source": [
    "inline auto sqr1(const double &x){ return x*x; }"
   ]
  },
  {
   "cell_type": "code",
   "execution_count": 3,
   "metadata": {
    "slideshow": {
     "slide_type": "fragment"
    }
   },
   "outputs": [],
   "source": [
    "inline auto sqr1(const int &x)   { return x*x; }"
   ]
  },
  {
   "cell_type": "code",
   "execution_count": 4,
   "metadata": {
    "slideshow": {
     "slide_type": "fragment"
    }
   },
   "outputs": [
    {
     "name": "stdout",
     "output_type": "stream",
     "text": [
      "25 <... > i\n",
      "50.41 <... > d\n"
     ]
    }
   ],
   "source": [
    "auto res1 = sqr1(5);\n",
    "auto res2 = sqr1(7.1);\n",
    "\n",
    "std::cout << res1 << \" <... > \" << typeid(res1).name() << std::endl;\n",
    "std::cout << res2 << \" <... > \" << typeid(res2).name() << std::endl;"
   ]
  },
  {
   "cell_type": "markdown",
   "metadata": {
    "slideshow": {
     "slide_type": "slide"
    }
   },
   "source": [
    "**<font color=\"blue\">Problem sa prethodnim rešenjem:</font>** Za svaki tip, moramo pisati identičnu funkciju.\n",
    "\n",
    "- Algoritmi obavljaju obradu nad skupom podataka (svejedno je kog tipa su elementi skupa).\n",
    "- Strukture definišu skup elemenata, ali tipovi elemenata mogu biti različiti (npr. `vektor<>` ili `array<>`).\n",
    "\n",
    "**<font color=\"blue\">Rešenje:</font>** Šabloni!"
   ]
  },
  {
   "cell_type": "markdown",
   "metadata": {
    "slideshow": {
     "slide_type": "slide"
    }
   },
   "source": [
    "## Šabloni i generičko programiranje -1-\n",
    "\n",
    "Šabloni strukture (tzv. kontejnerske strukture)\n",
    "- “parametrizovani tipovi”\n",
    "- “generičke strukture”\n",
    "\n",
    "Šabloni funkcija\n",
    "- “parametrizovane funkcije”\n",
    "- “generičke funkcije”\n",
    "\n",
    "Šablon se definiše tako što se ispred deklaracije/definicije koristi ključne reči `template`, iza koje ide lista argumenata između `<` i `>`(izlomljene zagrade). Opšti oblik šablona za generičke funkcije i strukture:\n",
    "\n",
    "```\n",
    "template < lista_argumenata > deklaracija/definicija\n",
    "```\n",
    "\n",
    "Iz jednog šablona moguće je generisati proizvoljno mnogo konkretnih struktura/funkcija. Proces generisanja odvija se za vreme prevođenja programa, pa time program ne gubi na efikasnosti i obezbeđena je provera tipova. Korišćenje je jednostavno. "
   ]
  },
  {
   "cell_type": "markdown",
   "metadata": {
    "slideshow": {
     "slide_type": "slide"
    }
   },
   "source": [
    "## Šabloni i generičko programiranje -2-\n",
    "\n",
    "- Argumenti šablona\n",
    "  - typename i struct/class\n",
    "    - ključne reči jezika C++\n",
    "    - ravnopravno se koriste\n",
    "  - identifikator_tipa\n",
    "    - identifikator koji se koristi u definiciji šablona klase ili funkcije svuda gde postoji potreba da se označi tip koji unapred nije poznat\n",
    "  - oznaka_tipa\n",
    "    - tip konstante (ograničen na int, pokazivače i reference)\n",
    "  - identifikator_konstante\n",
    "    - identifikator koji se koristi u definiciji šablona klase ili funkcije svuda gde postoji potreba da se označi konstanta koja unapred nije poznata"
   ]
  },
  {
   "cell_type": "markdown",
   "metadata": {
    "slideshow": {
     "slide_type": "slide"
    }
   },
   "source": [
    "## Šabloni i generičko programiranje -3-\n",
    "\n",
    "- Deklaracija šablona može da bude samo globalna\n",
    "  - Više deklaracija istog šablona je dozvoljeno\n",
    "  - Više definicija istog šablona nije dozvoljeno\n",
    "  \n",
    "- Konkretna funkcija generisana iz šablona funkcije naziva se šablonskom funkcijom (template function)\n",
    "\n",
    "- Konkretne funkcije (šablonske) moguće je generisati\n",
    "  - implicitno (kad prevodilac naiđe na prvo pozivanje šablonske funkcije)\n",
    "  - eksplicitno (navođenjem tipova argumenata između `< >`)"
   ]
  },
  {
   "cell_type": "code",
   "execution_count": 5,
   "metadata": {
    "slideshow": {
     "slide_type": "subslide"
    }
   },
   "outputs": [],
   "source": [
    "template <typename T> \n",
    "void whatsMyType(T t) { \n",
    "    std::cout << \"Type of \\\"\" << t << \"\\\" is \"<< typeid(t).name() << std::endl; \n",
    "} "
   ]
  },
  {
   "cell_type": "code",
   "execution_count": 6,
   "metadata": {
    "slideshow": {
     "slide_type": "fragment"
    }
   },
   "outputs": [],
   "source": [
    "int tx = 3; double ty = 3.4; char tz = 'c';  bool tb = true;"
   ]
  },
  {
   "cell_type": "code",
   "execution_count": 7,
   "metadata": {
    "slideshow": {
     "slide_type": "fragment"
    }
   },
   "outputs": [
    {
     "name": "stdout",
     "output_type": "stream",
     "text": [
      "Type of \"3\" is i\n",
      "Type of \"3.4\" is d\n",
      "Type of \"c\" is c\n",
      "Type of \"1\" is b\n"
     ]
    }
   ],
   "source": [
    "//implicitno generisanje \n",
    "whatsMyType(tx);\n",
    "whatsMyType(ty);\n",
    "whatsMyType(tz);\n",
    "whatsMyType<bool>(tb);"
   ]
  },
  {
   "cell_type": "markdown",
   "metadata": {
    "slideshow": {
     "slide_type": "slide"
    }
   },
   "source": [
    "## Implicitno generisanje šablonske funkcije pozivom:\n",
    "\n",
    "```\n",
    "\time_sablona_funkcije < argument1_sablona, ... argumentN_sablona >\n",
    "      ( argument1_funkcije, ... argumentK_funkcije )\n",
    "```\n",
    "\n",
    "- tipovi argumenata šablona funkcije mogu, ali ne moraju da budu zadati parametrima šablona\n",
    "- ponekad se tipovi argumenata šablona mogu jednoznačno odrediti iz tipova argumenata funkcije, tada se odgovarajući argumenti šablona mogu izostaviti prilikom poziva\n",
    "- ako se tip povratne vrednosti šablona funkcije zada parametrom šablona, tada se on nikada ne može izostaviti prilikom poziva šablonske funkcije\n",
    "\n",
    "- Dozvoljeno je istovremeno postojanje obične (ne-generičke) funkcije sa određenim zaglavljem i šablona funkcije na osnovu kojeg može da se generiše funkcija sa istim zaglavljem\n",
    "- U tom slučaju ukoliko pozovemo datu funkciju bez argumenata šablona pozvaće se obična (ne-generička) funkcija ukoliko se navedu argumenti šablona pozvaće se generisana šablonska funkcija\n"
   ]
  },
  {
   "cell_type": "markdown",
   "metadata": {
    "slideshow": {
     "slide_type": "slide"
    }
   },
   "source": [
    "## Eksplicitno generisanje šablonske funkcije, bez pozivanja iste\n",
    "\n",
    "```\n",
    "template ime_sablona_funkcije <lista_stvarnih_argumenata_sablona>(lista_formalnih_argumenata_funkcije);\n",
    "```\n",
    "\n",
    "Ukoliko se iz tipova formalnih argumenata funkcije jednoznačno mogu odrediti argumenti šablona, tada argumente šablona nije neophodno navesti "
   ]
  },
  {
   "cell_type": "code",
   "execution_count": 8,
   "metadata": {
    "slideshow": {
     "slide_type": "slide"
    }
   },
   "outputs": [],
   "source": [
    "unsigned long long tk = 3ULL;"
   ]
  },
  {
   "cell_type": "code",
   "execution_count": 9,
   "metadata": {
    "slideshow": {
     "slide_type": "fragment"
    }
   },
   "outputs": [],
   "source": [
    "//eksplicitno generisanje \n",
    "template void whatsMyType<unsigned long long>(unsigned long long t);"
   ]
  },
  {
   "cell_type": "code",
   "execution_count": 10,
   "metadata": {
    "slideshow": {
     "slide_type": "fragment"
    }
   },
   "outputs": [
    {
     "name": "stdout",
     "output_type": "stream",
     "text": [
      "Type of \"3\" is y\n"
     ]
    }
   ],
   "source": [
    "whatsMyType(tk);"
   ]
  },
  {
   "cell_type": "code",
   "execution_count": 11,
   "metadata": {
    "slideshow": {
     "slide_type": "fragment"
    }
   },
   "outputs": [],
   "source": [
    "template <typename T> T max(const T &a, const T &b) { return a > b ? a : b; }"
   ]
  },
  {
   "cell_type": "code",
   "execution_count": 12,
   "metadata": {
    "slideshow": {
     "slide_type": "fragment"
    }
   },
   "outputs": [],
   "source": [
    "char max(const char&, const char &); //eksplicitno generisanje;"
   ]
  },
  {
   "cell_type": "code",
   "execution_count": 13,
   "metadata": {
    "slideshow": {
     "slide_type": "fragment"
    }
   },
   "outputs": [
    {
     "name": "stdout",
     "output_type": "stream",
     "text": [
      "5.7\n",
      "5\n",
      "c\n"
     ]
    },
    {
     "data": {
      "text/plain": [
       "@0x7fd25fbd3b40"
      ]
     },
     "execution_count": 13,
     "metadata": {},
     "output_type": "execute_result"
    }
   ],
   "source": [
    "std::cout << max(4.3, 5.7) << std::endl; //implicitno\n",
    "std::cout << max<int>(3, 5) << std::endl; \n",
    "std::cout << max('a', 'c') << std::endl; //eksplicitno generisana funkcija gore"
   ]
  },
  {
   "cell_type": "markdown",
   "metadata": {
    "slideshow": {
     "slide_type": "notes"
    }
   },
   "source": [
    "Celi broj može da se koristi kao konsantni argument šablonske funkcije."
   ]
  },
  {
   "cell_type": "code",
   "execution_count": 14,
   "metadata": {
    "slideshow": {
     "slide_type": "slide"
    }
   },
   "outputs": [],
   "source": [
    "template <int p>\n",
    "bool isPrime(){\n",
    "    for(auto i = 2; i <= p/2; i++)  \n",
    "        if(p % i == 0) \n",
    "            return false;\n",
    "    return true;\n",
    "}"
   ]
  },
  {
   "cell_type": "code",
   "execution_count": 15,
   "metadata": {
    "slideshow": {
     "slide_type": "fragment"
    }
   },
   "outputs": [
    {
     "name": "stdout",
     "output_type": "stream",
     "text": [
      "prime 11: 1\n",
      "prime 1211: 0\n"
     ]
    }
   ],
   "source": [
    "//eksplicitno generisanje \n",
    "std::cout << \"prime 11: \" << isPrime<11>() << std::endl;\n",
    "std::cout << \"prime 1211: \" << isPrime<1211>() << std::endl;"
   ]
  },
  {
   "cell_type": "markdown",
   "metadata": {
    "slideshow": {
     "slide_type": "notes"
    }
   },
   "source": [
    "Prednost gornje funkcije jeste što će se provera da li je dati broj prost uraditi prilikom prevođenja programa. Postoje bolji (i bezbedniji) mehanizmi za evaluaciju funkcija prilikom prevođenja, i ne treba se oslanjati na template-e za to!"
   ]
  },
  {
   "cell_type": "markdown",
   "metadata": {
    "slideshow": {
     "slide_type": "slide"
    }
   },
   "source": [
    "### Variadic templates\n",
    "\n",
    "Član `Args... args` se zove `pack` (opcioni) parametar, a šablon sa bar jednim pack parametrom se zove *variadic template*. Variadička funkcija prima proizvoljni broj argumenata. Najjednostavniji način za otpakivanje `pack` parametra jeste rekurzivni poziv. "
   ]
  },
  {
   "cell_type": "code",
   "execution_count": 16,
   "metadata": {
    "slideshow": {
     "slide_type": "fragment"
    }
   },
   "outputs": [],
   "source": [
    "template<typename T>\n",
    "T sabirac(T v) {\n",
    "  return v;\n",
    "}\n",
    "\n",
    "template<typename T, typename... Args>\n",
    "T sabirac(T first, Args... args) {\n",
    "  return first + sabirac(args...);\n",
    "}"
   ]
  },
  {
   "cell_type": "code",
   "execution_count": 18,
   "metadata": {
    "slideshow": {
     "slide_type": "fragment"
    }
   },
   "outputs": [
    {
     "name": "stdout",
     "output_type": "stream",
     "text": [
      "15\n",
      "28\n"
     ]
    }
   ],
   "source": [
    "std::cout << sabirac(1, 2, 3, 4, 5) << std::endl;\n",
    "std::cout << sabirac(1, 2, 3, 4, 5, 6, 7) << std::endl;"
   ]
  },
  {
   "cell_type": "markdown",
   "metadata": {
    "slideshow": {
     "slide_type": "slide"
    }
   },
   "source": [
    "### Kontejneri\n",
    "\n",
    "Strukture takođe mogu biti templarizovane (kontejnerske strukture). Isto mogu da se generišu eksplicitno i inplicitno (kad se prvi put naiđe na objekat šablonske klase). \n",
    "\n",
    "**Primer:** Stack je abstraktna struktura podataka (LIFO - Last In First Out) koja dozvoljava dodavanje elementa na kraj stacka (`push()`) i uklanjanje elementa sa kraja stack-a (`pop`). Elementi stacka mogu biti bilo kog tipa."
   ]
  },
  {
   "cell_type": "code",
   "execution_count": 19,
   "metadata": {
    "slideshow": {
     "slide_type": "slide"
    }
   },
   "outputs": [],
   "source": [
    "template<typename T, int Max>\n",
    "struct stack {\n",
    "    int top;\n",
    "    T niz[Max];\n",
    "    \n",
    "    stack() {\n",
    "        top = 0;\n",
    "    }\n",
    "    \n",
    "    void push(T t) {\n",
    "        if(top < Max)\n",
    "            niz[top++] = t;\n",
    "        else\n",
    "            std::cerr << \"Greska: Stack is full!\" << std::endl;\n",
    "    }\n",
    "    \n",
    "    T pop() {\n",
    "        if(top > 0)\n",
    "            return niz[--top];\n",
    "        else\n",
    "            std::cerr << \"Greska: Stack is empty!\" << std::endl;\n",
    "        return T(0);\n",
    "    }\n",
    "    \n",
    "    void print() const {\n",
    "        for(auto i = 0; i < top; ++i)\n",
    "            std::cout << niz[i] << \" \";\n",
    "    }\n",
    "    \n",
    "};"
   ]
  },
  {
   "cell_type": "code",
   "execution_count": 20,
   "metadata": {
    "slideshow": {
     "slide_type": "subslide"
    }
   },
   "outputs": [
    {
     "name": "stderr",
     "output_type": "stream",
     "text": [
      "Greska: Stack is empty!\n",
      "Greska: Stack is full!\n"
     ]
    },
    {
     "name": "stdout",
     "output_type": "stream",
     "text": [
      "5 3 8 7 9 \n",
      "Poping: 9 7 8\n",
      "5 3 "
     ]
    }
   ],
   "source": [
    "stack<int,5> intStack;\n",
    "intStack.pop();\n",
    "intStack.push(5);\n",
    "intStack.push(3);\n",
    "intStack.push(8);\n",
    "intStack.push(7);\n",
    "intStack.push(9);\n",
    "intStack.push(1);\n",
    "intStack.print();\n",
    "std::cout << std::endl << \"Poping: \" << intStack.pop() << \" \" \n",
    "                                     << intStack.pop() << \" \" \n",
    "                                     << intStack.pop() << std::endl;\n",
    "intStack.print();"
   ]
  },
  {
   "cell_type": "markdown",
   "metadata": {
    "slideshow": {
     "slide_type": "slide"
    }
   },
   "source": [
    "**Implicitno generisanje šablonske strukture**\n",
    "\n",
    "```\n",
    "\time_sablona_strukture < argument1_sablona, ... argumentN_sablona >\n",
    "      \t\t\t\t\tobjekat_1 [, objekat_N] ;\n",
    "```\n",
    "\n",
    "\n",
    "- Identifikator ovakve strukture potpuno je ravnopravan imenima običnih struktura\n",
    "   - može se koristiti na svim mestima na kojima je dozvoljeno korišćenje imena tipa\n",
    "- Tipovi stvarnih argumenata šablona moraju se u potpunosti poklapati sa tipovima formalnih argumenata šablona"
   ]
  },
  {
   "cell_type": "markdown",
   "metadata": {
    "slideshow": {
     "slide_type": "slide"
    }
   },
   "source": [
    "**Eksplicitno generisanje šablonske strukture**\n",
    "   - bez definisanja objekta strukture\n",
    "```\n",
    "     template ime_sablona_klase < lista_stvarnih_argumenata_sablona > ;\n",
    "```\n",
    "\n",
    "Ukoliko nas “mrzi” da stalno ponavljamo puno ime šablonske klase možemo koristiti *typedef* ili bolje *using*."
   ]
  },
  {
   "cell_type": "code",
   "execution_count": 21,
   "metadata": {
    "slideshow": {
     "slide_type": "slide"
    }
   },
   "outputs": [],
   "source": [
    "typedef stack<int, 100> dekaStek; //eksplicitno generisanje;\n",
    "using real2Dstack = stack<stack<double, 100>, 100> ; //eksplicitno generisanje;"
   ]
  },
  {
   "cell_type": "code",
   "execution_count": 22,
   "metadata": {
    "slideshow": {
     "slide_type": "fragment"
    }
   },
   "outputs": [],
   "source": [
    "dekaStek s1;\n",
    "real2Dstack s2; "
   ]
  },
  {
   "cell_type": "markdown",
   "metadata": {
    "slideshow": {
     "slide_type": "slide"
    }
   },
   "source": [
    "### Podrazumevane vrednosti\n",
    "\n",
    "Argumenti šablona struktura mogu da imaju podrazumevane vrednosti. Ako se jednom argumentu dodeli podrazumevana vrednost, i svi sledeći argumenti (“desno od njega”) moraju da imaju podrazumevane vrednosti - poput običnih funkcija. Ako je formalni argument šablona tip, podrazumevana vrednost može da bude naziv\n",
    "- ugrađenog tipa\n",
    "- obične (ne-generičke) strukture\n",
    "- generičke klase sa argumentima šablona uokvirenim parom znakova `< i >`"
   ]
  },
  {
   "cell_type": "code",
   "execution_count": 23,
   "metadata": {
    "slideshow": {
     "slide_type": "slide"
    }
   },
   "outputs": [],
   "source": [
    "template < typename A, int M = 10 >\n",
    "struct first { } ;\n",
    "\n",
    "template < typename T, typename R = double, int N = 3 >\n",
    "struct second { } ;\n",
    "\n",
    "template < typename K, typename D = first < K > >\n",
    "struct third { } ;"
   ]
  },
  {
   "cell_type": "code",
   "execution_count": null,
   "metadata": {
    "slideshow": {
     "slide_type": "fragment"
    }
   },
   "outputs": [],
   "source": [
    "first < double, 18 > f1 ;\n",
    "first < double, 10 > f2 ;\n",
    "first < double > f3 ;\n",
    "second < int > se1 ;\n",
    "second < int, float > se2 ;\n",
    "second < int, first < int, 12 > > se3 ;\n",
    "third < char > t1 ;"
   ]
  },
  {
   "cell_type": "markdown",
   "metadata": {
    "slideshow": {
     "slide_type": "slide"
    }
   },
   "source": [
    "## Rezime\n",
    "\n",
    "Šablon se definiše tako što se ispred deklaracije/definicije koristi ključne reči `template`, iza koje ide lista argumenata između `<` i `>`. Opšti oblik šablona za generičke funkcije i strukture:\n",
    "\n",
    "```\n",
    "template < lista_argumenata > deklaracija/definicija\n",
    "```\n",
    "\n",
    "Imamo šablonske strukture i šablonske funkcije.\n",
    "\n",
    "Šabloni se mogu generisati implicitno i eksplicitno. \n",
    "\n",
    "Šabloni mogu imati podrazumevane vrednosti."
   ]
  }
 ],
 "metadata": {
  "celltoolbar": "Slideshow",
  "kernelspec": {
   "display_name": "C++17",
   "language": "C++17",
   "name": "xcpp17"
  },
  "language_info": {
   "codemirror_mode": "text/x-c++src",
   "file_extension": ".cpp",
   "mimetype": "text/x-c++src",
   "name": "c++",
   "version": "-std=c++17"
  }
 },
 "nbformat": 4,
 "nbformat_minor": 2
}
