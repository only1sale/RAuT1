{
 "cells": [
  {
   "cell_type": "markdown",
   "metadata": {
    "slideshow": {
     "slide_type": "slide"
    }
   },
   "source": [
    "# Funkcije\n",
    "\n",
    "#### Aleksandar Minja <br> Mart 2020"
   ]
  },
  {
   "cell_type": "code",
   "execution_count": 2,
   "metadata": {
    "slideshow": {
     "slide_type": "fragment"
    }
   },
   "outputs": [],
   "source": [
    "#include <iostream>\n",
    "#include <string>"
   ]
  },
  {
   "cell_type": "markdown",
   "metadata": {
    "slideshow": {
     "slide_type": "slide"
    }
   },
   "source": [
    "## Funkcije \n",
    "\n",
    "omogućavaju razbijanje programa na manje i jednostavnije delove. Ovo je važno da bi se postigla veća preglednost, bolja razumljivost i lakše održavanje koda. \n",
    "\n",
    "Svaka funkcija se sastoji od\n",
    "* prototipa (zaglavlja) funkcije\n",
    "  * tip povratne vrednosti\n",
    "  * ime funkcije\n",
    "  * lista argumenata\n",
    "* tela funkcije"
   ]
  },
  {
   "cell_type": "markdown",
   "metadata": {
    "slideshow": {
     "slide_type": "slide"
    }
   },
   "source": [
    "## Definicija funkcije\n",
    "\n",
    "Ima sledeći izgled:\n",
    "```\n",
    "[<modifikator> ]  <tip>  ime  ( [<lista_parametara>] )\n",
    "{\n",
    "   [ <niz_naredbi> ]\n",
    "   [ return [ izraz ] ; ]\n",
    "}\n",
    "```\n",
    "Modifikator je opcioni parametar, koji može biti jedna od ključnih reči:\n",
    "* static\n",
    "* extern\n",
    "* inline\n",
    "\n",
    "Tip povratne vrednosti može biti bilo koji primitivni ili korisnički definisan tip, takođe može biti i **auto**. Ime funkcije može biti bilo koja **ne**rezervisana reč dok god se poštuju pravila imenovanja. Lista argumenata predstavlja niz deklaracija parametara funkcije."
   ]
  },
  {
   "cell_type": "code",
   "execution_count": 3,
   "metadata": {
    "slideshow": {
     "slide_type": "subslide"
    }
   },
   "outputs": [],
   "source": [
    "auto max(int x, int y){\n",
    "    return (x >= y) ? x : y;\n",
    "} "
   ]
  },
  {
   "cell_type": "code",
   "execution_count": 4,
   "metadata": {
    "slideshow": {
     "slide_type": "fragment"
    }
   },
   "outputs": [
    {
     "data": {
      "text/plain": [
       "5"
      ]
     },
     "execution_count": 4,
     "metadata": {},
     "output_type": "execute_result"
    }
   ],
   "source": [
    "max(5, 3)"
   ]
  },
  {
   "cell_type": "code",
   "execution_count": 5,
   "metadata": {
    "slideshow": {
     "slide_type": "fragment"
    }
   },
   "outputs": [],
   "source": [
    "void message(std::string s) {\n",
    "    std::cout << \"Message: \" << s << std::endl;\n",
    "} "
   ]
  },
  {
   "cell_type": "code",
   "execution_count": 6,
   "metadata": {
    "slideshow": {
     "slide_type": "fragment"
    }
   },
   "outputs": [
    {
     "name": "stdout",
     "output_type": "stream",
     "text": [
      "Message: Hello\n"
     ]
    }
   ],
   "source": [
    "message(\"Hello\")"
   ]
  },
  {
   "cell_type": "markdown",
   "metadata": {
    "slideshow": {
     "slide_type": "slide"
    }
   },
   "source": [
    "## Deklaracija funkcije\n",
    "\n",
    "Deklaracija se sastoji od zaglavlja funkcije i završava se sa **;**. \n",
    "\n",
    "Služi za uvođenje imena funkcije u program - pre poziva funkcije neophodno je deklarisati funkciju. Definicija je ujedno i deklaracija.\n",
    "\n",
    "```\n",
    "[<modifikator> ] <tip>  ime  ( [<lista_argumenata>] ) ;\n",
    "```\n",
    "\n",
    "U programu može biti više deklaracija funkcije, ali samo jedna definicija! Moguće je da dve funkcije pozivaju jedna drugu. Deklaracijom možemo sakriti realizaciju funkcije od korisnika funkcije (biblioteke) - koncept crne kutije. Definicija jedne funkcije ne može se nalaziti unutar definicije druge funkcije - deklaracija može!\n",
    "Definicija se mora nalaziti u oblasti važenja fajla \n",
    "(file scope)."
   ]
  },
  {
   "cell_type": "code",
   "execution_count": 7,
   "metadata": {
    "slideshow": {
     "slide_type": "subslide"
    }
   },
   "outputs": [],
   "source": [
    "auto max(int x, int y);\n",
    "void message(std::string s);"
   ]
  },
  {
   "cell_type": "markdown",
   "metadata": {
    "slideshow": {
     "slide_type": "slide"
    }
   },
   "source": [
    "## Parametri, argumenti i tela funkcije\n",
    "\n",
    "Lista_parametara predstavlja “ulazne” podatke za funkciju.\n",
    "  - Za svaki parametar mora posebno da se navede tip, i ne može da se koristi automatska dedukcija tipa. \n",
    "\n",
    "Telo funkcije je blok (sekvenca) naredbi - može da sadrži deklarativne i izvršne naredbe. \n",
    "  - Podaci definisani unutar tela funkcije imaju oblast važenja od mesta definisanja do kraja funkcije. \n",
    "  - Parametri se smatraju podacima definisanim na samom početku tela funkcije pre prve naredbe\n",
    "  - Vrednosti parametara na početku bloka (tela funkcije) smatraju se poznatim. \n",
    "  - Povratak iz funkcije u pozivajući program realizuje se naredbom *return*."
   ]
  },
  {
   "cell_type": "code",
   "execution_count": 8,
   "metadata": {
    "slideshow": {
     "slide_type": "subslide"
    }
   },
   "outputs": [],
   "source": [
    "auto suma_kvadrata ( int n )\n",
    "{\n",
    "    if ( n <= 0 )\n",
    "        return 0 ;\n",
    "\n",
    "    int suma = 0 ;\n",
    "  \n",
    "    for (auto i = 1; i <= n; ++ i )\n",
    "        suma += i*i ;\n",
    "\n",
    "    return suma ;\n",
    "}"
   ]
  },
  {
   "cell_type": "code",
   "execution_count": 9,
   "metadata": {
    "slideshow": {
     "slide_type": "fragment"
    }
   },
   "outputs": [
    {
     "data": {
      "text/plain": [
       "55"
      ]
     },
     "execution_count": 9,
     "metadata": {},
     "output_type": "execute_result"
    }
   ],
   "source": [
    "suma_kvadrata(5)"
   ]
  },
  {
   "cell_type": "markdown",
   "metadata": {
    "slideshow": {
     "slide_type": "slide"
    }
   },
   "source": [
    "## Podrazumevane vrednosti parametara\n",
    "\n",
    "Parametri mogu da imaju podrazumevanu vrednost koja se koristi za inicijalizaciju parametra kada se u pozivu funkcije on ne navede. Mora se paziti da:\n",
    "\n",
    "* Ako se jednom parametru dodeli podrazumevana vrednost, tada i svi parametri nakon njega moraju imati podrazumevane vrednosti\n",
    "* Ukoliko funkcija ima više deklaracija, samo na jednom mestu navedemo podrazumevane vrednosti. Obično se samo prilikom definicije navode podrazumeavne vrednosti, dok se prilikom deklaracije one ne navode. "
   ]
  },
  {
   "cell_type": "code",
   "execution_count": 10,
   "metadata": {
    "slideshow": {
     "slide_type": "subslide"
    }
   },
   "outputs": [],
   "source": [
    "//Funkcija za sabiranje 2, 3, 4 ili 5 brojeva\n",
    "auto saberi(int a, int b, int c = 0, int d = 0, int e = 0) {\n",
    "    return a + b + c + d + e;\n",
    "}"
   ]
  },
  {
   "cell_type": "code",
   "execution_count": 11,
   "metadata": {
    "slideshow": {
     "slide_type": "fragment"
    }
   },
   "outputs": [
    {
     "name": "stdout",
     "output_type": "stream",
     "text": [
      "3 + 5 = 8\n",
      "3 + 5 + 9 = 17\n",
      "3 + 5 + 9 + 7 = 24\n",
      "3 + 5 + 9 + 7 + 8 = 32\n"
     ]
    }
   ],
   "source": [
    "std::cout << \"3 + 5 = \" << saberi(3, 5) << std::endl;\n",
    "std::cout << \"3 + 5 + 9 = \" << saberi(3, 5, 9) << std::endl;\n",
    "std::cout << \"3 + 5 + 9 + 7 = \" << saberi(3, 5, 9, 7) << std::endl;\n",
    "std::cout << \"3 + 5 + 9 + 7 + 8 = \" << saberi(3, 5, 9, 7, 8) << std::endl;"
   ]
  },
  {
   "cell_type": "markdown",
   "metadata": {
    "slideshow": {
     "slide_type": "slide"
    }
   },
   "source": [
    "## Poziv funkcije\n",
    "\n",
    "Za poziv funkcije koristimo operator poziva funkcije \"( )\": ime_funkcije(lista_izraza) - binarni operator (operandi su ime_funkcije i lista_izraza), desne asocijativnosti koji ima veoma visok prioritet. Asocijativnost je desna. \n",
    "\n",
    "```\n",
    "izraz ( izraz1, izraz2, ... izrazN, )\n",
    "```\n",
    "\n",
    "izrazi unutar zagrada predstavljaju “argumente” čije vrednosti služe za inicijalizaciju parametara. Broj i tipovi argumenata moraju da se slažu sa brojem i tipovima parametara. Izrazi unutar zagrada izračunavaju se redosledom koji nije unapred određen - što može dovesti do nepredviđenog ponašanja, npr:\n",
    "\n",
    "```\n",
    "max(++a, b-a);\n",
    "```\n",
    "\n",
    "Neposredno pre izvršavanja tela funkcije svaki parametar zauzima prostor na stack-u u koji se upisuju vrednosti argumenata (prenos parametara po vrednosti - i pokazivači se prenose po vrednosti, ali novi pokazivač pokazuje na isto mesto u memoriji)."
   ]
  },
  {
   "cell_type": "code",
   "execution_count": 12,
   "metadata": {
    "slideshow": {
     "slide_type": "subslide"
    }
   },
   "outputs": [],
   "source": [
    "int test ( int x, int y )\n",
    "{\n",
    "  int a = 10 ;\n",
    "  return ( x + y ) / 2;\n",
    "}"
   ]
  },
  {
   "cell_type": "code",
   "execution_count": 13,
   "metadata": {
    "slideshow": {
     "slide_type": "fragment"
    }
   },
   "outputs": [
    {
     "data": {
      "text/plain": [
       "3"
      ]
     },
     "execution_count": 13,
     "metadata": {},
     "output_type": "execute_result"
    }
   ],
   "source": [
    "test ( 1, 5 )"
   ]
  },
  {
   "cell_type": "code",
   "execution_count": 14,
   "metadata": {
    "slideshow": {
     "slide_type": "fragment"
    }
   },
   "outputs": [],
   "source": [
    "void swap( int *x, int *y )\n",
    "{\n",
    "  *x = *x + *y;\n",
    "  *y = *x - *y;\n",
    "  *x = *x - *y;\n",
    "}"
   ]
  },
  {
   "cell_type": "code",
   "execution_count": 15,
   "metadata": {
    "slideshow": {
     "slide_type": "fragment"
    }
   },
   "outputs": [
    {
     "name": "stdout",
     "output_type": "stream",
     "text": [
      "A = 5, B = 7\n",
      "A = 7, B = 5\n"
     ]
    }
   ],
   "source": [
    "int a = 5, b = 7;\n",
    "std::cout << \"A = \" << a << \", B = \" << b << std::endl;\n",
    "swap(&a, &b);\n",
    "std::cout << \"A = \" << a << \", B = \" << b << std::endl;"
   ]
  },
  {
   "cell_type": "markdown",
   "metadata": {
    "slideshow": {
     "slide_type": "slide"
    }
   },
   "source": [
    "## Rekurzije\n",
    "\n",
    "Dele se na:\n",
    "* direktna – funkcija poziva samu sebe\n",
    "* indirektna – prva funkcija poziva drugu, a druga poziva prvu \n",
    "\n",
    "Rekurzija svodi rešavanje problema na niz rešavanja istog problema sa različitim argumentima. Mora da postoji kriterijum za završetak rekurzije i mora se voditi računa o dubini rekurzije zbog konačne veličine stack memorije. Teorijski: svaki problem može da se reši iterativno ili pomoću rekurzije, ali iterativna rešenja su generalno efikasnija. Savetuje se da se rekurziju koristiti samo onda kada su iterativna rešenja suviše komplikovana. Treba naglasiti da su danas kompajleri veoma dobri u optimizaciji nekih vrsta rekurzija, i da se rešenje svodi na iterativno."
   ]
  },
  {
   "cell_type": "code",
   "execution_count": 16,
   "metadata": {
    "slideshow": {
     "slide_type": "subslide"
    }
   },
   "outputs": [],
   "source": [
    "int sum_n ( int n )\n",
    "{\n",
    "  if ( n < 1 )\n",
    "    return 0 ;\n",
    "\n",
    "  return n + sum_n ( n - 1 ) ;\n",
    "}"
   ]
  },
  {
   "cell_type": "code",
   "execution_count": 17,
   "metadata": {
    "slideshow": {
     "slide_type": "fragment"
    }
   },
   "outputs": [
    {
     "name": "stdout",
     "output_type": "stream",
     "text": [
      "15\n"
     ]
    }
   ],
   "source": [
    "std::cout << sum_n(5) << std::endl;"
   ]
  },
  {
   "cell_type": "markdown",
   "metadata": {
    "slideshow": {
     "slide_type": "slide"
    }
   },
   "source": [
    "## Inline funkcije\n",
    "\n",
    "Dodavanjem ključne reči inline ispred definicije funkcije od programa prevodioca se zahteva neposredno ugrađivanje tela funkcije u kod na mesto poziva. Prevodilac može, ali ne mora da poštuje naš zahtev. Neposrednim ugrađivanjem u kod program se ubrzava (nema poziva funkcije i zauzimanja mesta na stacku za izvršavanje funkciju), ali i povećava."
   ]
  },
  {
   "cell_type": "code",
   "execution_count": 18,
   "metadata": {
    "slideshow": {
     "slide_type": "subslide"
    }
   },
   "outputs": [],
   "source": [
    "inline int maxi ( int x, int y ) \n",
    "{ return ( x >= y ) ? x : y ; }"
   ]
  },
  {
   "cell_type": "code",
   "execution_count": 19,
   "metadata": {
    "slideshow": {
     "slide_type": "fragment"
    }
   },
   "outputs": [
    {
     "data": {
      "text/plain": [
       "7"
      ]
     },
     "execution_count": 19,
     "metadata": {},
     "output_type": "execute_result"
    }
   ],
   "source": [
    "maxi(6, 7)"
   ]
  },
  {
   "cell_type": "markdown",
   "metadata": {
    "slideshow": {
     "slide_type": "slide"
    }
   },
   "source": [
    "## Preklapanje imena\n",
    "\n",
    "Preklapanje imena (eng. overloading, overloaded functions) omogućava kreiranje funkcija sa istim imenom, ali sa različitim tipovima parametara (tj. preklopljene funkcije su one koje imaju isto ime, ali se “dovoljno” razlikuju po tipovima parametara). <span style=\"color:red\">Funkcije koje se razlikuju samo po tipu rezultata ne mogu imati isto ime!</span> Koja od preklopljenih funkcija je pozvana u programu određuje program prevodilac tokom prevođenja programa. Ovo je jedan od razloga zašto automatska dedukcija tipa argumenta funkcije nije moguća."
   ]
  },
  {
   "cell_type": "code",
   "execution_count": 20,
   "metadata": {
    "slideshow": {
     "slide_type": "subslide"
    }
   },
   "outputs": [],
   "source": [
    "int sqr ( int x )  { \n",
    "    std::cout << \"Int verzija: \";\n",
    "    return x * x ; \n",
    "}"
   ]
  },
  {
   "cell_type": "code",
   "execution_count": 21,
   "metadata": {
    "slideshow": {
     "slide_type": "fragment"
    }
   },
   "outputs": [],
   "source": [
    "double sqr ( double x )  { \n",
    "    std::cout << \"Double verzija: \";\n",
    "    return x * x ; \n",
    "}"
   ]
  },
  {
   "cell_type": "code",
   "execution_count": 22,
   "metadata": {
    "slideshow": {
     "slide_type": "fragment"
    }
   },
   "outputs": [],
   "source": [
    "int aa = 7;\n",
    "double dd = 3.14;"
   ]
  },
  {
   "cell_type": "code",
   "execution_count": 23,
   "metadata": {
    "slideshow": {
     "slide_type": "fragment"
    }
   },
   "outputs": [
    {
     "name": "stdout",
     "output_type": "stream",
     "text": [
      "Int verzija: 49\n",
      "Double verzija: 9.8596\n"
     ]
    }
   ],
   "source": [
    "std::cout << sqr ( aa ) << std::endl;\n",
    "std::cout << sqr ( dd ) << std::endl;"
   ]
  },
  {
   "cell_type": "markdown",
   "metadata": {
    "slideshow": {
     "slide_type": "slide"
    }
   },
   "source": [
    "## Main funkcija\n",
    "\n",
    "Glavni program – obavezan deo svakog (izvršnog) C++ programa. Operativni sistem prilikom pokretanja programa poziva funkciju **main**. **Main** funkcija može da ima jedan od 4 tipa prototipa:\n",
    "\n",
    "```\n",
    "void main ( ) ;\n",
    "int main ( ) ;\n",
    "void main ( int argc, const char * argv [ ] ) ;\n",
    "int main ( int argc, const char * argv [ ] ) ;\n",
    "```\n",
    "\n",
    "Parametri `int argc` i `const char ** argv` služe za prosleđivanje parametara `main` funkciji preko komandne linije, npr.\n",
    "\n",
    "```\n",
    "ls -a\n",
    "ls -l\n",
    "ls -a -l\n",
    "```\n",
    "Parametar `argc` predstavlja broj parametara sa komandne linije, dok `argv` predstavlja listu parametara komandne linije, zadatu kao niz C-stringova. Prvi parametar liste uvek je ime programa, pa i `argc` ima vrednost bar `1`."
   ]
  },
  {
   "cell_type": "markdown",
   "metadata": {
    "slideshow": {
     "slide_type": "subslide"
    }
   },
   "source": [
    "**Main** funkcija ne može se \n",
    "/ preklapati\n",
    "* pozivati u programu\n",
    "* deklarisati kao inline\n",
    "* deklarisati kao static\n",
    "\n",
    "**main** ne spada u rezervisane reči \n",
    "* može se koristiti kao identifikator `int main;`."
   ]
  },
  {
   "cell_type": "code",
   "execution_count": 24,
   "metadata": {
    "slideshow": {
     "slide_type": "subslide"
    }
   },
   "outputs": [
    {
     "name": "stdout",
     "output_type": "stream",
     "text": [
      "3\n"
     ]
    }
   ],
   "source": [
    "int main = 3;\n",
    "std::cout << main << std::endl;"
   ]
  },
  {
   "cell_type": "markdown",
   "metadata": {
    "slideshow": {
     "slide_type": "slide"
    }
   },
   "source": [
    "## Oblast važenja imena\n",
    "\n",
    "U programskom jeziku C++ razlikujemo sledeće oblasti:\n",
    "* blok\n",
    "  * lokalna imena deklarisana unutar bloka\n",
    "  * formalni argumenti funkcije u definiciji funkcije\n",
    "* deklaracija funkcije\n",
    "  * imena parametara prilikom deklarisanja funkcije\n",
    "* funkcija\n",
    "  * labele, moguće ih je koristiti bilo gde unutar tela funkcije bez obzira na mesto definisanja\n",
    "* datoteka\n",
    "  * sva imena deklarisana izvan funkcija (\"globalna imena\")\n",
    "* struktura\n",
    "  * Svi elementi i metode funkcija. Pristupa im se preko operatora `.` ili `->`.\n",
    "* “prostor imena” (namespace)\n",
    "  * Promenljive i funkcije koje pripadaju nekom namespace-u. Pristupa se preko :: operatora (npr. std::cout)"
   ]
  },
  {
   "cell_type": "markdown",
   "metadata": {
    "slideshow": {
     "slide_type": "slide"
    }
   },
   "source": [
    "## Skrivanje imena\n",
    "\n",
    "* imena iz okružujućih blokova moguće je sakriti deklarisanjem istih imena u ugnežđenim blokovima\n",
    "* ponovljeno ime u ugnežđenom bloku može da bude različitog tipa od onog u okružujućem\n",
    "* pristup skrivenom imenu iz ugnežđenog bloka moguć je samo za globalno ime i to korišćenjem operatora pristupa globalnom imenu (scope operator) ::\n",
    "\n",
    "```\n",
    "int aa = 5;\n",
    "{\n",
    "    int aa = 3;\n",
    "    std::cout << \"a = \" << aa << std::endl;\n",
    "    std::cout << \"global a = \" << ::aa << std::endl;\n",
    "}\n",
    "```"
   ]
  },
  {
   "cell_type": "markdown",
   "metadata": {
    "slideshow": {
     "slide_type": "slide"
    }
   },
   "source": [
    "## Zivotni vek promenljivih\n",
    "\n",
    "Zivotni vek (eng. lifetime) predstavlja vreme od kreiranja do ukidanja promenljive. Razlikujemo 3 vrste promenljivih:\n",
    "* automatske\n",
    "  * “lokalne” promenljive\n",
    "  * životni vek počinje nailaskom programa na njihovu definiciju, a završava izlaskom iz oblasti definisanosti\n",
    "  * pri svakom pozivu bloka iznova se kreiraju\n",
    "* statičke\n",
    "  * globalne promenljive su uvek statičke i kreiraju se pre početka izvršavanja main funkcije\n",
    "  * lokalne promenljive mogu da budu statičke (ključna reč static), kreiraju se pri prvom nailasku na definiciju\n",
    "  * životni vek traje do kraja izvršavanja programa\n",
    "* dinamičke\n",
    "  * životni vek kontroliše programer\n",
    "  * operator new započinje životni vek\n",
    "  * operator delete završava životni vek"
   ]
  },
  {
   "cell_type": "code",
   "execution_count": 25,
   "metadata": {
    "slideshow": {
     "slide_type": "subslide"
    }
   },
   "outputs": [
    {
     "name": "stdout",
     "output_type": "stream",
     "text": [
      "10\n",
      "10\n",
      "10\n",
      "10\n",
      "10\n"
     ]
    }
   ],
   "source": [
    "//automatska promenljiva a\n",
    "for(auto i = 0; i < 5; ++i) {\n",
    "    auto a = 10;\n",
    "    std::cout << a << std::endl;\n",
    "    a = 1000;\n",
    "}"
   ]
  },
  {
   "cell_type": "code",
   "execution_count": 26,
   "metadata": {
    "slideshow": {
     "slide_type": "fragment"
    }
   },
   "outputs": [],
   "source": [
    "//staticka promenljiva x\n",
    "void foo() {\n",
    "    static int x = 5;\n",
    "    std::cout << (--x) << std::endl;\n",
    "}"
   ]
  },
  {
   "cell_type": "code",
   "execution_count": 27,
   "metadata": {
    "slideshow": {
     "slide_type": "fragment"
    }
   },
   "outputs": [
    {
     "name": "stdout",
     "output_type": "stream",
     "text": [
      "4\n",
      "3\n",
      "2\n",
      "1\n"
     ]
    }
   ],
   "source": [
    "foo();\n",
    "foo();\n",
    "foo();\n",
    "foo();"
   ]
  },
  {
   "cell_type": "code",
   "execution_count": 28,
   "metadata": {
    "slideshow": {
     "slide_type": "fragment"
    }
   },
   "outputs": [],
   "source": [
    "//dinamička promenljiva x\n",
    "int *px = new int(5);\n",
    "delete px;"
   ]
  },
  {
   "cell_type": "markdown",
   "metadata": {
    "slideshow": {
     "slide_type": "slide"
    }
   },
   "source": [
    "## Spoljne promenljive i funkcije\n",
    "\n",
    "file 1:\n",
    "```\n",
    "int a = 10 ;\n",
    "extern void test ( ) ; //negde (u fajlu 2) postoji funkcija test\n",
    "int main ( )\n",
    "{\n",
    "  test ( ) ;\n",
    "} \n",
    "```\n",
    "\n",
    "file 2:\n",
    "```\n",
    "extern int a ; //negde (u fajlu 1) postoji globalna promenljiva a\n",
    "void f ( int x )\n",
    "{  ++ x ; }\n",
    "void test ( )\n",
    "{ f ( a ) ; }\n",
    "```"
   ]
  },
  {
   "cell_type": "markdown",
   "metadata": {
    "slideshow": {
     "slide_type": "slide"
    }
   },
   "source": [
    "## Strukture i funkcije\n",
    "\n",
    "Strukture mogu sadržati i funkcije (pored elemenata). Funkcije koje pripadaju strukturi nazivaju se \"funkcije članice\" ili \"metode\". Ukoliko struktura `struct X` ima metodu `void foo(){}`, onda se ona poziva preko instance `X x` pompću operatora `.`: `x.foo()`. Ukoliko imamo pokazivač na instancu strukture, potrebno je koristiti operator `->`. Svi elementi strukture su vidljivi unutar metoda te strukture i ne treba koristiti operator `.` da bi im se pristupilo. "
   ]
  },
  {
   "cell_type": "code",
   "execution_count": 29,
   "metadata": {
    "slideshow": {
     "slide_type": "subslide"
    }
   },
   "outputs": [],
   "source": [
    "struct X {\n",
    "    int a = 3; //podrazumevana vrednost za a\n",
    "    double b = 5.; //podrazumevana vrednost b\n",
    "    \n",
    "    void printA() {\n",
    "        std::cout << \"Parametar a: \" << a << std::endl;\n",
    "    }\n",
    "    \n",
    "    void printB() {\n",
    "        std::cout << \"Parametar b: \" << b << std::endl;\n",
    "    }\n",
    "    \n",
    "    double zbir() {\n",
    "        return a + b;\n",
    "    }\n",
    "}"
   ]
  },
  {
   "cell_type": "code",
   "execution_count": 30,
   "metadata": {
    "slideshow": {
     "slide_type": "fragment"
    }
   },
   "outputs": [],
   "source": [
    "X x = {4};\n",
    "X *y = &x;"
   ]
  },
  {
   "cell_type": "code",
   "execution_count": 31,
   "metadata": {
    "slideshow": {
     "slide_type": "fragment"
    }
   },
   "outputs": [
    {
     "name": "stdout",
     "output_type": "stream",
     "text": [
      "x.a = 4, x.b = 5\n",
      "Parametar a: 4\n",
      "Parametar b: 5\n",
      "y->zbir() = 9\n"
     ]
    }
   ],
   "source": [
    "std::cout << \"x.a = \" << x.a << \", \" << \"x.b = \" << x.b << std::endl;\n",
    "x.printA();\n",
    "y->printB();\n",
    "std::cout << \"y->zbir() = \" << y->zbir() << std::endl;"
   ]
  },
  {
   "cell_type": "code",
   "execution_count": 32,
   "metadata": {
    "slideshow": {
     "slide_type": "subslide"
    }
   },
   "outputs": [],
   "source": [
    "struct Y {\n",
    "    int x;\n",
    "    int y;\n",
    "    \n",
    "    Y() {\n",
    "        x = 0; \n",
    "        y = 0;\n",
    "    }\n",
    "    \n",
    "    Y(int a) {\n",
    "        x = a;\n",
    "        y = 0;\n",
    "    }\n",
    "    \n",
    "    Y(int x, int y) {\n",
    "        this->x = x;\n",
    "        this->y = y;\n",
    "    }\n",
    "    \n",
    "    std::string ispis() {\n",
    "        return \"(\" + std::to_string(this->x) + \", \" + std::to_string(this->y) + \")\";\n",
    "    }   \n",
    "}"
   ]
  },
  {
   "cell_type": "code",
   "execution_count": 33,
   "metadata": {
    "slideshow": {
     "slide_type": "subslide"
    }
   },
   "outputs": [],
   "source": [
    "Y yy1(5);\n",
    "Y yy2(3, 7);\n",
    "Y *yy3 = new Y();"
   ]
  },
  {
   "cell_type": "code",
   "execution_count": 34,
   "metadata": {
    "slideshow": {
     "slide_type": "fragment"
    }
   },
   "outputs": [
    {
     "name": "stdout",
     "output_type": "stream",
     "text": [
      "y1: (5, 0)\n",
      "y2: (3, 7)\n",
      "y3: (0, 0)\n"
     ]
    }
   ],
   "source": [
    "std::cout << \"y1: \" << yy1.ispis() << std::endl;\n",
    "std::cout << \"y2: \" << yy2.ispis() << std::endl;\n",
    "std::cout << \"y3: \" << yy3->ispis() << std::endl;"
   ]
  },
  {
   "cell_type": "markdown",
   "metadata": {
    "slideshow": {
     "slide_type": "slide"
    }
   },
   "source": [
    "## Operatori i funkcije\n",
    "\n",
    "C++ pruža mehanizme za jednako rukovanje sa primitivnim i sa korisnički definisanim tipovima. Jedan od ovih mehanizama jeste **preklapanje operatora**, tj. definisanje **operatorskih funkcija** za naše, korisnički-definisane, tipove. Moguće je preklapanje većine operatora, ali moraju da se poštuju pravila za preklapanje. Nije dozvoljeno da se preklapaju operatori:\n",
    "* `.`\n",
    "* `.*`\n",
    "* `::`\n",
    "* `?:`\n",
    "* `sizeof`"
   ]
  },
  {
   "cell_type": "code",
   "execution_count": 35,
   "metadata": {
    "slideshow": {
     "scroll": "true",
     "slide_type": "subslide"
    }
   },
   "outputs": [
    {
     "name": "stderr",
     "output_type": "stream",
     "text": [
      "\u001b[1minput_line_47:1:8: \u001b[0m\u001b[0;1;31merror: \u001b[0m\u001b[1mredefinition of 'Tacka'\u001b[0m\n",
      "struct Tacka {\n",
      "\u001b[0;1;32m       ^\n",
      "\u001b[0m\u001b[1minput_line_7:1:8: \u001b[0m\u001b[0;1;30mnote: \u001b[0mprevious definition is here\u001b[0m\n",
      "struct Tacka {\n",
      "\u001b[0;1;32m       ^\n",
      "\u001b[0m"
     ]
    },
    {
     "ename": "Interpreter Error",
     "evalue": "",
     "output_type": "error",
     "traceback": [
      "Interpreter Error: "
     ]
    }
   ],
   "source": [
    "struct Tacka {\n",
    "    double x;\n",
    "    double y;\n",
    "    \n",
    "    Tacka(double x = 0, double y = 0) {\n",
    "        this->x = x;\n",
    "        this->y = y;\n",
    "    }\n",
    "    \n",
    "    double dist(Tacka t) const {\n",
    "        return sqrt((this->x - t.x)*(x - t.x) + (y - t.y)*(y - t.y));\n",
    "    }\n",
    "    \n",
    "    //binarni operator +    \n",
    "    friend Tacka operator+(const Tacka &t1, const Tacka &t2)\n",
    "    {\n",
    "        return Tacka(t1.x + t2.x, t1.y + t2.y);\n",
    "    }\n",
    "    \n",
    "    //binarni operator -\n",
    "    friend Tacka operator-(const Tacka &t1, const Tacka &t2)\n",
    "    {\n",
    "        return Tacka(t1.x - t2.x, t1.y - t2.y);\n",
    "    }\n",
    "    \n",
    "    //unarni operator +\n",
    "    friend Tacka operator+(const Tacka &t1)\n",
    "    {\n",
    "        return t1;\n",
    "    }\n",
    "    \n",
    "    //unarni operator -\n",
    "    friend Tacka operator-(const Tacka &t1)\n",
    "    {\n",
    "        return Tacka(-t1.x, -t1.y );\n",
    "    }\n",
    "    \n",
    "    friend Tacka operator+=(Tacka &t1, const Tacka &t2)\n",
    "    {\n",
    "        return t1 = t1 + t2;\n",
    "    }\n",
    "    \n",
    "    friend Tacka operator-=(Tacka &t1, const Tacka &t2)\n",
    "    {\n",
    "        return t1 = t1 - t2;\n",
    "    }\n",
    "    \n",
    "    friend bool operator==(const Tacka &t1, const Tacka &t2)\n",
    "    {\n",
    "        return (t1.x == t2.x) && (t1.y == t2.y);\n",
    "    }\n",
    "    \n",
    "    friend bool operator!=(const Tacka &t1, const Tacka &t2)\n",
    "    {\n",
    "        return !(t1 == t2);\n",
    "    }\n",
    "    \n",
    "    friend bool operator>(const Tacka &t1, const Tacka &t2){\n",
    "        return t1.dist(Tacka()) > t2.dist(Tacka());\n",
    "    }\n",
    "    \n",
    "    friend bool operator<(const Tacka &t1, const Tacka &t2){\n",
    "        return t1.dist(Tacka()) < t2.dist(Tacka());\n",
    "    }\n",
    "    \n",
    "    friend bool operator>=(const Tacka &t1, const Tacka &t2){\n",
    "        return !(t1 < t2);\n",
    "    }\n",
    "    \n",
    "    friend bool operator<=(const Tacka &t1, const Tacka &t2){\n",
    "        return !(t1 > t2);\n",
    "    }\n",
    "    \n",
    "    friend std::ostream& operator<< (std::ostream& out, const Tacka &t) {\n",
    "        out << \"(\" << t.x << \", \" << t.y << \")\";\n",
    "        return out;\n",
    "    }\n",
    "    \n",
    "    friend std::istream& operator>> (std::istream& in, Tacka &t) {\n",
    "        in >> t.x >> t.y;\n",
    "        return in ;\n",
    "    }\n",
    "};"
   ]
  },
  {
   "cell_type": "code",
   "execution_count": 36,
   "metadata": {
    "slideshow": {
     "slide_type": "subslide"
    }
   },
   "outputs": [],
   "source": [
    "Tacka t1; \n",
    "Tacka t2(3, 5);\n",
    "Tacka t3(4, 7);"
   ]
  },
  {
   "cell_type": "code",
   "execution_count": 37,
   "metadata": {
    "slideshow": {
     "slide_type": "fragment"
    }
   },
   "outputs": [
    {
     "name": "stdout",
     "output_type": "stream",
     "text": [
      "T1: (0, 0), T2: (3, 5), T3: (4, 7)\n",
      " +(3, 5) = (3, 5)\n",
      " -(3, 5) = (-3, -5)\n",
      "(0, 0) + (3, 5) = (3, 5)\n",
      "(3, 5) - (4, 7) = (-1, -2)\n",
      "(0, 0) == (3, 5) = 0\n",
      "(0, 0) != (3, 5) = 1\n",
      "(0, 0) <= (3, 5) = 1\n"
     ]
    }
   ],
   "source": [
    "std::cout << \"T1: \" << t1 << \", T2: \" << t2 << \", T3: \" << t3 << std::endl; \n",
    "std::cout << \" +\" << t2 << \" = \" << +t2 << std::endl;\n",
    "std::cout << \" -\" << t2 << \" = \" << -t2 << std::endl;\n",
    "std::cout << t1 << \" + \" << t2 << \" = \" << t1 + t2 << std::endl;\n",
    "std::cout << t2 << \" - \" << t3 << \" = \" << t2 - t3 << std::endl;\n",
    "std::cout << t1 << \" == \" << t2 << \" = \" << (t1 == t2) << std::endl;\n",
    "std::cout << t1 << \" != \" << t2 << \" = \" << (t1 != t2) << std::endl;\n",
    "std::cout << t1 << \" <= \" << t2 << \" = \" << (t1 <= t2) << std::endl;"
   ]
  },
  {
   "cell_type": "code",
   "execution_count": 38,
   "metadata": {
    "slideshow": {
     "slide_type": "fragment"
    }
   },
   "outputs": [
    {
     "name": "stdout",
     "output_type": "stream",
     "text": [
      "117 57\n",
      "New T1: (117, 57)\n"
     ]
    }
   ],
   "source": [
    "std::cin >> t1;\n",
    "std::cout << \"New T1: \" << t1 << std::endl;"
   ]
  },
  {
   "cell_type": "code",
   "execution_count": 39,
   "metadata": {
    "slideshow": {
     "slide_type": "fragment"
    }
   },
   "outputs": [
    {
     "name": "stdout",
     "output_type": "stream",
     "text": [
      "New T3: (120, 62)\n",
      "New T3: (123, 67)\n"
     ]
    }
   ],
   "source": [
    "t3 = t1 + t2;\n",
    "std::cout << \"New T3: \" << t3 << std::endl;\n",
    "t3 += t2;\n",
    "std::cout << \"New T3: \" << t3 << std::endl;"
   ]
  },
  {
   "cell_type": "markdown",
   "metadata": {
    "slideshow": {
     "slide_type": "slide"
    }
   },
   "source": [
    "#### Nije dozvoljeno:\n",
    "* menjati prioritet operatorima\n",
    "* menjati asocijativnost (grupisanje) operatora\n",
    "* menjati broj operanada operatora\n",
    "* uvoditi nove simbole kao operatore\n",
    "* redefinisati značenja operatora za ugrađene tipove podataka\n",
    "\n",
    "#### Dozvoljeno proizvoljno definisati:\n",
    "* tip i lvrednost operanada\n",
    "* tip i lvrednost rezultata\n",
    "* dejstvo na operand (sporedni efekat)\n",
    "* veze između operatora\n",
    "\n",
    "Programer ima “veliku” slobodu prilikom preklapanja operatora za korisnički definisane tipove\n"
   ]
  },
  {
   "cell_type": "markdown",
   "metadata": {
    "slideshow": {
     "slide_type": "slide"
    }
   },
   "source": [
    "## Operatorske funkcije\n",
    "\n",
    "Od operatora koji se mogu preklopiti, jedino sledeći imaju predefinisano značenje za korisnički definisane tipove: `=`, `&` i `,`.\n",
    "\n",
    "Operatorske funkcije mogu da budu realizovane kao globalne funkcije ili kao funkcije članice. Za sad ćemo razmatrati samo operatorske funkcije kao globalne funkcije. Ime operatorske funkcije jeste operator@ (gde @ može biti `+`, `-`, `*`, `/`, `+=`, `-=`, `*=`, `/=`, `|`, `|=`, `==`, `!=`, `>`, `<`, `>=`, `<=`, `>>`, `<<`, ...). Globalne operatorske funkcije moraju da imaju barem jedan argument korisnički definisanog tipa."
   ]
  },
  {
   "cell_type": "markdown",
   "metadata": {
    "slideshow": {
     "slide_type": "slide"
    }
   },
   "source": [
    "## Rezime:\n",
    "\n",
    "Svaka definicija funkcija se sastoji od\n",
    "* prototipa (zaglavlja) funkcije\n",
    "  * tip povratne vrednosti\n",
    "  * ime funkcije\n",
    "  * lista argumenata\n",
    "* tela funkcije\n",
    "\n",
    "Deklaracija funkcije se sastoji samo od zaglavlja iza koga ide `;`.\n",
    "\n",
    "Možemo imati više deklaracija, ali samo jednu definiciju. \n",
    "\n",
    "Poziv funkcije se radi pomoću operatora `()`.\n",
    "\n",
    "Dve funkcije mogu imati isto ime ali se moraju razlikovati po listi argumenata (preklapanje funkcija)\n",
    "\n",
    "Strukture mogu sadržati funkcije, koje se zovu funkcije članice ili metode. \n",
    "\n",
    "Operatorske funkcije omogućavaju da se postojeći operatori primenjuju na korisnički definisanim tipovima.\n",
    "\n",
    "```\n",
    "struct X;\n",
    "\n",
    "X operator+(X a, X b); \n",
    "```\n"
   ]
  }
 ],
 "metadata": {
  "celltoolbar": "Edit Metadata",
  "kernelspec": {
   "display_name": "C++17",
   "language": "C++17",
   "name": "xcpp17"
  },
  "language_info": {
   "codemirror_mode": "text/x-c++src",
   "file_extension": ".cpp",
   "mimetype": "text/x-c++src",
   "name": "c++",
   "version": "-std=c++17"
  },
  "rise": {
   "scroll": true
  }
 },
 "nbformat": 4,
 "nbformat_minor": 4
}
