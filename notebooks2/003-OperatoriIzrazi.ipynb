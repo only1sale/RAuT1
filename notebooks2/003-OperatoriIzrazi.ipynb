{
 "cells": [
  {
   "cell_type": "markdown",
   "metadata": {
    "slideshow": {
     "slide_type": "slide"
    }
   },
   "source": [
    "# Operatori i izrazi\n",
    "\n",
    "#### Aleksandar Minja <br> Mart 2020"
   ]
  },
  {
   "cell_type": "code",
   "execution_count": null,
   "metadata": {
    "slideshow": {
     "slide_type": "fragment"
    }
   },
   "outputs": [],
   "source": [
    "#include <iostream>"
   ]
  },
  {
   "cell_type": "markdown",
   "metadata": {
    "slideshow": {
     "slide_type": "slide"
    }
   },
   "source": [
    "## Operatori i izrazi\n",
    "\n",
    "Operator ( eng. operator )\n",
    " * radnja koja se izvršava nad operandima \n",
    " * daje određeni rezultat\n",
    "\n",
    "Izraz ( eng. expression )\n",
    " * sekvenca operatora i operanada koja definiše određenu obradu\n",
    " * može, a ne mora da ima vrednost\n",
    " * može, a ne mora da ima “sporedne” efekte"
   ]
  },
  {
   "cell_type": "markdown",
   "metadata": {
    "slideshow": {
     "slide_type": "subslide"
    }
   },
   "source": [
    "## Svojstva operatora\n",
    "\n",
    "Svojstva operatora\n",
    " * broj operanada (unarni, binarni i ternarni)\n",
    " * asocijativnost (redosled izvršavanja)\n",
    "    * Leva (→): s leva na desno\n",
    "    * Desna (←): s desna na levo\n",
    " * tipovi operanada\n",
    " * tip rezultata\n",
    " * lvrednost operanada\n",
    " * lvrednost rezultata "
   ]
  },
  {
   "cell_type": "markdown",
   "metadata": {
    "slideshow": {
     "slide_type": "subslide"
    }
   },
   "source": [
    "## Lvrednost i Rvrednost\n",
    "\n",
    "Lvrednost (eng. Left Value - lvalue) \n",
    " * Vrednost koja je sa leve strane znaka \"=\"\n",
    " * izraz koji označava podatak (promenljivu) ili funkciju u memoriji računara\n",
    " * Promenljiva (eng. modifiable) lvrednost\n",
    "     * lvrednost koja nije ime funkcije, ime niza ili konstanta\n",
    "     \n",
    "Rvrednost (eng. Right value - rvalue)\n",
    " * Vrednost koja je sa desne strane znaka \"=\"\n",
    " * Svaka lvrednost jeste rvrednost\n",
    " * Svaka rvrednost nije lvrednost"
   ]
  },
  {
   "cell_type": "markdown",
   "metadata": {
    "slideshow": {
     "slide_type": "slide"
    }
   },
   "source": [
    "## Podela Operatora\n",
    "\n",
    "- aritmetički\n",
    "- logički\n",
    "- “bitski”\n",
    "- relacioni operatori i operatori jednakosti / nejednakosti\n",
    "- dodele\n",
    "- referenciranja i dereferenciranja\n",
    "- za rad sa dinamičkom memorijom\n",
    "- ostali"
   ]
  },
  {
   "cell_type": "markdown",
   "metadata": {
    "slideshow": {
     "slide_type": "slide"
    }
   },
   "source": [
    "## Aritmetički Operatori\n",
    "\n",
    "- binarni\n",
    "   - aditivni (+, -)\n",
    "   - multiplikativni (*, /, %)\n",
    "\n",
    "- unarni\n",
    "   - promena znaka operanda (+, -)\n",
    "   - inkrementiranje (++)\n",
    "   - dekrementiranje (--)\n",
    "   \n",
    "U slučaju binarnih aritmetičkih operatora, rezultat nije lvrednost. Izraz oblika `x + y = xx` nije dozvoljen.\n",
    "\n",
    "U slučaju unarnih aritmetičkih operatora, samo rezultat prefiksnog inkrementa ili dekrementa je lvrednost (`++x = y` je validan izraz), dok u svim ostalim sliučajevima nije (`+x = y` ili `x-- = y` nisu validni izrazi).\n",
    "\n",
    "Prefiksni operator inkrementiranja (dekrementiranja) uvećava (smanjuje) vrednost i vraća novu vrednost, dok postfiksni operatori rade sledeće `temp = x; x = x + 1; return temp` (`temp = x; x = x - 1; return temp`). Zbog ovoga su postfiksni operatori sporiji od prefiksnih operatora."
   ]
  },
  {
   "cell_type": "code",
   "execution_count": null,
   "metadata": {
    "slideshow": {
     "slide_type": "subslide"
    }
   },
   "outputs": [],
   "source": [
    "auto x = 7, y = 2, x_temp = 0;\n",
    "auto xx = 7., yy = 2., xx_temp = 0.;"
   ]
  },
  {
   "cell_type": "code",
   "execution_count": null,
   "metadata": {
    "slideshow": {
     "slide_type": "fragment"
    }
   },
   "outputs": [],
   "source": [
    "std::cout << x << \" + \" << y << \" = \" << x + y << std::endl;\n",
    "std::cout << x << \" - \" << y << \" = \" << x - y << std::endl;\n",
    "std::cout << xx << \" + \" << yy << \" = \" << xx + yy << std::endl;\n",
    "\n",
    "std::cout << x << \" * \" << y << \" = \" << x * y << std::endl;\n",
    "std::cout << x << \" % \" << y << \" = \" << x % y << std::endl; \n",
    "// std::cout << xx << \" % \" << yy << \" = \" << xx % yy << std::endl; //Greska\n",
    "std::cout << x << \" / \" << y << \" = \" << x / y << std::endl; //celobrojno deljenje\n",
    "std::cout << xx << \" / \" << yy << \" = \" << xx / yy << std::endl;"
   ]
  },
  {
   "cell_type": "code",
   "execution_count": null,
   "metadata": {
    "slideshow": {
     "slide_type": "fragment"
    }
   },
   "outputs": [],
   "source": [
    "std::cout << \"+\"<< x << \" = \" << (+x) << std::endl;\n",
    "std::cout << \"-\"<< x << \" = \" << (-x) << std::endl;\n",
    "x_temp = ++x;\n",
    "std::cout << \"++\"<< x << \" = \" << (x_temp) << std::endl;\n",
    "x_temp = x--;\n",
    "std::cout << x << \"--\" << \" = \" << (x_temp) << std::endl;\n",
    "xx_temp = --xx;\n",
    "std::cout << \"--\"<< xx << \" = \" << (xx_temp) << std::endl;\n",
    "xx_temp = xx++;\n",
    "std::cout << xx << \"--\" << \" = \" << (xx_temp) << std::endl;"
   ]
  },
  {
   "cell_type": "markdown",
   "metadata": {
    "slideshow": {
     "slide_type": "slide"
    }
   },
   "source": [
    "## Logički operatori\n",
    " - binarni\n",
    "   - logičko i (&&)\n",
    "   - logičko ili (||)\n",
    " - unarni\n",
    "   - negacija (!)\n",
    "   \n",
    "Rezultat nije lvrednost."
   ]
  },
  {
   "cell_type": "code",
   "execution_count": null,
   "metadata": {
    "slideshow": {
     "slide_type": "subslide"
    }
   },
   "outputs": [],
   "source": [
    "auto xl = true, yl = false;\n",
    "auto xi = 1, yi = 0, zi = 8;"
   ]
  },
  {
   "cell_type": "code",
   "execution_count": null,
   "metadata": {
    "slideshow": {
     "slide_type": "fragment"
    }
   },
   "outputs": [],
   "source": [
    "std::cout << xl << \" || \" << yl << \" = \"<< (xl || yl) << std::endl;\n",
    "std::cout << xl << \" && \" << yl << \" = \"<< (xl && yl) << std::endl;\n",
    "std::cout << xl << \" && \" << xi << \" = \"<< (xl && xi) << std::endl;\n",
    "std::cout << xl << \" && \" << zi << \" = \"<< (xl && zi) << std::endl;\n",
    "std::cout << xi << \" || \" << zi << \" = \"<< (xi || zi) << std::endl;\n",
    "std::cout << \"!\" << xl << \" = \"<< (!xl) << std::endl;\n",
    "std::cout << \"!\" << zi << \" = \"<< (!zi) << std::endl;"
   ]
  },
  {
   "cell_type": "markdown",
   "metadata": {
    "slideshow": {
     "slide_type": "slide"
    }
   },
   "source": [
    "##  Bitski operatori\n",
    " - Operatori pomeranja (<<, >>)\n",
    " - binarni\n",
    "   - binarno i (&)\n",
    "   - binarno ili (|)\n",
    "   - binarno xor (^)\n",
    " - unarni \n",
    "   - negacija (~)\n",
    "   \n",
    "Rezultat nije lvrednost."
   ]
  },
  {
   "cell_type": "code",
   "execution_count": null,
   "metadata": {
    "slideshow": {
     "slide_type": "subslide"
    }
   },
   "outputs": [],
   "source": [
    "#include <bitset>\n",
    "auto xb = std::bitset<5>(1), yb = std::bitset<5>(7), zb = std::bitset<5>(5); //<5> predstavlja broj bita "
   ]
  },
  {
   "cell_type": "code",
   "execution_count": null,
   "metadata": {
    "slideshow": {
     "slide_type": "fragment"
    }
   },
   "outputs": [],
   "source": [
    "std::cout << xb.to_ulong() << \" in binary = \"<< xb << std::endl; \n",
    "std::cout << yb.to_ulong() << \" in binary = \"<< yb << std::endl;\n",
    "std::cout << zb.to_ulong() << \" in binary = \"<< zb << std::endl;"
   ]
  },
  {
   "cell_type": "code",
   "execution_count": null,
   "metadata": {
    "slideshow": {
     "slide_type": "subslide"
    }
   },
   "outputs": [],
   "source": [
    "std::cout << xb << \" & \" << yb << \" = \" << (xb & yb) << \" (\" << (xb & yb).to_ulong() << \")\" << std::endl; \n",
    "std::cout << xb << \" | \" << yb << \" = \" << (xb | yb) << \" (\" << (xb | yb).to_ulong() << \")\" << std::endl; \n",
    "std::cout << xb << \" ^ \" << yb << \" = \" << (xb ^ yb) << \" (\" << (xb ^ yb).to_ulong() << \")\" << std::endl; \n",
    "std::cout << \"~\"<< xb << \" = \" << (~xb) << \" (\" << (~xb).to_ulong() << \")\" << std::endl; \n",
    "std::cout << xb << \" << \" << 1 << \" = \" << (xb << 1) << \" (\" << (xb << 1).to_ulong() << \")\" << std::endl; \n",
    "std::cout << xb << \" << \" << 3 << \" = \" << (xb << 3) << \" (\" << (xb << 3).to_ulong() << \")\" << std::endl; \n",
    "std::cout << yb << \" << \" << 2 << \" = \" << (yb << 2) << \" (\" << (yb << 2).to_ulong() << \")\" << std::endl;\n",
    "std::cout << yb << \" << \" << 3 << \" = \" << (yb << 3) << \" (\" << (yb << 3).to_ulong() << \")\" << std::endl;\n",
    "std::cout << yb << \" >> \" << 2 << \" = \" << (yb >> 2) << \" (\" << (yb >> 2).to_ulong() << \")\" << std::endl; "
   ]
  },
  {
   "cell_type": "code",
   "execution_count": null,
   "metadata": {
    "slideshow": {
     "slide_type": "subslide"
    }
   },
   "outputs": [],
   "source": [
    "signed int xxb = -5;"
   ]
  },
  {
   "cell_type": "code",
   "execution_count": null,
   "metadata": {
    "slideshow": {
     "slide_type": "fragment"
    }
   },
   "outputs": [],
   "source": [
    "std::cout << std::bitset<32>(xxb) << \" << 5 = \" << std::bitset<32>(xxb << 5)\n",
    "                                  << \" (\" << (xxb << 5) << \")\" << std::endl;\n",
    "std::cout << std::bitset<32>(xxb) << \" >> 5 = \" << std::bitset<32>(xxb >> 5) \n",
    "                                  << \" (\" << (xxb >> 5) << \")\" << std::endl; \n",
    "//popunjava se sa vrednostima znaka tipa, posto je znak \"-\", popunjava se sa \"1\".;"
   ]
  },
  {
   "cell_type": "markdown",
   "metadata": {
    "slideshow": {
     "slide_type": "slide"
    }
   },
   "source": [
    "##  Relacioni operatori i operatori jednakosti / nejednakosti\n",
    " - relacioni (<, >, <=, >=)\n",
    " - operator jednakosti (==) i nejednakosti (!=)\n",
    " \n",
    "Rezultat nije lvrednost, dok je tip rezultata int."
   ]
  },
  {
   "cell_type": "code",
   "execution_count": null,
   "metadata": {
    "slideshow": {
     "slide_type": "subslide"
    }
   },
   "outputs": [],
   "source": [
    "auto xr = 5, yr = 7, zr = 5;"
   ]
  },
  {
   "cell_type": "code",
   "execution_count": null,
   "metadata": {
    "slideshow": {
     "slide_type": "fragment"
    }
   },
   "outputs": [],
   "source": [
    "std::cout << xr << \" < \" << yr << \" = \" << (xr < yr) << std::endl;\n",
    "std::cout << xr << \" > \" << yr << \" = \" << (xr > yr) << std::endl;\n",
    "std::cout << xr << \" <= \" << zr << \" = \" << (xr <= zr) << std::endl;\n",
    "std::cout << xr << \" >= \" << yr << \" = \" << (xr >= yr) << std::endl;\n",
    "std::cout << xr << \" == \" << zr << \" = \" << (xr == zr) << std::endl;\n",
    "std::cout << xr << \" != \" << zr << \" = \" << (xr != zr) << std::endl;"
   ]
  },
  {
   "cell_type": "markdown",
   "metadata": {
    "slideshow": {
     "slide_type": "slide"
    }
   },
   "source": [
    "##  Operatori dodele\n",
    " - operator proste dodele (=)\n",
    " - operatori složene dodele \n",
    "   - aritmetički (+=, -=, *=, /=, %=)\n",
    "   - bitski (<<=, >>=, &=, |=, ^=)\n",
    "   \n",
    "Rezultat je lvrednost. "
   ]
  },
  {
   "cell_type": "code",
   "execution_count": null,
   "metadata": {
    "slideshow": {
     "slide_type": "subslide"
    }
   },
   "outputs": [],
   "source": [
    "auto xd = xr + zr; //operator proste dodele\n",
    "auto xd_temp = xd;"
   ]
  },
  {
   "cell_type": "code",
   "execution_count": null,
   "metadata": {
    "slideshow": {
     "slide_type": "fragment"
    }
   },
   "outputs": [],
   "source": [
    "std::cout << xr << \" + \" << zr << \" = \" << xd << std::endl;\n",
    "xd_temp = xd;\n",
    "xd += yr;\n",
    "std::cout << xd_temp << \" + \" << yr << \" = \" << xd << std::endl;\n",
    "xd_temp = xd;\n",
    "xd *= 3;\n",
    "std::cout << xd_temp << \" * \" << 3 << \" = \" << xd << std::endl;\n",
    "xd_temp = xd;\n",
    "xd <<= 3;\n",
    "std::cout << std::bitset<10>(xd_temp) << \" << 3 = \" << std::bitset<10>(xd) << std::endl;\n",
    "xd_temp = xd;\n",
    "xd |= zr;\n",
    "std::cout << std::bitset<10>(xd_temp) << \" | \" << std::bitset<10>(zr)<<\" = \"<<std::bitset<10>(xd)<< std::endl;"
   ]
  },
  {
   "cell_type": "markdown",
   "metadata": {
    "slideshow": {
     "slide_type": "slide"
    }
   },
   "source": [
    "##  Operatori referenciranja i dereferenciranja\n",
    " - Operator dereferenciranja pokazivača: \" * \"\n",
    " - Operator neposrednog pristupa članu: \" . \"\n",
    " - Operator posrednog pristupa članu: \" -> \"\n",
    " - Operator uzimanja adrese: \" & \""
   ]
  },
  {
   "cell_type": "code",
   "execution_count": null,
   "metadata": {
    "slideshow": {
     "slide_type": "subslide"
    }
   },
   "outputs": [],
   "source": [
    "struct S {\n",
    "    int x = 0;\n",
    "    int y = 7;\n",
    "};\n",
    "S s = {5};\n",
    "S *s1 = &s; //adresiranje / uzimanje adrese;"
   ]
  },
  {
   "cell_type": "code",
   "execution_count": null,
   "metadata": {
    "slideshow": {
     "slide_type": "fragment"
    }
   },
   "outputs": [],
   "source": [
    "std::cout << \"{\" << s.x << \", \" << s.y << \"}\" << std::endl; //neposredni pristup;\n",
    "std::cout << \"{\" << (s1->x) << \", \" << (s1->y) << \"}\" << std::endl; //posredni pristup;\n",
    "std::cout << \"{\" << (*s1).x << \", \" << (*s1).y << \"}\" << std::endl; //dereferenciranje;"
   ]
  },
  {
   "cell_type": "markdown",
   "metadata": {
    "slideshow": {
     "slide_type": "slide"
    }
   },
   "source": [
    "## Operatori za rad sa dinamičkom memorijom\n",
    " - Operator new\n",
    "   - kreira “dinamički” objekat\n",
    "   - unarni, prefiksni,\n",
    "   - nedefinisana asocijativnost,\n",
    "   - rezultat = nije lvrednost\n",
    " - Operator delete\n",
    "   - ukida (uništava) dinamički kreiran objekat\n",
    "   - unarni, prefiksni,\n",
    "   - nedefinisana asocijativnost,\n",
    "   - rezultat = nije lvrednost"
   ]
  },
  {
   "cell_type": "code",
   "execution_count": null,
   "metadata": {
    "slideshow": {
     "slide_type": "subslide"
    }
   },
   "outputs": [],
   "source": [
    "struct A { \n",
    "    int a = 5;\n",
    "    double b = 7.;\n",
    "};\n",
    "\n",
    "A a = {9, 9.};\n",
    "A *b = &a;\n",
    "A *c = new A();\n",
    "A *d = &(*c);\n",
    "A *d1 = c;\n",
    "A *e = new A(a);\n",
    "delete c;\n",
    "delete e;\n",
    "\n",
    "int *f = new int[5];\n",
    "f[0] = f[1] = f[2] = f[4] = 3;\n",
    "delete [] f; //oslobadjanje dinamickog niza; "
   ]
  },
  {
   "cell_type": "markdown",
   "metadata": {
    "slideshow": {
     "slide_type": "slide"
    }
   },
   "source": [
    "##  Ostali operatori\n",
    " - Operator indeksiranja: \" [ ] \"\n",
    " - Operator uslova: \" ? : \"\n",
    " - Operator zarez: \" , \"\n",
    " - Operator sizeof: \" sizeof ( ) \"\n",
    " - Operator eksplicitne konverzije: \" (tip) \"\n",
    " - Operator pristupa globalnom imenu: \" :: \"\n"
   ]
  },
  {
   "cell_type": "markdown",
   "metadata": {
    "slideshow": {
     "slide_type": "slide"
    }
   },
   "source": [
    "### Operator indeksiranja - \" [ ] \"\n",
    "\n",
    "je binarni operator leve asocijativnosti, a rezultat je lvrednost. Prvi operand je niz, dok je drugi operand celi broj. `niz[i]` je isto kao i `*(niz + i)`."
   ]
  },
  {
   "cell_type": "code",
   "execution_count": null,
   "metadata": {
    "slideshow": {
     "slide_type": "subslide"
    }
   },
   "outputs": [],
   "source": [
    "int niz[5] = {1, 2, 3, 4, 5};\n",
    "std::cout << (niz[3] == *(niz + 3)) << std::endl;"
   ]
  },
  {
   "cell_type": "markdown",
   "metadata": {
    "slideshow": {
     "slide_type": "slide"
    }
   },
   "source": [
    "### Operator uslova - \" ? : \"\n",
    "\n",
    "Zapis: `(uslov) ? izraz1 : izraz2`, predstavlja skraćeni način da se napiše `if(uslov) izraz1; else izraz2;`. Rezultat je lvrednost. "
   ]
  },
  {
   "cell_type": "code",
   "execution_count": null,
   "metadata": {
    "slideshow": {
     "slide_type": "subslide"
    }
   },
   "outputs": [],
   "source": [
    "auto l = 7, k = 9;\n",
    "auto res = (l > k) ? l : k;\n",
    "std::cout << \"res = \" << res << std::endl;"
   ]
  },
  {
   "cell_type": "markdown",
   "metadata": {
    "slideshow": {
     "slide_type": "slide"
    }
   },
   "source": [
    "### Operator zarez -  \" , \"\n",
    "\n",
    "Binarni operator, leve asocijativnosti, ima sledeći zapis: `izraz1, izraz2`. Rezultat je lvrednost, a tip rezultata jednak je tipu koji vraća izraz2."
   ]
  },
  {
   "cell_type": "code",
   "execution_count": null,
   "metadata": {
    "slideshow": {
     "slide_type": "subslide"
    }
   },
   "outputs": [],
   "source": [
    "k = 5, l += k;\n",
    "std::cout << \"k = \" << k << \",\\t l = \" << l << std::endl;"
   ]
  },
  {
   "cell_type": "markdown",
   "metadata": {
    "slideshow": {
     "slide_type": "slide"
    }
   },
   "source": [
    "### Operator sizeof\n",
    "\n",
    "Unarni operator, desne asocijativnosti, koji vraća veličinu podatka u bajtovima. Operand ne može biti funkcija, tip void, niz nepoznate dimenzije (npr. alociran na heap-u) ili bit polje. "
   ]
  },
  {
   "cell_type": "code",
   "execution_count": null,
   "metadata": {
    "slideshow": {
     "slide_type": "subslide"
    }
   },
   "outputs": [],
   "source": [
    "std::cout << sizeof(int) << std::endl;\n",
    "std::cout << (sizeof k ) << std::endl;\n",
    "std::cout << sizeof(k) << std::endl;"
   ]
  },
  {
   "cell_type": "markdown",
   "metadata": {
    "slideshow": {
     "slide_type": "slide"
    }
   },
   "source": [
    "### Operator eksplicitne konverzije\n",
    "\n",
    "Unarni operator desne asocijativnosti, ima zapis `tip (izraz)` (konverzija preko konstruktora) ili `(tip) izraz` (konverzija preko cast operatora). Rezultat može da bude lvrednost, ali samo u specijalnim slučajevima. "
   ]
  },
  {
   "cell_type": "code",
   "execution_count": null,
   "metadata": {
    "slideshow": {
     "slide_type": "subslide"
    }
   },
   "outputs": [],
   "source": [
    "#include <typeinfo>\n",
    "\n",
    "std::cout << typeid(double).name() << \" <-> \" << typeid(double(k)).name() << std::endl;\n",
    "std::cout << typeid(double).name() << \" <-> \" << typeid((double)l).name() << std::endl;"
   ]
  },
  {
   "cell_type": "markdown",
   "metadata": {
    "slideshow": {
     "slide_type": "slide"
    }
   },
   "source": [
    "### Operator pristupa globalnom imenu (scope)\n",
    "\n",
    "Unarni operator, desne asocijativnosti. Rezultat može biti lvrednost, ali samo u posebnim slučajevima. "
   ]
  },
  {
   "cell_type": "code",
   "execution_count": null,
   "metadata": {
    "slideshow": {
     "slide_type": "subslide"
    }
   },
   "outputs": [],
   "source": [
    "auto g = 0;"
   ]
  },
  {
   "cell_type": "code",
   "execution_count": null,
   "metadata": {
    "slideshow": {
     "slide_type": "fragment"
    }
   },
   "outputs": [],
   "source": [
    "void foo() {\n",
    "    ::g++; //pristupamo gornjem g-u\n",
    "}"
   ]
  },
  {
   "cell_type": "code",
   "execution_count": null,
   "metadata": {
    "slideshow": {
     "slide_type": "fragment"
    }
   },
   "outputs": [],
   "source": [
    "foo(); // g = 1;\n",
    "foo(); // g = 2;\n",
    "foo(); // g = 3;\n",
    "std::cout << \"g = \" << g << std::endl;"
   ]
  },
  {
   "cell_type": "code",
   "execution_count": null,
   "metadata": {
    "slideshow": {
     "slide_type": "fragment"
    }
   },
   "outputs": [],
   "source": [
    "auto i = 0;"
   ]
  },
  {
   "cell_type": "code",
   "execution_count": null,
   "metadata": {
    "slideshow": {
     "slide_type": "fragment"
    }
   },
   "outputs": [],
   "source": [
    "for(auto i = 0; i < 3; ++i)\n",
    "    std::cout << i << \" <-> \" << (::i) << std::endl;"
   ]
  },
  {
   "cell_type": "markdown",
   "metadata": {
    "slideshow": {
     "slide_type": "slide"
    }
   },
   "source": [
    "## Prioritet izvršavanja\n",
    "\n",
    "U C++-u postoji preko 50 operatora i oko 17 nivoa prioriteta. Nivo prioriteta određuje koji operator će se prvi izvršiti u izrazima gde postoje više prioriteta različitog nivoa. U slučaju operatora istog nivoa, operatori se izvršavaju s desna na levo. Moguće je nametnuti prioritet korišćenjem malih zagrada - prvo se izvršavaju izrazi u zagradama. Moguće je ugnježditi zagrade do proizvoljne dubine. "
   ]
  },
  {
   "cell_type": "markdown",
   "metadata": {
    "slideshow": {
     "slide_type": "slide"
    }
   },
   "source": [
    "## Rezime\n",
    "\n",
    "Operator ( eng. operator )\n",
    " * radnja koja se izvršava nad operandima \n",
    " * daje određeni rezultat\n",
    " \n",
    "Podela operatora:\n",
    "- aritmetički (npr. +, -, ++, ...)\n",
    "- logički (npr. &&, ||, !)\n",
    "- “bitski” (npr. &, |, ^, >>, <<, ...)\n",
    "- relacioni operatori i operatori jednakosti / nejednakosti (npr. <,>,==,!=,...)\n",
    "- dodele (npr. =, +=. *=, ...)\n",
    "- referenciranja i dereferenciranja (npr. *, &)\n",
    "- za rad sa dinamičkom memorijom (npr. new, delete)\n",
    "- ostali (npr. `[]`, `?:`, `,`, ... ) \n",
    "\n",
    "Izraz ( eng. expression ) je sekvenca operatora i operanada koja definiše određenu obradu"
   ]
  }
 ],
 "metadata": {
  "celltoolbar": "Slideshow",
  "kernelspec": {
   "display_name": "C++17",
   "language": "C++17",
   "name": "xcpp17"
  },
  "language_info": {
   "codemirror_mode": "text/x-c++src",
   "file_extension": ".cpp",
   "mimetype": "text/x-c++src",
   "name": "c++",
   "version": "-std=c++17"
  }
 },
 "nbformat": 4,
 "nbformat_minor": 4
}
