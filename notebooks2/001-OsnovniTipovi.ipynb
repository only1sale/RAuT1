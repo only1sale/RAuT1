{
 "cells": [
  {
   "cell_type": "markdown",
   "metadata": {
    "slideshow": {
     "slide_type": "slide"
    }
   },
   "source": [
    "# Primitivni Tipovi \n",
    "\n",
    "\n",
    "#### Aleksandar Minja <br> Mart 2020"
   ]
  },
  {
   "cell_type": "code",
   "execution_count": 1,
   "metadata": {
    "slideshow": {
     "slide_type": "fragment"
    }
   },
   "outputs": [],
   "source": [
    "#include <iostream>"
   ]
  },
  {
   "cell_type": "markdown",
   "metadata": {
    "slideshow": {
     "slide_type": "slide"
    }
   },
   "source": [
    "## Osnovni tipovi i promenljive\n",
    "\n",
    "Promenljiva se definiše na sledeći način: [tip] [ime] = [vrednost].\n",
    "\n",
    "[tip] može biti bilo koji osnovni (int, char, double, ...), složeni (niz, funkcija, pokazivač, nabrajanje, ...) ili korisnički definisan tip (unija, struktura ili klasa).\n",
    "\n",
    "[ime] predstavlja naziv promenljive preko koje možemo da joj pristupimo. Svaka promenljiva (i samim tim i njeno ime) ima oblast važenja. \n",
    "\n",
    "Ukoliko nekoj promenljivoj ne dodelimo početnu [vrednost] (inicijalizacija) ona će dobiti neku automatsku početnu vrednost."
   ]
  },
  {
   "cell_type": "code",
   "execution_count": 2,
   "metadata": {
    "slideshow": {
     "slide_type": "subslide"
    }
   },
   "outputs": [],
   "source": [
    "int a;\n",
    "int b = 4;\n",
    "double c;\n",
    "float d = 5;\n",
    "char e = 'c';\n",
    "bool f = false; "
   ]
  },
  {
   "cell_type": "code",
   "execution_count": 3,
   "metadata": {
    "slideshow": {
     "slide_type": "fragment"
    }
   },
   "outputs": [
    {
     "name": "stdout",
     "output_type": "stream",
     "text": [
      "a: 0, size: 4\n",
      "b: 4, size: 4\n",
      "c: 0, size: 8\n",
      "d: 5, size: 4\n",
      "e: c, size: 1\n",
      "f: 0, size: 1\n"
     ]
    }
   ],
   "source": [
    "std::cout << \"a: \" << a << \", size: \" << sizeof(a) << std::endl;\n",
    "std::cout << \"b: \" << b << \", size: \" << sizeof(b) << std::endl;\n",
    "std::cout << \"c: \" << c << \", size: \" << sizeof(c) << std::endl;\n",
    "std::cout << \"d: \" << d << \", size: \" << sizeof(d) << std::endl;\n",
    "std::cout << \"e: \" << e << \", size: \" << sizeof(e) << std::endl;\n",
    "std::cout << \"f: \" << f << \", size: \" << sizeof(f) << std::endl;"
   ]
  },
  {
   "cell_type": "markdown",
   "metadata": {
    "slideshow": {
     "slide_type": "slide"
    }
   },
   "source": [
    "## Određivanje tipa promenljive\n",
    "\n",
    "Za određivanje tipa promenljive, C++ sadrži operator **typeid** koji je definisan u biblioteci *typeinfo*. Slično kao i sizeof operator, typeid može da primi tip, promenljivu ili vrednost, a sam ispis zavisi od implementacije."
   ]
  },
  {
   "cell_type": "code",
   "execution_count": 4,
   "metadata": {
    "slideshow": {
     "slide_type": "slide"
    }
   },
   "outputs": [],
   "source": [
    "#include <typeinfo>"
   ]
  },
  {
   "cell_type": "code",
   "execution_count": 5,
   "metadata": {
    "slideshow": {
     "slide_type": "fragment"
    }
   },
   "outputs": [
    {
     "name": "stdout",
     "output_type": "stream",
     "text": [
      "i == i\n",
      "i == i\n",
      "d == d\n",
      "f == f\n",
      "c == c\n",
      "b == b\n"
     ]
    }
   ],
   "source": [
    "std::cout << typeid(a).name() << \" == \" << typeid(int).name() << std::endl;\n",
    "std::cout << typeid(b).name() << \" == \" << typeid(int).name() << std::endl;\n",
    "std::cout << typeid(c).name() << \" == \" << typeid(double).name() << std::endl;\n",
    "std::cout << typeid(d).name() << \" == \" << typeid(float).name() << std::endl;\n",
    "std::cout << typeid(e).name() << \" == \" << typeid(char).name() << std::endl;\n",
    "std::cout << typeid(f).name() << \" == \" << typeid(bool).name() << std::endl;"
   ]
  },
  {
   "cell_type": "markdown",
   "metadata": {
    "slideshow": {
     "slide_type": "slide"
    }
   },
   "source": [
    "## Literali"
   ]
  },
  {
   "cell_type": "markdown",
   "metadata": {
    "slideshow": {
     "slide_type": "subslide"
    }
   },
   "source": [
    "## Celobrojni\n",
    "\n",
    "Celobrojni literali mogu biti zadati u:\n",
    "- decimalnom zapisu (obični brojevi), \n",
    "- oktalnom zapisu (počinju sa cifrom \"0\" nakon koje idu cifre od 0 do 7), \n",
    "- heksadecimalnom zapisu (počinju sa 0x/0X nakon čega idu cifre od 0 do 9 i slova a - f, tj A - F) i \n",
    "- u binarnom zapisu (počinju sa 0b/0B nakon čega idu 0 i 1). \n",
    "Takođe je moguće koristiti sufikse u/U - unsigned i l/L - long. "
   ]
  },
  {
   "cell_type": "code",
   "execution_count": 6,
   "metadata": {
    "slideshow": {
     "slide_type": "subslide"
    }
   },
   "outputs": [
    {
     "data": {
      "text/plain": [
       "8"
      ]
     },
     "execution_count": 6,
     "metadata": {},
     "output_type": "execute_result"
    }
   ],
   "source": [
    "sizeof(int long long)"
   ]
  },
  {
   "cell_type": "code",
   "execution_count": 7,
   "metadata": {
    "slideshow": {
     "slide_type": "fragment"
    }
   },
   "outputs": [
    {
     "name": "stdout",
     "output_type": "stream",
     "text": [
      "235\n",
      "157\n",
      "565\n",
      "65450\n",
      "29\n"
     ]
    }
   ],
   "source": [
    "std::cout << 235UL << std::endl;\n",
    "std::cout << 0235LL << std::endl;\n",
    "std::cout << 0x235UL << std::endl;\n",
    "std::cout << 0XFFAAll << std::endl;\n",
    "std::cout << 0b011101ul << std::endl;"
   ]
  },
  {
   "cell_type": "markdown",
   "metadata": {
    "slideshow": {
     "slide_type": "subslide"
    }
   },
   "source": [
    "## Broj u pokretnoj tački\n",
    "\n",
    "- Realni brojevi se zapisuju sa \".\" iza koje mogu ići cifre (npr. 4. i 3.141). \n",
    "- Mogu se zapisati kao realni broj sa eksponatom (3.14e15, 5.25E-10). \n",
    "\n",
    "Moguće je koristiti sufiks l (long) i f koji označava float (dok je podrazumevana vrednost double)."
   ]
  },
  {
   "cell_type": "code",
   "execution_count": 8,
   "metadata": {
    "slideshow": {
     "slide_type": "subslide"
    }
   },
   "outputs": [
    {
     "name": "stdout",
     "output_type": "stream",
     "text": [
      "3.1415\n",
      "3.1415\n",
      "3.14e-10\n",
      "3.14e+07\n"
     ]
    }
   ],
   "source": [
    "std::cout << 3.1415l << std::endl;\n",
    "std::cout << 3.1415f << std::endl;\n",
    "std::cout << 3.14e-10 << std::endl;\n",
    "std::cout << 3.14E7L << std::endl;"
   ]
  },
  {
   "cell_type": "markdown",
   "metadata": {
    "slideshow": {
     "slide_type": "subslide"
    }
   },
   "source": [
    "## Znakovi (char)\n",
    "\n",
    "Znakovi se pišu između jednostrukih navodnika. \n",
    "  - Ili se navodi znak ('a') \n",
    "  - ili se zadaje ASCII kod u heksadecimalnom ili oktalnom obliku koji odgovara datom znaku ('\\x61' ili '\\141'). \n",
    "\n",
    "## Stringovi\n",
    "\n",
    "String se navodi između dvostrukih navodnika (\"ovo je string\")."
   ]
  },
  {
   "cell_type": "code",
   "execution_count": 9,
   "metadata": {
    "slideshow": {
     "slide_type": "subslide"
    }
   },
   "outputs": [
    {
     "name": "stdout",
     "output_type": "stream",
     "text": [
      "a\n",
      "a\n",
      "a\n",
      "a\n",
      "RAuT\n"
     ]
    }
   ],
   "source": [
    "std::cout << 'a' << std::endl;\n",
    "std::cout << '\\x61' << std::endl;\n",
    "std::cout << '\\141' << std::endl;\n",
    "std::cout << \"a\" << std::endl;\n",
    "std::cout << \"RAuT\" << std::endl;"
   ]
  },
  {
   "cell_type": "markdown",
   "metadata": {
    "slideshow": {
     "slide_type": "slide"
    }
   },
   "source": [
    "## Specifikatori\n",
    "\n",
    "Specifikatori služe za modifikaciju količine memorijskog prostora potrebnog za čuvanje podataka (*short* i *long*), kao i reinterpretaciju smeštenih podataka (*signed* i *unsigned*). Celobrojni tip (int) može da kombinuje specifikator veličine i specifikator interpretacije tipa (npr. unsigned long).\n",
    "\n",
    "| **char** | **int** | **double** |\n",
    "| :--- | :--- | :--- |\n",
    "| signed | signed | |\n",
    "| unsigned | unsgined | |\n",
    "| | short | |\n",
    "| | long | long |\n",
    "| | long long | |\n",
    " "
   ]
  },
  {
   "cell_type": "code",
   "execution_count": 10,
   "metadata": {
    "slideshow": {
     "slide_type": "subslide"
    }
   },
   "outputs": [
    {
     "name": "stdout",
     "output_type": "stream",
     "text": [
      "a ... 1\n",
      "h ... 1\n",
      "s ... 2\n",
      "i ... 4\n",
      "l ... 8\n",
      "m ... 8\n",
      "y ... 8\n",
      "x ... 8\n",
      "d ... 8\n",
      "e ... 16\n"
     ]
    }
   ],
   "source": [
    "std::cout << typeid(signed char).name()        << \" ... \" << sizeof(signed char)        << std::endl;\n",
    "std::cout << typeid(unsigned char).name()      << \" ... \" << sizeof(unsigned char)      << std::endl;\n",
    "std::cout << typeid(short).name()              << \" ... \" << sizeof(short)              << std::endl;\n",
    "std::cout << typeid(int).name()                << \" ... \" << sizeof(int)                << std::endl;\n",
    "std::cout << typeid(long).name()               << \" ... \" << sizeof(long)               << std::endl;\n",
    "std::cout << typeid(unsigned long).name()      << \" ... \" << sizeof(unsigned long)      << std::endl;\n",
    "std::cout << typeid(unsigned long long).name() << \" ... \" << sizeof(unsigned long long) << std::endl;\n",
    "std::cout << typeid(long long).name()          << \" ... \" << sizeof(long long)          << std::endl;\n",
    "std::cout << typeid(double).name()             << \" ... \" << sizeof(double)             << std::endl;\n",
    "std::cout << typeid(long double).name()        << \" ... \" << sizeof(long double)        << std::endl;"
   ]
  },
  {
   "cell_type": "markdown",
   "metadata": {
    "slideshow": {
     "slide_type": "slide"
    }
   },
   "source": [
    "## Automatska dedukcija tipa\n",
    "\n",
    "C++ je u stanju da prilikom inicijalizacije sam odredi tip promenljive na osnovu dodeljene vrednosti. Ukoliko želimo da C++ sam zaključi tip, koristimo ključnu reč **auto**. Takođe je moguće definisati da podatak ima isti tip kao neki drugi podatak pomoću operatora **decltype**."
   ]
  },
  {
   "cell_type": "code",
   "execution_count": 11,
   "metadata": {
    "slideshow": {
     "slide_type": "subslide"
    }
   },
   "outputs": [],
   "source": [
    "auto var1 = 4;\n",
    "auto var2 = 4UL;\n",
    "auto var3 = 4ULL;\n",
    "auto var4 = 4.0;\n",
    "auto var5 = 4.f;\n",
    "auto var6 = '4';\n",
    "auto var7 = true;"
   ]
  },
  {
   "cell_type": "code",
   "execution_count": 12,
   "metadata": {
    "slideshow": {
     "slide_type": "fragment"
    }
   },
   "outputs": [
    {
     "name": "stdout",
     "output_type": "stream",
     "text": [
      "i <=> i\n",
      "m <=> m\n",
      "y <=> y\n",
      "d <=> d\n",
      "f <=> f\n",
      "c <=> c\n",
      "b <=> b\n"
     ]
    }
   ],
   "source": [
    "std::cout << typeid(var1).name() << \" <=> \" << typeid(int).name()                << std::endl;\n",
    "std::cout << typeid(var2).name() << \" <=> \" << typeid(unsigned long).name()      << std::endl;\n",
    "std::cout << typeid(var3).name() << \" <=> \" << typeid(unsigned long long).name() << std::endl;\n",
    "std::cout << typeid(var4).name() << \" <=> \" << typeid(double).name()             << std::endl;\n",
    "std::cout << typeid(var5).name() << \" <=> \" << typeid(float).name()              << std::endl;\n",
    "std::cout << typeid(var6).name() << \" <=> \" << typeid(char).name()               << std::endl;\n",
    "std::cout << typeid(var7).name() << \" <=> \" << typeid(bool).name()               << std::endl;"
   ]
  },
  {
   "cell_type": "code",
   "execution_count": 13,
   "metadata": {
    "slideshow": {
     "slide_type": "subslide"
    }
   },
   "outputs": [],
   "source": [
    "decltype(var1) v1;\n",
    "decltype(var2) v2;\n",
    "decltype(var3) v3;\n",
    "decltype(var4) v4;\n",
    "decltype(var5) v5;\n",
    "decltype(var6) v6;\n",
    "decltype(var7) v7;"
   ]
  },
  {
   "cell_type": "code",
   "execution_count": 14,
   "metadata": {
    "slideshow": {
     "slide_type": "fragment"
    }
   },
   "outputs": [
    {
     "name": "stdout",
     "output_type": "stream",
     "text": [
      "i <=> i\n",
      "m <=> m\n",
      "y <=> y\n",
      "d <=> d\n",
      "f <=> f\n",
      "c <=> c\n",
      "b <=> b\n"
     ]
    }
   ],
   "source": [
    "std::cout << typeid(var1).name() << \" <=> \" << typeid(v1).name() << std::endl;\n",
    "std::cout << typeid(var2).name() << \" <=> \" << typeid(v2).name() << std::endl;\n",
    "std::cout << typeid(var3).name() << \" <=> \" << typeid(v3).name() << std::endl;\n",
    "std::cout << typeid(var4).name() << \" <=> \" << typeid(v4).name() << std::endl;\n",
    "std::cout << typeid(var5).name() << \" <=> \" << typeid(v5).name() << std::endl;\n",
    "std::cout << typeid(var6).name() << \" <=> \" << typeid(v6).name() << std::endl;\n",
    "std::cout << typeid(var7).name() << \" <=> \" << typeid(v7).name() << std::endl;"
   ]
  },
  {
   "cell_type": "markdown",
   "metadata": {
    "slideshow": {
     "slide_type": "slide"
    }
   },
   "source": [
    "## Modifikatori\n",
    "\n",
    "Modifikatori pružaju dodatnu informaciju o promenljivoj prilikom njenog uvođenja. C++ dozvoljava nekoliko modfifikatora, od kojih su najznačajniji:\n",
    "* const: promenljiva koja ima const modifikator, ne može biti promenjena prilikom izvršavanja programa\n",
    "* volatile: promenljiva može biti promenjena na neki drugi način, nedefinisan programom. Na ovaj način se stavlja do znanja kompajleru da ne optimizuje datu promenljivu, pošto to može dovesti do neželjenog ponašanja.\n",
    "* restrict: samo za pokazivače (int restrict *p), ako je bilo koji objekat modifikovan od strane restrict pokazivača u nekom bloku, onda može biti modifikovan samo preko tog pokazivača.\n",
    "\n",
    "Restrict i volatile se ređe koriste, tako da ćemo se za sad samo ograničiti na const modifikator."
   ]
  },
  {
   "cell_type": "code",
   "execution_count": 15,
   "metadata": {
    "slideshow": {
     "slide_type": "subslide"
    }
   },
   "outputs": [],
   "source": [
    "const int vv = 5;\n",
    "int vx = vv;"
   ]
  },
  {
   "cell_type": "code",
   "execution_count": 17,
   "metadata": {
    "slideshow": {
     "slide_type": "fragment"
    }
   },
   "outputs": [
    {
     "name": "stdout",
     "output_type": "stream",
     "text": [
      "5 == 5\n"
     ]
    }
   ],
   "source": [
    "std::cout << vv << \" == \" << vx << std::endl;"
   ]
  },
  {
   "cell_type": "markdown",
   "metadata": {
    "slideshow": {
     "slide_type": "slide"
    }
   },
   "source": [
    "## Rezime\n",
    "\n",
    "Deklaracija promenljive ima sintaksu `[tip] [ime] = [vrednost]` (npr. `int x = 42`).\n",
    "\n",
    "Osnovni (primitivni) tipovi:\n",
    "  - Celobrojni tipovi \n",
    "  - Znakovi\n",
    "  - Boolean vrednosti\n",
    "  - Brojevi u pokretnoj tački (zarezu)\n",
    "\n",
    "Specifikatori: modifikacija prostora (*short* i *long*) i promena reprezentacije (*signed* i *unsigned*)\n",
    "\n",
    "Modifikatori: **const**, **volatile**, **restrict**.\n",
    "\n",
    "Automatska dedukcija tipa: **auto** i **decltype**.\n"
   ]
  }
 ],
 "metadata": {
  "celltoolbar": "Slideshow",
  "kernelspec": {
   "display_name": "C++17",
   "language": "C++17",
   "name": "xcpp17"
  },
  "language_info": {
   "codemirror_mode": "text/x-c++src",
   "file_extension": ".cpp",
   "mimetype": "text/x-c++src",
   "name": "c++",
   "version": "-std=c++17"
  }
 },
 "nbformat": 4,
 "nbformat_minor": 4
}
