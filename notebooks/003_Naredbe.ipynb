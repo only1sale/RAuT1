{
 "cells": [
  {
   "cell_type": "markdown",
   "metadata": {},
   "source": [
    "# Naredbe\n",
    "\n",
    "#### Aleksandar Minja <br> Oktobar 2019"
   ]
  },
  {
   "cell_type": "markdown",
   "metadata": {},
   "source": [
    "Naredba je osnovna jedinica obrade u programima, koja kontroliše šta će se i kojim redom izvršavati, inicira dejstvo ali ne vraća nikakav rezultat (za razliku od izraza). Naredbe se dele na:\n",
    "* proste\n",
    "* složene\n",
    "* upravljačke"
   ]
  },
  {
   "cell_type": "markdown",
   "metadata": {},
   "source": [
    "Proste naredbe se ne mogu podeliti na manje delove koji bi sami predstavljali naredbe. Dele se na:\n",
    "* izrazi kao naredbe (eng. expression statement)\n",
    "    * završava se sa \";\": `izraz;`. Postoji i prazna naredba: `;`. \n",
    "* naredba obeležena labelon (eng. labeled statement)\n",
    "    * Označava poziciju u programu. Sintaksa: `identifikator: naredba`.\n",
    "* deklaracija kao naredba (eng. declaration statement)\n",
    "    * Uvodi ime u program. Oblast važenja imena jeste od mesta deklaracije do kraja bloka u kojem se deklaracija nalazi."
   ]
  },
  {
   "cell_type": "markdown",
   "metadata": {},
   "source": [
    "Složene naredbe predstavljaju strukture kojima se određuje redosled izvršavanja naredbi. Dele se na:\n",
    "* sekvenca (blok) (eng. compound statement)\n",
    "    * Niz naredbi uokviren parom vitičastih zagrada \"{ }\". Na kraju sekvence se ne stavlja znak \";\". \n",
    "* selecija (eng. selection statement)\n",
    "    * Selekcija koja omogućava uslovno izvršavanje naredbi. Postoje dva tipa selekcije:\n",
    "       * if\n",
    "       * switch\n",
    "* iteracija (eng. iteration statement)\n",
    "    * Omogućava ponavljanje izvršavanja određenih naredbi. C++ ima sledeće iteracije:\n",
    "       * while\n",
    "       * do - while\n",
    "       * for\n",
    "       * for each za nizove"
   ]
  },
  {
   "cell_type": "markdown",
   "metadata": {},
   "source": [
    "Upravljačke naredbe (skokovi) služe za promenu toka izvršavanja iz jedne tačke u drugu. Ne vraćaju nikakve rezultate i ne vrše nikakvu obradu. C++ ima 4 upravljačke naredbe:\n",
    "* break\n",
    "* continue\n",
    "* goto\n",
    "* return"
   ]
  },
  {
   "cell_type": "markdown",
   "metadata": {},
   "source": [
    "### Selekcija if\n",
    "\n"
   ]
  },
  {
   "cell_type": "code",
   "execution_count": 1,
   "metadata": {},
   "outputs": [],
   "source": [
    "#include <iostream>"
   ]
  },
  {
   "cell_type": "code",
   "execution_count": 2,
   "metadata": {},
   "outputs": [],
   "source": [
    "auto x = 5, y = 7;"
   ]
  },
  {
   "cell_type": "code",
   "execution_count": 3,
   "metadata": {},
   "outputs": [
    {
     "name": "stdout",
     "output_type": "stream",
     "text": [
      "y je vece of x!\n"
     ]
    }
   ],
   "source": [
    "if(x > y)\n",
    "    std::cout << \"x je vece od y!\" << std::endl;\n",
    "else if(x < y)\n",
    "    std::cout << \"y je vece of x!\" << std::endl;\n",
    "else\n",
    "    std::cout << \"x i y su jednaki!\" << std::endl;"
   ]
  },
  {
   "cell_type": "markdown",
   "metadata": {},
   "source": [
    "### Selekcija switch\n",
    "\n"
   ]
  },
  {
   "cell_type": "code",
   "execution_count": 4,
   "metadata": {},
   "outputs": [],
   "source": [
    "x = 5;\n",
    "switch(x) {\n",
    "    case 0: \n",
    "        break;\n",
    "    case 1:\n",
    "        break;\n",
    "    case 2:\n",
    "        break;\n",
    "    case 3:\n",
    "        break;\n",
    "    case 4:\n",
    "        break;\n",
    "    case 5:\n",
    "        break;\n",
    "    default:\n",
    "        ;\n",
    "}"
   ]
  },
  {
   "cell_type": "markdown",
   "metadata": {},
   "source": [
    "Range switch..."
   ]
  },
  {
   "cell_type": "code",
   "execution_count": 5,
   "metadata": {},
   "outputs": [],
   "source": [
    "x = 10;\n",
    "auto res = 0;"
   ]
  },
  {
   "cell_type": "code",
   "execution_count": 6,
   "metadata": {},
   "outputs": [
    {
     "name": "stdout",
     "output_type": "stream",
     "text": [
      "Res = 500\n"
     ]
    }
   ],
   "source": [
    "switch(x) {\n",
    "    case 0 ... 3: //0 ... 3, ne 0...3 (mora space!!!)\n",
    "        res += 10;\n",
    "        break;\n",
    "    case 4 ... 7:\n",
    "        res += 100;\n",
    "        break;\n",
    "    case 8 ... 10:\n",
    "        res += 500;\n",
    "        break;\n",
    "    default:\n",
    "        res += 1;\n",
    "}\n",
    "std::cout << \"Res = \" << res << std::endl;"
   ]
  },
  {
   "cell_type": "markdown",
   "metadata": {},
   "source": [
    "### While"
   ]
  },
  {
   "cell_type": "code",
   "execution_count": 7,
   "metadata": {},
   "outputs": [
    {
     "name": "stdout",
     "output_type": "stream",
     "text": [
      "1\n",
      "2\n",
      "3\n",
      "4\n",
      "5\n"
     ]
    }
   ],
   "source": [
    "x = 0;\n",
    "while(x < 5) {\n",
    "    std::cout << ++x << std::endl;\n",
    "}"
   ]
  },
  {
   "cell_type": "code",
   "execution_count": 8,
   "metadata": {},
   "outputs": [
    {
     "name": "stdout",
     "output_type": "stream",
     "text": [
      "Res = 55\n"
     ]
    }
   ],
   "source": [
    "res = 0, x = 0;\n",
    "while(x < 10) {\n",
    "    res += ++x;\n",
    "}\n",
    "std::cout << \"Res = \" << res << std::endl;"
   ]
  },
  {
   "cell_type": "code",
   "execution_count": 9,
   "metadata": {},
   "outputs": [],
   "source": [
    "x = 0;\n",
    "while(x > 5) {\n",
    "    std::cout << ++x << std::endl;\n",
    "}"
   ]
  },
  {
   "cell_type": "markdown",
   "metadata": {},
   "source": [
    "### Do while"
   ]
  },
  {
   "cell_type": "code",
   "execution_count": 10,
   "metadata": {},
   "outputs": [
    {
     "name": "stdout",
     "output_type": "stream",
     "text": [
      "1\n"
     ]
    }
   ],
   "source": [
    "x = 0;\n",
    "do {\n",
    "    std::cout << ++x << std::endl;\n",
    "}while(x > 5);"
   ]
  },
  {
   "cell_type": "markdown",
   "metadata": {},
   "source": [
    "### For"
   ]
  },
  {
   "cell_type": "code",
   "execution_count": 11,
   "metadata": {},
   "outputs": [
    {
     "name": "stdout",
     "output_type": "stream",
     "text": [
      "99"
     ]
    }
   ],
   "source": [
    "#include \"../src/utility.h\" // delay() function\n",
    "for(auto i = 0; i < 10; ++i)\n",
    "    for(auto j = 0; j < 10; ++j) {\n",
    "        std::cout << '\\r' << i << j;\n",
    "        std::cout.flush();\n",
    "        raut::delay(500ms);\n",
    "    }"
   ]
  },
  {
   "cell_type": "markdown",
   "metadata": {},
   "source": [
    "### For each"
   ]
  },
  {
   "cell_type": "code",
   "execution_count": 12,
   "metadata": {},
   "outputs": [],
   "source": [
    "int niz[5] = {1, 2, 3, 4, 5};"
   ]
  },
  {
   "cell_type": "code",
   "execution_count": 13,
   "metadata": {},
   "outputs": [
    {
     "name": "stdout",
     "output_type": "stream",
     "text": [
      "1\n",
      "2\n",
      "3\n",
      "4\n",
      "5\n"
     ]
    }
   ],
   "source": [
    "for(auto n : niz)\n",
    "    std::cout << n << std::endl;"
   ]
  },
  {
   "cell_type": "code",
   "execution_count": 14,
   "metadata": {},
   "outputs": [
    {
     "name": "stdout",
     "output_type": "stream",
     "text": [
      "1\n",
      "2\n",
      "3\n",
      "4\n",
      "5\n"
     ]
    }
   ],
   "source": [
    "for(auto n : niz)\n",
    "    n = 100; //ova promena nece biti zapamcena, prosledjivanje po vrednosti\n",
    "for(auto n : niz)\n",
    "    std::cout << n << std::endl;"
   ]
  },
  {
   "cell_type": "code",
   "execution_count": 15,
   "metadata": {},
   "outputs": [
    {
     "name": "stdout",
     "output_type": "stream",
     "text": [
      "100\n",
      "100\n",
      "100\n",
      "100\n",
      "100\n"
     ]
    }
   ],
   "source": [
    "for(auto &n : niz) // ako zelimo da menjamo elemente niza, moramo uzimati referencu\n",
    "    n = 100;\n",
    "for(const auto &n : niz) //prosledjivanje po const referenci - ako ne menjamo el. niza\n",
    "    std::cout << n << std::endl;"
   ]
  },
  {
   "cell_type": "markdown",
   "metadata": {},
   "source": [
    "### Upravljačke naredbe (skokovi)\n",
    "\n",
    "break / continue...\n",
    "return ...\n",
    "goto ..."
   ]
  },
  {
   "cell_type": "code",
   "execution_count": 17,
   "metadata": {},
   "outputs": [
    {
     "name": "stdout",
     "output_type": "stream",
     "text": [
      "45"
     ]
    }
   ],
   "source": [
    "for(auto i = 0; i < 10; ++i) {\n",
    "    for(auto j = 0; j < 10; ++j) {\n",
    "        if(j > 5)\n",
    "            continue; //petlja se nastavlja ali se ostali deo koda preskace\n",
    "        std::cout << '\\r' << i << j;\n",
    "        std::cout.flush();\n",
    "        raut::delay(500ms);\n",
    "    }\n",
    "    if(i > 3)\n",
    "        break; //petlja se prekida;\n",
    "}"
   ]
  },
  {
   "cell_type": "code",
   "execution_count": null,
   "metadata": {},
   "outputs": [],
   "source": []
  }
 ],
 "metadata": {
  "kernelspec": {
   "display_name": "C++17",
   "language": "C++17",
   "name": "xcpp17"
  },
  "language_info": {
   "codemirror_mode": "text/x-c++src",
   "file_extension": ".cpp",
   "mimetype": "text/x-c++src",
   "name": "c++",
   "version": "-std=c++17"
  }
 },
 "nbformat": 4,
 "nbformat_minor": 2
}
