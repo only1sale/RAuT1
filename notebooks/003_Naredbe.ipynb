{
 "cells": [
  {
   "cell_type": "markdown",
   "metadata": {},
   "source": [
    "# Naredbe\n",
    "\n",
    "#### Aleksandar Minja <br> Oktobar 2019"
   ]
  },
  {
   "cell_type": "markdown",
   "metadata": {},
   "source": [
    "Naredba je osnovna jedinica obrade u programima, koja kontroliše šta će se i kojim redom izvršavati, inicira dejstvo ali ne vraća nikakav rezultat (za razliku od izraza). Naredbe se dele na:\n",
    "* proste\n",
    "* složene\n",
    "* upravljačke"
   ]
  },
  {
   "cell_type": "markdown",
   "metadata": {},
   "source": [
    "Proste naredbe se ne mogu podeliti na manje delove koji bi sami predstavljali naredbe. Dele se na:\n",
    "* izrazi kao naredbe (eng. expression statement)\n",
    "    * završava se sa \";\": `izraz;`. Postoji i prazna naredba: `;`. \n",
    "* naredba obeležena labelon (eng. labeled statement)\n",
    "    * Označava poziciju u programu. Sintaksa: `identifikator: naredba`.\n",
    "* deklaracija kao naredba (eng. declaration statement)\n",
    "    * Uvodi ime u program. Oblast važenja imena jeste od mesta deklaracije do kraja bloka u kojem se deklaracija nalazi."
   ]
  },
  {
   "cell_type": "markdown",
   "metadata": {},
   "source": [
    "Složene naredbe predstavljaju strukture kojima se određuje redosled izvršavanja naredbi. Dele se na:\n",
    "* sekvenca (blok) (eng. compound statement)\n",
    "    * Niz naredbi uokviren parom vitičastih zagrada \"{ }\". Na kraju sekvence se ne stavlja znak \";\". \n",
    "* selecija (eng. selection statement)\n",
    "    * Selekcija koja omogućava uslovno izvršavanje naredbi. Postoje dva tipa selekcije:\n",
    "       * if\n",
    "       * switch\n",
    "* iteracija (eng. iteration statement)\n",
    "    * Omogućava ponavljanje izvršavanja određenih naredbi. C++ ima sledeće iteracije:\n",
    "       * while\n",
    "       * do - while\n",
    "       * for\n",
    "       * for each za nizove"
   ]
  },
  {
   "cell_type": "markdown",
   "metadata": {},
   "source": [
    "Upravljačke naredbe (skokovi) služe za promenu toka izvršavanja iz jedne tačke u drugu. Ne vraćaju nikakve rezultate i ne vrše nikakvu obradu. C++ ima 4 upravljačke naredbe:\n",
    "* break\n",
    "* continue\n",
    "* goto\n",
    "* return"
   ]
  },
  {
   "cell_type": "markdown",
   "metadata": {},
   "source": [
    "### Selekcija if\n",
    "\n",
    "osnovni oblik `if ( izraz ) naredba1 else naredba2` (pri čemu je `else` proizvoljan), gde `izraz` mora da vrati aritmetički tip ili tip pokazivača, a `naredba` može da bude bilo kog tipa. `naredba1` se izvršava ukoliko `izraz` vraća vrednost ≠ 0 (true), a u suprotnom se izvršava `naredba2`."
   ]
  },
  {
   "cell_type": "code",
   "execution_count": null,
   "metadata": {},
   "outputs": [],
   "source": [
    "#include <iostream>"
   ]
  },
  {
   "cell_type": "code",
   "execution_count": null,
   "metadata": {},
   "outputs": [],
   "source": [
    "auto x = 5, y = 7;"
   ]
  },
  {
   "cell_type": "code",
   "execution_count": null,
   "metadata": {},
   "outputs": [],
   "source": [
    "if(x > y)\n",
    "    std::cout << \"x je vece od y!\" << std::endl;\n",
    "else if(x < y)\n",
    "    std::cout << \"y je vece of x!\" << std::endl;\n",
    "else\n",
    "    std::cout << \"x i y su jednaki!\" << std::endl;"
   ]
  },
  {
   "cell_type": "markdown",
   "metadata": {},
   "source": [
    "### Selekcija switch\n",
    "\n",
    "osnovni oblik `switch ( izraz ) naredba`, pri čemu `izraz` mora da vrati int ili vrednost koja se može konvertovati u int. Telo switch-a je najčešće složena naredba sekvenca (blok) i najčešće sadrži jednu ili više `case` labela (NE MORAMO ih koristiti, ali bez njih switch naredba je BESKORISNA!) i `default` koja može biti samo jedna. Oblik `case` labele jeste: `case konstantan_izraz: naredba`. Različite `case` labele NE MOGU da imaju istu vrednost konstantnog izraza. Na osnovu vrednosti konstantnog izraza, program selektuje odgovarajući `case`. Ukoliko ne stavimo `break`, program će nastaviti sa izvršavanjem sledećeg `case`-a."
   ]
  },
  {
   "cell_type": "code",
   "execution_count": null,
   "metadata": {},
   "outputs": [],
   "source": [
    "x = 5;\n",
    "switch(x) {\n",
    "    case 1:\n",
    "        std::cout << \"Ponedeljak\" << std::endl;\n",
    "        break;\n",
    "    case 2:\n",
    "        std::cout << \"Utorak\" << std::endl;\n",
    "        break;\n",
    "    case 3:\n",
    "        std::cout << \"Sreda\" << std::endl;\n",
    "        break;\n",
    "    case 4:\n",
    "        std::cout << \"Cetvrtak\" << std::endl;\n",
    "        break;\n",
    "    case 5:\n",
    "        std::cout << \"Petak\" << std::endl;\n",
    "        break;\n",
    "    default:\n",
    "        std::cout << \"Vikend\" << std::endl;\n",
    "}"
   ]
  },
  {
   "cell_type": "markdown",
   "metadata": {},
   "source": [
    "Moguće je specificirati opseg vrednosti koji zadovoljavaju `case` u obliku `case low ... high:`."
   ]
  },
  {
   "cell_type": "code",
   "execution_count": null,
   "metadata": {},
   "outputs": [],
   "source": [
    "x = 10;\n",
    "auto res = 0;"
   ]
  },
  {
   "cell_type": "code",
   "execution_count": null,
   "metadata": {},
   "outputs": [],
   "source": [
    "switch(x) {\n",
    "    case 0 ... 3: //0 ... 3, ne 0...3 (mora space!!!)\n",
    "        res += 10;\n",
    "        break;\n",
    "    case 4 ... 7:\n",
    "        res += 100;\n",
    "        break;\n",
    "    case 8 ... 10:\n",
    "        res += 500;\n",
    "        break;\n",
    "    default:\n",
    "        res += 1;\n",
    "}\n",
    "std::cout << \"Res = \" << res << std::endl;"
   ]
  },
  {
   "cell_type": "markdown",
   "metadata": {},
   "source": [
    "### While\n",
    "\n",
    "Iteracija sa izlaskom na vrhu. Osnovni oblik je `while(izraz) naredba`, pri čemu `izraz` MORA BITI aritmetičkog tipa ili tipa pokazivača a `naredba` se ponavlja sve dok je izraz različit od nule (true)."
   ]
  },
  {
   "cell_type": "code",
   "execution_count": null,
   "metadata": {},
   "outputs": [],
   "source": [
    "x = 0;\n",
    "while(x < 5) {\n",
    "    std::cout << ++x << std::endl;\n",
    "}"
   ]
  },
  {
   "cell_type": "code",
   "execution_count": null,
   "metadata": {},
   "outputs": [],
   "source": [
    "res = 0, x = 0;\n",
    "while(x < 10) {\n",
    "    res += ++x;\n",
    "}\n",
    "std::cout << \"Res = \" << res << std::endl;"
   ]
  },
  {
   "cell_type": "code",
   "execution_count": null,
   "metadata": {},
   "outputs": [],
   "source": [
    "x = 0;\n",
    "while(x > 5) {\n",
    "    std::cout << ++x << std::endl; // program nece uci u petlju. nista nece biti ispisano.\n",
    "}"
   ]
  },
  {
   "cell_type": "markdown",
   "metadata": {},
   "source": [
    "### Do while\n",
    "\n",
    "Iteracija sa izlaskom na dnu. Osnovni oblik je `do naredba while(izraz);`, pri čenu izraz MORA BITI aritmetičkog tipa ili tipa pokazivača, a `naredba` se ponavlja sve dok je izraz različit od nule (true)."
   ]
  },
  {
   "cell_type": "code",
   "execution_count": null,
   "metadata": {},
   "outputs": [],
   "source": [
    "x = 0;\n",
    "do {\n",
    "    std::cout << ++x << std::endl; // do while garantuje da ce se telo petlje izvrsiti bar jednom.\n",
    "}while(x > 5);"
   ]
  },
  {
   "cell_type": "markdown",
   "metadata": {},
   "source": [
    "### For\n",
    "\n",
    "Iteracija sa izlaskom na vrhu. Osnovni oblik je `for(izraz_1, izraz_2, iraz_3) naredba`, pri čemu `izraz_1` predstavlja pripremu za ulazak u iteraciju i izvršava se samo jedanput i to pred početak iteracije, `izraz_2` MORA BITI aritmetičkog tipa ili tipa pokazivača - `naredba` se ponavlja sve dok je `izraz_2` različit od nule (true).  `izraz_3` predstavlja pripremu za nastavak iteracije."
   ]
  },
  {
   "cell_type": "code",
   "execution_count": null,
   "metadata": {},
   "outputs": [],
   "source": [
    "#include \"../src/utility.h\" // delay() function\n",
    "for(auto i = 0; i < 10; ++i)\n",
    "    for(auto j = 0; j < 10; ++j) {\n",
    "        std::cout << '\\r' << i << j;\n",
    "        std::cout.flush();\n",
    "        raut::delay(500ms);\n",
    "    }"
   ]
  },
  {
   "cell_type": "markdown",
   "metadata": {},
   "source": [
    "### For each\n",
    "\n",
    "Služi za jednostavno iteriranja kroz nizove. Osnovni oblik je `for(auto x : niz) naredba`, gde `x` predstavlja lokalnu promenljivu koja dobija vrednost elementa niza i može se koristiti u `naredbi`. Elementi niza se prosleđuju po vrednosti, sem ako se drugačije ne specificira."
   ]
  },
  {
   "cell_type": "code",
   "execution_count": null,
   "metadata": {},
   "outputs": [],
   "source": [
    "int niz[5] = {1, 2, 3, 4, 5};"
   ]
  },
  {
   "cell_type": "code",
   "execution_count": null,
   "metadata": {},
   "outputs": [],
   "source": [
    "for(auto n : niz)\n",
    "    std::cout << n << std::endl;"
   ]
  },
  {
   "cell_type": "code",
   "execution_count": null,
   "metadata": {},
   "outputs": [],
   "source": [
    "for(auto n : niz)\n",
    "    n = 100; //ova promena nece biti zapamcena, prosledjivanje po vrednosti\n",
    "for(auto n : niz)\n",
    "    std::cout << n << std::endl;"
   ]
  },
  {
   "cell_type": "code",
   "execution_count": null,
   "metadata": {},
   "outputs": [],
   "source": [
    "for(auto &n : niz) // ako zelimo da menjamo elemente niza, moramo uzimati referencu\n",
    "    n = 100;\n",
    "for(const auto &n : niz) //prosledjivanje po const referenci - ako ne menjamo el. niza\n",
    "    std::cout << n << std::endl;"
   ]
  },
  {
   "cell_type": "markdown",
   "metadata": {},
   "source": [
    "### Upravljačke naredbe (skokovi)\n",
    "\n",
    "Naredba `break` služi za iskakanje iz iteracije (prevremeni završetak iteracije) ili iz switch naredbe selekcije (preskakanje preostalih naredbi iz ove selekcije). Tok izvršavanja se prenosi neposredno iza iteracije ili switch selekcije, a u slučaju ugnežđenih iteracija ili switch selekcija iskače se samo iz najdublje, tj. služi samo za 1 nivo. Naredba `continue` predstavlja skok na kraj iteracije, ali ne iskače već forsira proveru uslova iteracije i eventualno ponovno odrađivanje naredbe. Kod for iteracije forsira i izvršavanje izraza koji se inače odrađuje na kraju svake iteracije. Upotreba `continue` naredbe dozvoljena je samo unutar iteracija!!!. Naredba `return` služi za povratak iz funkcije na mesto poziva te funkcije. Može biti više `return` naredbi unutar tela funkcije."
   ]
  },
  {
   "cell_type": "code",
   "execution_count": null,
   "metadata": {},
   "outputs": [],
   "source": [
    "for(auto i = 0; i < 10; ++i) {\n",
    "    for(auto j = 0; j < 10; ++j) {\n",
    "        if(j > 5)\n",
    "            continue; //petlja se nastavlja ali se ostali deo koda preskace\n",
    "        std::cout << '\\r' << i << j;\n",
    "        std::cout.flush();\n",
    "        raut::delay(500ms);\n",
    "    }\n",
    "    if(i > 3)\n",
    "        break; //petlja se prekida;\n",
    "}"
   ]
  },
  {
   "cell_type": "markdown",
   "metadata": {},
   "source": [
    "Naredba `goto` je opasna, i u većini slučajeva se može izbeći njeno korišćenje. Osnovni oblik je `goto identifikator ;`, gde `identifikator` predstavlja ime labele koja može biti ispred ili iza goto naredbe, ali moraju biti unutar iste funkcije! Nije dozvoljeno preskakanje inicijalizacije, a prilikom \"skoka\" se ukidaju svi objekti čija se oblast važenja napušta. Ne preporučuje se korišćenje goto naredbe osim u posebnim situacijama."
   ]
  },
  {
   "cell_type": "code",
   "execution_count": null,
   "metadata": {},
   "outputs": [],
   "source": [
    "x = 0;\n",
    "jump: std::cout << \"Labela jump pokazuje na ovaj red!\" << std::endl;\n",
    "++x;\n",
    "if(x < 3)\n",
    "    goto jump;\n",
    "else\n",
    "    std::cout << \"Nastavljamo sa izvrsavanjem...\" << std::endl;"
   ]
  }
 ],
 "metadata": {
  "kernelspec": {
   "display_name": "C++17",
   "language": "C++17",
   "name": "xcpp17"
  },
  "language_info": {
   "codemirror_mode": "text/x-c++src",
   "file_extension": ".cpp",
   "mimetype": "text/x-c++src",
   "name": "c++",
   "version": "-std=c++17"
  }
 },
 "nbformat": 4,
 "nbformat_minor": 2
}
