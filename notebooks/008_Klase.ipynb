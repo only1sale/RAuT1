{
 "cells": [
  {
   "cell_type": "markdown",
   "metadata": {},
   "source": [
    "# Klase\n",
    "\n",
    "#### Aleksandar Minja <br> Decembar 2019"
   ]
  },
  {
   "cell_type": "markdown",
   "metadata": {},
   "source": [
    "Objektno orijentisano programiranje predstavlja novi pristup programiranju\n",
    " - više vremena posvećeno projektovanju, a manje implementaciji\n",
    " - više se razmišlja o problemu, a manje o rešenju\n",
    " - pažnja usmerena na delove sistema (objekte) i veze među njima\n",
    " - manji broj “veza” i njihova kontrola = manja interakcija među delovima sistema\n",
    "\n",
    "Tip\n",
    " - skup vrednosti koje mogu imati objekti tog tipa\n",
    " - operacije koje su definisane za taj skup vrednosti \n",
    "Klasa (isto kao i i struktura)\n",
    " - korisnički definisan TIP u programskom jeziku C++\n",
    " - skup objekata istih svojstava (“kalup”)\n",
    "Objekti (instance)\n",
    " - primerci iste klase (tipa) \n",
    " \n",
    "Definicija\n",
    "```\n",
    "    class identifikator \n",
    "     { <članovi_klase> }  ;\n",
    "```\n",
    "\n",
    "Deklaracija:\n",
    "```\n",
    "    class identifikator ;\n",
    "```\n",
    "\n",
    "Član podatak ne može da bude istog tipa kao klasa u kojoj se nalazi, ali može da bude pokazivač ili referenca na tu klasu. Različiti članovi podaci mogu ali ne moraju da budu istog tipa. Oblast važenja imena člana prostire se samo unutar klase.\n",
    "\n",
    "**Princip apstrakcije i enkapsulacije** u jeziku C++ podržan je\n",
    " - upotrebom klasa i struktura\n",
    " - “spajanjem” podataka i funkcija u klasi\n",
    " - konceptom kontrole prava pristupa članovima klase\n",
    " - napredne tehnike (design patterns)...\n",
    "\n",
    "Član klase (podatak ili funkcija) može da bude:\n",
    " - PRIVATNI ( private )\n",
    " - JAVNI ( public )\n",
    " - ZAŠTIĆEN ( protected )\n",
    "\n",
    "Strukture podrazumevaju **public**, dok klase podrazumevaju **private** pristup, ukoliko se ništa ne navede. \n",
    "\n",
    "[Primer](http://www.pythontutor.com/cpp.html#code=int%20foo%28int%20x%29%20%7B%0A%20%20%20int%20res%20%3D%20x%20%2B%205%3B%0A%20%20%20return%20res%3B%0A%7D%0A%0Aclass%20X%20%7B%0A%20%20int%20x%3B%0A%20%20int%20y%3B%0Apublic%3A%0A%20%20X%28int%20xx,%20int%20yy%29%20%7B%0A%20%20%20%20x%20%3D%20xx%3B%0A%20%20%20%20y%20%3D%20yy%3B%0A%20%20%7D%0A%20%20%0A%20%20int%20getX%28%29%20%7B%20int%20tmp%20%3D%20x%3B%20return%20tmp%3B%20%7D%0A%20%20int%20getY%28%29%20%7B%20int%20tmp%20%3D%20y%3B%20return%20tmp%3B%20%7D%0A%20%20%0A%7D%3B%0A%0Aint%20main%28%29%20%7B%0A%20%20%0A%20%20int%20fc%20%3D%20foo%288%29%3B%0A%20%20%0A%20%20X%20*x,%20*y%3B%0A%20%20x%20%3D%20new%20X%283,%207%29%3B%0A%20%20y%20%3D%20new%20X%285,%209%29%3B%0A%20%20%0A%20%20int%20a%20%3D%20x%20-%3E%20getX%28%29%3B%0A%20%20int%20b%20%3D%20y%20-%3E%20getY%28%29%3B%0A%20%20%0A%20%20delete%20x%3B%0A%20%20delete%20y%3B%0A%0A%20%20return%200%3B%0A%7D&curInstr=0&mode=display&origin=opt-frontend.js&py=cpp&rawInputLstJSON=%5B%5D)"
   ]
  },
  {
   "cell_type": "code",
   "execution_count": 1,
   "metadata": {},
   "outputs": [],
   "source": [
    "#include <iostream>"
   ]
  },
  {
   "cell_type": "code",
   "execution_count": 2,
   "metadata": {},
   "outputs": [],
   "source": [
    "class X; //deklaracija\n",
    "//X x; moramo prvo definisati klasu da bi napravili objekat te klase;\n",
    "X *x; //moze pokazivac na klasu;"
   ]
  },
  {
   "cell_type": "code",
   "execution_count": 3,
   "metadata": {},
   "outputs": [],
   "source": [
    "class X {\n",
    "  int l; //ovaj clan je private\n",
    "public:\n",
    "  int x; \n",
    "  double f; //ne moze: double x;\n",
    "    \n",
    "  int foo() { return x; } \n",
    "};"
   ]
  },
  {
   "cell_type": "code",
   "execution_count": 6,
   "metadata": {},
   "outputs": [
    {
     "name": "stdout",
     "output_type": "stream",
     "text": [
      "Poziv funkcije: 5\n"
     ]
    }
   ],
   "source": [
    "x = new X(); //moramo kreirati objekat\n",
    "x -> x = 5;\n",
    "x -> f = 3.4;\n",
    "// x -> l = 7; // ne moze, zato sto je l private \n",
    "std::cout << \"Poziv funkcije: \" << x -> foo() << std::endl;\n",
    "delete x"
   ]
  },
  {
   "cell_type": "markdown",
   "metadata": {},
   "source": [
    "Šta možemo raditi sa klasom?\n",
    "1. definisati instance te klase (objekte)\n",
    "2. definisati pokazivače i reference na objekte te klase\n",
    "3. dodeljivati vrednosti jednog objekta drugom\n",
    "4. uzimati adrese objekata i posredno pristupati objektima   preko pokazivača\n",
    "5. pristupati članovima podacima direktno ( . ) ili direktno pozivati funkcije članice ili sve to posredno ( -> )\n",
    "6. koristiti objekte, pokazivače ili reference na objekte kao argumente funkcija\n",
    "7. vraćati objekte, pokazivače ili reference na objekte kao rezultate funkcija"
   ]
  },
  {
   "cell_type": "code",
   "execution_count": null,
   "metadata": {},
   "outputs": [],
   "source": []
  },
  {
   "cell_type": "markdown",
   "metadata": {},
   "source": [
    "pravila:\n",
    " - svaka funkcija članica klase mora imati tačno jednu definiciju u programu\n",
    "\n",
    " - funkcije članice mogu se definisati izvan klase jedino ako su već deklarisane unutar klase (a nisu definisane)\n",
    "   - ime_klase::ime_člana\n",
    "\n",
    " - funkcija članica koja je definisana unutar klase podrazumevano je *inline*\n",
    "    - može se i eksplicitno deklarisati kao *inline* unutar deklaracije klase, a zatim definisati izvan klase\n"
   ]
  },
  {
   "cell_type": "code",
   "execution_count": null,
   "metadata": {},
   "outputs": [],
   "source": []
  },
  {
   "cell_type": "markdown",
   "metadata": {},
   "source": [
    "KONSTRUKTOR \n",
    "- posebna funkcija članica koja se implicitno poziva pri kreiranju objekta klase\n",
    "- ima isto ime kao i klasa\n",
    "- može da ima parametre, ali ne mora ( default )\n",
    "- nema povratni tip\n",
    "- može se preklopiti \n",
    "- podleže pravilima kontrole pristupa kao i svaki drugi član klase\n",
    "- može da bude javni, privatni ili zaštićen\n",
    "- ne moraju svi preklopljeni konstruktori da budu sa istim pravima pristupa spolja\n",
    "- konstruktor može da se definiše inline kao i ostale funkcije članice "
   ]
  },
  {
   "cell_type": "code",
   "execution_count": null,
   "metadata": {},
   "outputs": [],
   "source": []
  }
 ],
 "metadata": {
  "kernelspec": {
   "display_name": "C++17",
   "language": "C++17",
   "name": "xcpp17"
  },
  "language_info": {
   "codemirror_mode": "text/x-c++src",
   "file_extension": ".cpp",
   "mimetype": "text/x-c++src",
   "name": "c++",
   "version": "-std=c++17"
  }
 },
 "nbformat": 4,
 "nbformat_minor": 2
}
