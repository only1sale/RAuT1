{
 "cells": [
  {
   "cell_type": "markdown",
   "metadata": {},
   "source": [
    "# Uvod u C++ \n",
    "\n",
    "## Operatori i izrazi\n",
    "\n",
    "#### Aleksandar Minja <br> Oktobar 2019"
   ]
  },
  {
   "cell_type": "markdown",
   "metadata": {},
   "source": [
    "### Operatori i izrazi\n",
    "\n",
    "Operator ( eng. operator )\n",
    " * radnja koja se izvršava nad operandima \n",
    " * daje određeni rezultat\n",
    "\n",
    "Izraz ( eng. expression )\n",
    " * sekvenca operatora i operanada koja definiše određenu obradu\n",
    " * može, a ne mora da ima vrednost\n",
    " * može, a ne mora da ima “sporedne” efekte"
   ]
  },
  {
   "cell_type": "markdown",
   "metadata": {},
   "source": [
    "#### Svojstva operatora\n",
    "\n",
    "Svojstva operatora\n",
    " * broj operanada (unarni, binarni i ternarni)\n",
    " * asocijativnost (redosled izvršavanja)\n",
    "    * Leva (→): s leva na desno\n",
    "    * Desna (←): s desna na levo\n",
    " * tipovi operanada\n",
    " * tip rezultata\n",
    " * lvrednost operanada\n",
    " * lvrednost rezultata "
   ]
  },
  {
   "cell_type": "markdown",
   "metadata": {},
   "source": [
    "#### Lvrednost i Rvrednost\n",
    "\n",
    "Lvrednost (eng. Left Value - lvalue) \n",
    " * Vrednost koja je sa leve strane znaka \"=\"\n",
    " * izraz koji označava podatak (promenljivu) ili funkciju u memoriji računara\n",
    " * Promenljiva (eng. modifiable) lvrednost\n",
    "     * lvrednost koja nije ime funkcije, ime niza ili konstanta\n",
    "     \n",
    "Rvrednost (eng. Right value - rvalue)\n",
    " * Vrednost koja je sa desne strane znaka \"=\"\n",
    " * Svaka lvrednost jeste rvrednost\n",
    " * Svaka rvrednost nije lvrednost"
   ]
  },
  {
   "cell_type": "markdown",
   "metadata": {},
   "source": [
    "### Podela Operatora\n",
    "\n",
    "- aritmetički\n",
    "- logički\n",
    "- “bitski”\n",
    "- relacioni operatori i operatori jednakosti / nejednakosti\n",
    "- dodele\n",
    "- referenciranja i dereferenciranja\n",
    "- za rad sa dinamičkom memorijom\n",
    "- ostali"
   ]
  },
  {
   "cell_type": "code",
   "execution_count": 1,
   "metadata": {},
   "outputs": [],
   "source": [
    "#include <iostream>"
   ]
  },
  {
   "cell_type": "markdown",
   "metadata": {},
   "source": [
    "#### Aritmetički Operatori\n",
    "\n",
    "- binarni\n",
    "   - aditivni (+, -)\n",
    "   - multiplikativni (*, /, %)"
   ]
  },
  {
   "cell_type": "code",
   "execution_count": 2,
   "metadata": {},
   "outputs": [],
   "source": [
    "auto x = 7, y = 2, x_temp = 0;\n",
    "auto xx = 7., yy = 2., xx_temp = 0.;"
   ]
  },
  {
   "cell_type": "code",
   "execution_count": 3,
   "metadata": {},
   "outputs": [
    {
     "name": "stdout",
     "output_type": "stream",
     "text": [
      "7 + 2 = 9\n",
      "7 - 2 = 5\n",
      "7 + 2 = 9\n",
      "7 * 2 = 14\n",
      "7 % 2 = 1\n",
      "7 / 2 = 3\n",
      "7 / 2 = 3.5\n"
     ]
    }
   ],
   "source": [
    "std::cout << x << \" + \" << y << \" = \" << x + y << std::endl;\n",
    "std::cout << x << \" - \" << y << \" = \" << x - y << std::endl;\n",
    "std::cout << xx << \" + \" << yy << \" = \" << xx + yy << std::endl;\n",
    "\n",
    "std::cout << x << \" * \" << y << \" = \" << x * y << std::endl;\n",
    "std::cout << x << \" % \" << y << \" = \" << x % y << std::endl; \n",
    "// std::cout << xx << \" % \" << yy << \" = \" << xx % yy << std::endl; //Greska\n",
    "std::cout << x << \" / \" << y << \" = \" << x / y << std::endl; //celobrojno deljenje\n",
    "std::cout << xx << \" / \" << yy << \" = \" << xx / yy << std::endl;"
   ]
  },
  {
   "cell_type": "markdown",
   "metadata": {},
   "source": [
    "U slučaju binarnih aritmetičkih operatora, rezultat nije lvrednost. Izraz oblika `x + y = xx` nije dozvoljen."
   ]
  },
  {
   "cell_type": "markdown",
   "metadata": {},
   "source": [
    " - unarni\n",
    "   - promena znaka operanda (+, -)\n",
    "   - inkrementiranje (++)\n",
    "   - dekrementiranje (--)"
   ]
  },
  {
   "cell_type": "code",
   "execution_count": 4,
   "metadata": {},
   "outputs": [
    {
     "name": "stdout",
     "output_type": "stream",
     "text": [
      "+7 = 7\n",
      "-7 = -7\n",
      "++8 = 8\n",
      "7-- = 8\n",
      "--6 = 6\n",
      "7-- = 6\n"
     ]
    }
   ],
   "source": [
    "std::cout << \"+\"<< x << \" = \" << (+x) << std::endl;\n",
    "std::cout << \"-\"<< x << \" = \" << (-x) << std::endl;\n",
    "x_temp = ++x;\n",
    "std::cout << \"++\"<< x << \" = \" << (x_temp) << std::endl;\n",
    "x_temp = x--;\n",
    "std::cout << x << \"--\" << \" = \" << (x_temp) << std::endl;\n",
    "xx_temp = --xx;\n",
    "std::cout << \"--\"<< xx << \" = \" << (xx_temp) << std::endl;\n",
    "xx_temp = xx++;\n",
    "std::cout << xx << \"--\" << \" = \" << (xx_temp) << std::endl;"
   ]
  },
  {
   "cell_type": "markdown",
   "metadata": {},
   "source": [
    "U slučaju unarnih aritmetičkih operatora, samo rezultat prefiksnog inkrementa ili dekrementa je lvrednost (`++x = y` je validan izraz), dok u svim ostalim sliučajevima nije (`+x = y` ili `x-- = y` nisu validni izrazi)."
   ]
  },
  {
   "cell_type": "markdown",
   "metadata": {},
   "source": [
    "Prefiksni operator inkrementiranja (dekrementiranja) uvećava (smanjuje) vrednost i vraća novu vrednost, dok postfiksni operatori rade sledeće `temp = x; x = x + 1; return temp` (`temp = x; x = x - 1; return temp`). Zbog ovoga su postfiksni operatori sporiji od prefiksnih operatora."
   ]
  },
  {
   "cell_type": "markdown",
   "metadata": {},
   "source": [
    "#### Logički operatori\n",
    " - binarni\n",
    "   - logičko i (&&)\n",
    "   - logičko ili (||)\n",
    " - unarni\n",
    "   - negacija (!)\n",
    "   \n",
    "Rezultat nije lvrednost."
   ]
  },
  {
   "cell_type": "code",
   "execution_count": 5,
   "metadata": {},
   "outputs": [],
   "source": [
    "auto xl = true, yl = false;\n",
    "auto xi = 1, yi = 0, zi = 8;"
   ]
  },
  {
   "cell_type": "code",
   "execution_count": 6,
   "metadata": {},
   "outputs": [
    {
     "name": "stdout",
     "output_type": "stream",
     "text": [
      "1 || 0 = 1\n",
      "1 && 0 = 0\n",
      "1 && 1 = 1\n",
      "1 && 8 = 1\n",
      "1 || 8 = 1\n",
      "!1 = 0\n",
      "!8 = 0\n"
     ]
    }
   ],
   "source": [
    "std::cout << xl << \" || \" << yl << \" = \"<< (xl || yl) << std::endl;\n",
    "std::cout << xl << \" && \" << yl << \" = \"<< (xl && yl) << std::endl;\n",
    "std::cout << xl << \" && \" << xi << \" = \"<< (xl && xi) << std::endl;\n",
    "std::cout << xl << \" && \" << zi << \" = \"<< (xl && zi) << std::endl;\n",
    "std::cout << xi << \" || \" << zi << \" = \"<< (xi || zi) << std::endl;\n",
    "std::cout << \"!\" << xl << \" = \"<< (!xl) << std::endl;\n",
    "std::cout << \"!\" << zi << \" = \"<< (!zi) << std::endl;"
   ]
  },
  {
   "cell_type": "markdown",
   "metadata": {},
   "source": [
    "####  Bitski operatori\n",
    " - Operatori pomeranja (<<, >>)\n",
    " - binarni\n",
    "   - binarno i (&)\n",
    "   - binarno ili (|)\n",
    "   - binarno xor (^)\n",
    " - unarni \n",
    "   - negacija (~)\n",
    "   \n",
    "Rezultat nije lvrednost."
   ]
  },
  {
   "cell_type": "code",
   "execution_count": 1,
   "metadata": {},
   "outputs": [],
   "source": [
    "#include <bitset>\n",
    "auto xb = std::bitset<5>(1), yb = std::bitset<5>(7), zb = std::bitset<5>(5); //<5> predstavlja broj bita "
   ]
  },
  {
   "cell_type": "code",
   "execution_count": 8,
   "metadata": {},
   "outputs": [
    {
     "name": "stdout",
     "output_type": "stream",
     "text": [
      "1 in binary = 00001\n",
      "7 in binary = 00111\n",
      "5 in binary = 00101\n"
     ]
    }
   ],
   "source": [
    "std::cout << xb.to_ulong() << \" in binary = \"<< xb << std::endl; \n",
    "std::cout << yb.to_ulong() << \" in binary = \"<< yb << std::endl;\n",
    "std::cout << zb.to_ulong() << \" in binary = \"<< zb << std::endl;"
   ]
  },
  {
   "cell_type": "code",
   "execution_count": 9,
   "metadata": {},
   "outputs": [
    {
     "name": "stdout",
     "output_type": "stream",
     "text": [
      "00001 & 00111 = 00001 (1)\n",
      "00001 | 00111 = 00111 (7)\n",
      "00001 ^ 00111 = 00110 (6)\n",
      "~00001 = 11110 (30)\n",
      "00001 << 1 = 00010 (2)\n",
      "00001 << 3 = 01000 (8)\n",
      "00111 << 2 = 11100 (28)\n",
      "00111 << 3 = 11000 (24)\n",
      "00111 >> 2 = 00001 (1)\n"
     ]
    }
   ],
   "source": [
    "std::cout << xb << \" & \" << yb << \" = \" << (xb & yb) << \" (\" << (xb & yb).to_ulong() << \")\" << std::endl; \n",
    "std::cout << xb << \" | \" << yb << \" = \" << (xb | yb) << \" (\" << (xb | yb).to_ulong() << \")\" << std::endl; \n",
    "std::cout << xb << \" ^ \" << yb << \" = \" << (xb ^ yb) << \" (\" << (xb ^ yb).to_ulong() << \")\" << std::endl; \n",
    "std::cout << \"~\"<< xb << \" = \" << (~xb) << \" (\" << (~xb).to_ulong() << \")\" << std::endl; \n",
    "std::cout << xb << \" << \" << 1 << \" = \" << (xb << 1) << \" (\" << (xb << 1).to_ulong() << \")\" << std::endl; \n",
    "std::cout << xb << \" << \" << 3 << \" = \" << (xb << 3) << \" (\" << (xb << 3).to_ulong() << \")\" << std::endl; \n",
    "std::cout << yb << \" << \" << 2 << \" = \" << (yb << 2) << \" (\" << (yb << 2).to_ulong() << \")\" << std::endl;\n",
    "std::cout << yb << \" << \" << 3 << \" = \" << (yb << 3) << \" (\" << (yb << 3).to_ulong() << \")\" << std::endl;\n",
    "std::cout << yb << \" >> \" << 2 << \" = \" << (yb >> 2) << \" (\" << (yb >> 2).to_ulong() << \")\" << std::endl; "
   ]
  },
  {
   "cell_type": "code",
   "execution_count": 10,
   "metadata": {},
   "outputs": [],
   "source": [
    "signed int xxb = -5;"
   ]
  },
  {
   "cell_type": "code",
   "execution_count": 11,
   "metadata": {},
   "outputs": [
    {
     "name": "stdout",
     "output_type": "stream",
     "text": [
      "11111111111111111111111111111011 << 5 = 11111111111111111111111101100000 (-160)\n",
      "11111111111111111111111111111011 >> 5 = 11111111111111111111111111111111 (-1)\n"
     ]
    }
   ],
   "source": [
    "std::cout << std::bitset<32>(xxb) << \" << 5 = \" << std::bitset<32>(xxb << 5)\n",
    "                                  << \" (\" << (xxb << 5) << \")\" << std::endl;\n",
    "std::cout << std::bitset<32>(xxb) << \" >> 5 = \" << std::bitset<32>(xxb >> 5) \n",
    "                                  << \" (\" << (xxb >> 5) << \")\" << std::endl; \n",
    "//popunjava se sa vrednostima znaka tipa, posto je znak \"-\", popunjava se sa \"1\".;"
   ]
  },
  {
   "cell_type": "markdown",
   "metadata": {},
   "source": [
    "####  Relacioni operatori i operatori jednakosti / nejednakosti\n",
    " - relacioni (<, >, <=, >=)\n",
    " - operator jednakosti (==) i nejednakosti (!=)\n",
    " \n",
    "Rezultat nije lvrednost, dok je tip rezultata int."
   ]
  },
  {
   "cell_type": "code",
   "execution_count": 12,
   "metadata": {},
   "outputs": [],
   "source": [
    "auto xr = 5, yr = 7, zr = 5; "
   ]
  },
  {
   "cell_type": "code",
   "execution_count": 13,
   "metadata": {},
   "outputs": [
    {
     "name": "stdout",
     "output_type": "stream",
     "text": [
      "5 < 7 = 1\n",
      "5 > 7 = 0\n",
      "5 <= 5 = 1\n",
      "5 >= 7 = 0\n",
      "5 == 5 = 1\n",
      "5 != 5 = 0\n"
     ]
    }
   ],
   "source": [
    "std::cout << xr << \" < \" << yr << \" = \" << (xr < yr) << std::endl;\n",
    "std::cout << xr << \" > \" << yr << \" = \" << (xr > yr) << std::endl;\n",
    "std::cout << xr << \" <= \" << zr << \" = \" << (xr <= zr) << std::endl;\n",
    "std::cout << xr << \" >= \" << yr << \" = \" << (xr >= yr) << std::endl;\n",
    "std::cout << xr << \" == \" << zr << \" = \" << (xr == zr) << std::endl;\n",
    "std::cout << xr << \" != \" << zr << \" = \" << (xr != zr) << std::endl;"
   ]
  },
  {
   "cell_type": "markdown",
   "metadata": {},
   "source": [
    "####  Operatori dodele\n",
    " - operator proste dodele (=)\n",
    " - operatori složene dodele \n",
    "   - aritmetički (+=, -=, *=, /=, %=)\n",
    "   - bitski (<<=, >>=, &=, |=, ^=)\n",
    "   \n",
    "Rezultat je lvrednost. "
   ]
  },
  {
   "cell_type": "code",
   "execution_count": 14,
   "metadata": {},
   "outputs": [],
   "source": [
    "auto xd = xr + zr; //operator proste dodele\n",
    "auto xd_temp = xd;"
   ]
  },
  {
   "cell_type": "code",
   "execution_count": 15,
   "metadata": {},
   "outputs": [
    {
     "name": "stdout",
     "output_type": "stream",
     "text": [
      "5 + 5 = 10\n",
      "10 + 7 = 17\n",
      "17 * 3 = 51\n",
      "0000110011 << 3 = 0110011000\n",
      "0110011000 | 0000000101 = 0110011101\n"
     ]
    }
   ],
   "source": [
    "std::cout << xr << \" + \" << zr << \" = \" << xd << std::endl;\n",
    "xd_temp = xd;\n",
    "xd += yr;\n",
    "std::cout << xd_temp << \" + \" << yr << \" = \" << xd << std::endl;\n",
    "xd_temp = xd;\n",
    "xd *= 3;\n",
    "std::cout << xd_temp << \" * \" << 3 << \" = \" << xd << std::endl;\n",
    "xd_temp = xd;\n",
    "xd <<= 3;\n",
    "std::cout << std::bitset<10>(xd_temp) << \" << 3 = \" << std::bitset<10>(xd) << std::endl;\n",
    "xd_temp = xd;\n",
    "xd |= zr;\n",
    "std::cout << std::bitset<10>(xd_temp) << \" | \" << std::bitset<10>(zr)<<\" = \"<<std::bitset<10>(xd)<< std::endl;"
   ]
  },
  {
   "cell_type": "markdown",
   "metadata": {},
   "source": [
    "####  Operatori referenciranja i dereferenciranja\n",
    " - Operator dereferenciranja pokazivača: \" * \"\n",
    " - Operator neposrednog pristupa članu: \" . \"\n",
    " - Operator posrednog pristupa članu: \" -> \"\n",
    " - Operator uzimanja adrese: \" & \""
   ]
  },
  {
   "cell_type": "code",
   "execution_count": 16,
   "metadata": {},
   "outputs": [],
   "source": [
    "struct S {\n",
    "    int x = 0;\n",
    "    int y = 7;\n",
    "};\n",
    "S s = {5};\n",
    "S *s1 = &s; //adresiranje / uzimanje adrese;"
   ]
  },
  {
   "cell_type": "code",
   "execution_count": 17,
   "metadata": {},
   "outputs": [
    {
     "name": "stdout",
     "output_type": "stream",
     "text": [
      "{5, 7}\n",
      "{5, 7}\n",
      "{5, 7}\n"
     ]
    }
   ],
   "source": [
    "std::cout << \"{\" << s.x << \", \" << s.y << \"}\" << std::endl; //neposredni pristup;\n",
    "std::cout << \"{\" << (s1->x) << \", \" << (s1->y) << \"}\" << std::endl; //posredni pristup;\n",
    "std::cout << \"{\" << (*s1).x << \", \" << (*s1).y << \"}\" << std::endl; //dereferenciranje;"
   ]
  },
  {
   "cell_type": "markdown",
   "metadata": {},
   "source": [
    "#### Operatori za rad sa dinamičkom memorijom\n",
    " - Operator new\n",
    "   - kreira “dinamički” objekat\n",
    "   - unarni, prefiksni,\n",
    "   - nedefinisana asocijativnost,\n",
    "   - rezultat = nije lvrednost\n",
    " - Operator delete\n",
    "   - ukida (uništava) dinamički kreiran objekat\n",
    "   - unarni, prefiksni,\n",
    "   - nedefinisana asocijativnost,\n",
    "   - rezultat = nije lvrednost\n",
    "   \n",
    "[Tutor primer.](http://www.pythontutor.com/cpp.html#code=struct%20A%20%7B%20%0A%20%20%20%20int%20a%20%3D%205%3B%0A%20%20%20%20double%20b%20%3D%207.%3B%0A%7D%3B%0A%0Aint%20main%28%29%20%7B%0A%0A%20%20A%20a%3B%0A%20%20A%20*b%20%3D%20%26a%3B%0A%20%20A%20*c%20%3D%20new%20A%28%29%3B%0A%20%20A%20*d%20%3D%20%26%28*c%29%3B%0A%20%20A%20*d1%20%3D%20c%3B%0A%20%20A%20*e%20%3D%20new%20A%28a%29%3B%0A%20%20%0A%20%20delete%20d1%3B%0A%20%20delete%20e%3B%0A%20%20%0A%20%20int%20*f%20%3D%20new%20int%5B5%5D%3B%0A%20%20f%5B0%5D%20%3D%20f%5B1%5D%20%3D%20f%5B2%5D%20%3D%20f%5B4%5D%20%3D%203%3B%0A%20%20delete%20%5B%5D%20f%3B%0A%20%20%20%20%0A%20%20return%200%3B%0A%7D&curInstr=0&mode=display&origin=opt-frontend.js&py=cpp&rawInputLstJSON=%5B%5D)"
   ]
  },
  {
   "cell_type": "code",
   "execution_count": null,
   "metadata": {},
   "outputs": [],
   "source": [
    "struct A { \n",
    "    int a = 5;\n",
    "    double b = 7.;\n",
    "};\n",
    "\n",
    "A a = {9, 9.};\n",
    "A *b = &a;\n",
    "A *c = new A();\n",
    "A *d = &(*c);\n",
    "A *d1 = c;\n",
    "A *e = new A(a);\n",
    "delete c;\n",
    "delete e;\n",
    "\n",
    "int *f = new int[5];\n",
    "f[0] = f[1] = f[2] = f[4] = 3;\n",
    "delete [] f; //oslobadjanje dinamickog niza; "
   ]
  },
  {
   "cell_type": "markdown",
   "metadata": {},
   "source": [
    "####  Ostali operatori\n",
    " - Operator indeksiranja: \" [ ] \"\n",
    " - Operator uslova: \" ? : \"\n",
    " - Operator zarez: \" , \"\n",
    " - Operator sizeof: \" sizeof ( ) \"\n",
    " - Operator eksplicitne konverzije: \" (tip) \"\n",
    " - Operator pristupa globalnom imenu: \" :: \"\n"
   ]
  },
  {
   "cell_type": "markdown",
   "metadata": {},
   "source": [
    "##### Operator indeksiranja - \" [ ] \"\n",
    "\n",
    "je binarni operator leve asocijativnosti, a rezultat je lvrednost. Prvi operand je niz, dok je drugi operand celi broj. `niz[i]` je isto kao i `*(niz + i)`."
   ]
  },
  {
   "cell_type": "code",
   "execution_count": null,
   "metadata": {},
   "outputs": [],
   "source": [
    "int niz[5] = {1, 2, 3, 4, 5};\n",
    "std::cout << (niz[3] == *(niz + 3)) << std::endl;"
   ]
  },
  {
   "cell_type": "markdown",
   "metadata": {},
   "source": [
    "##### Operator uslova - \" ? : \"\n",
    "\n",
    "Zapis: `(uslov) ? izraz1 : izraz2`, predstavlja skraćeni način da se napiše `if(uslov) izraz1; else izraz2;`. Rezultat je lvrednost. "
   ]
  },
  {
   "cell_type": "code",
   "execution_count": null,
   "metadata": {},
   "outputs": [],
   "source": [
    "auto l = 7, k = 9;\n",
    "auto res = (l > k) ? l : k;\n",
    "std::cout << \"res = \" << res << std::endl;"
   ]
  },
  {
   "cell_type": "markdown",
   "metadata": {},
   "source": [
    "##### Operator zarez -  \" , \"\n",
    "\n",
    "Binarni operator, leve asocijativnosti, ima sledeći zapis: `izraz1, izraz2`. Rezultat je lvrednost, a tip rezultata jednak je tipu koji vraća izraz2."
   ]
  },
  {
   "cell_type": "code",
   "execution_count": null,
   "metadata": {},
   "outputs": [],
   "source": [
    "k = 5, l += k;\n",
    "std::cout << \"k = \" << k << \",\\t l = \" << l << std::endl;"
   ]
  },
  {
   "cell_type": "markdown",
   "metadata": {},
   "source": [
    "##### Operator sizeof\n",
    "\n",
    "Unarni operator, desne asocijativnosti, koji vraća veličinu podatka u bajtovima. Operand ne može biti funkcija, tip void, niz nepoznate dimenzije (npr. alociran na heap-u) ili bit polje. "
   ]
  },
  {
   "cell_type": "code",
   "execution_count": null,
   "metadata": {},
   "outputs": [],
   "source": [
    "std::cout << sizeof(int) << std::endl;\n",
    "std::cout << (sizeof k ) << std::endl;\n",
    "std::cout << sizeof(k) << std::endl;"
   ]
  },
  {
   "cell_type": "markdown",
   "metadata": {},
   "source": [
    "##### Operator eksplicitne konverzije\n",
    "\n",
    "Unarni operator desne asocijativnosti, ima zapis `tip (izraz)` (konverzija preko konstruktora) ili `(tip) izraz` (konverzija preko cast operatora). Rezultat može da bude lvrednost, ali samo u specijalnim slučajevima. "
   ]
  },
  {
   "cell_type": "code",
   "execution_count": null,
   "metadata": {},
   "outputs": [],
   "source": [
    "#include <typeinfo>\n",
    "\n",
    "std::cout << typeid(double).name() << \" <-> \" << typeid(double(k)).name() << std::endl;\n",
    "std::cout << typeid(double).name() << \" <-> \" << typeid((double)l).name() << std::endl;"
   ]
  },
  {
   "cell_type": "markdown",
   "metadata": {},
   "source": [
    "##### Operator pristupa globalnom imenu (scope)\n",
    "\n",
    "Unarni operator, desne asocijativnosti. Rezultat može biti lvrednost, ali samo u posebnim slučajevima. "
   ]
  },
  {
   "cell_type": "code",
   "execution_count": null,
   "metadata": {},
   "outputs": [],
   "source": [
    "auto g = 0;"
   ]
  },
  {
   "cell_type": "code",
   "execution_count": null,
   "metadata": {},
   "outputs": [],
   "source": [
    "void foo() {\n",
    "    ::g++; //pristupamo gornjem g-u\n",
    "}"
   ]
  },
  {
   "cell_type": "code",
   "execution_count": null,
   "metadata": {},
   "outputs": [],
   "source": [
    "foo(); // g = 1;\n",
    "foo(); // g = 2;\n",
    "foo(); // g = 3;\n",
    "std::cout << \"g = \" << g << std::endl;"
   ]
  },
  {
   "cell_type": "code",
   "execution_count": null,
   "metadata": {},
   "outputs": [],
   "source": [
    "auto i = 0;"
   ]
  },
  {
   "cell_type": "code",
   "execution_count": null,
   "metadata": {},
   "outputs": [],
   "source": [
    "for(auto i = 0; i < 3; ++i)\n",
    "    std::cout << i << \" <-> \" << (::i) << std::endl;"
   ]
  },
  {
   "cell_type": "markdown",
   "metadata": {},
   "source": [
    "### Prioritet izvršavanja"
   ]
  },
  {
   "cell_type": "markdown",
   "metadata": {},
   "source": [
    "U C++-u postoji preko 50 operatora i oko 17 nivoa prioriteta. Nivo prioriteta određuje koji operator će se prvi izvršiti u izrazima gde postoje više prioriteta različitog nivoa. U slučaju operatora istog nivoa, operatori se izvršavaju s desna na levo. Moguće je nametnuti prioritet korišćenjem malih zagrada - prvo se izvršavaju izrazi u zagradama. Moguće je ugnježditi zagrade do proizvoljne dubine. "
   ]
  },
  {
   "cell_type": "markdown",
   "metadata": {},
   "source": [
    "Neki operatori imaju sporedne efekte - izmena nekog od operanda prilikom izvršavanja operatora."
   ]
  }
 ],
 "metadata": {
  "kernelspec": {
   "display_name": "C++17",
   "language": "C++17",
   "name": "xcpp17"
  },
  "language_info": {
   "codemirror_mode": "text/x-c++src",
   "file_extension": ".cpp",
   "mimetype": "text/x-c++src",
   "name": "c++",
   "version": "-std=c++17"
  }
 },
 "nbformat": 4,
 "nbformat_minor": 2
}
