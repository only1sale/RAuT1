{
 "cells": [
  {
   "cell_type": "markdown",
   "metadata": {},
   "source": [
    "# Uvod u C++ \n",
    "\n",
    "## Rad sa konzolom i primitivni tipovi\n",
    "\n",
    "#### Aleksandar Minja <br> Oktobar 2019"
   ]
  },
  {
   "cell_type": "markdown",
   "metadata": {},
   "source": [
    "# Uvod - Jupyter i Xeus-Cling\n",
    "[Jupyter](https://jupyter.org/) notebook (radna sveska) je web aplikacija koja omogućava stvaranje i distribuciju dokumenata koji sadrže izvorni kod (koji se lako može izvršiti unutar sveske) zajedno sa objašnjenjem, jednačinama i slikama. Obično se koristi za distribuciju edukativnih materijala iz oblasti numerike i mašinskog učenja sa primerima i zadacima, datim u *interpretiranim* programskim jezicima poput python-a i matlab/octave-a. \n",
    "\n",
    "Programski jezik C++ spada u grupu kompajlerskih jezika što ga čini značajno težim za pokretanje unutar Jupyter sveske, ali zahvaljujući alatu [xeus-cling](https://xeus-cling.readthedocs.io/en/latest/), kompanije [QuantStack](https://quantstack.net/), moguće je koristiti *xeus* za izvršavanje C++ programa. [Cling](https://root.cern.ch/cling) je C++ [REPL](https://en.wikipedia.org/wiki/Read%E2%80%93eval%E2%80%93print_loop) (Read-Eval-Print-Loop) interaktivno okruženje koje evaluira korisničku komandu i ispisuje rezultat na ekran. Zbog toga programi u radnoj svesci nemaju **main** funkciju, već samo komande koje želimo da izvršimo. Detaljan pregled (izvršavanje programa korak po korak) jednostavnijih primera iz radne sveske biće dostupan na sajut [pythontutor](http://www.pythontutor.com). Kodovi su malo izmenjeni s obzirom da pythontutor ne podržava neke komande, poput čitanje vrednosti sa konzole (std::cin). \n",
    "\n",
    "Kod u Jupyter svesci se izvršava pozicioniranjem na zeljenu liniju koja počinje sa \"In[ ]:\" i pritiskom na dugme **Run** ili pomoću skraćenice sa tastature: CTRL+ENTER. U slučaju da dođe do ozbiljnije greške, potrebno je ponovo pokrenuti C++ kernel - što će obrisati sve lokalne promenljive."
   ]
  },
  {
   "cell_type": "code",
   "execution_count": null,
   "metadata": {},
   "outputs": [],
   "source": [
    "// Ovo je jednolinijski komentar\n",
    "// Ovo je isto komentar"
   ]
  },
  {
   "cell_type": "code",
   "execution_count": null,
   "metadata": {},
   "outputs": [],
   "source": [
    "/*\n",
    "Ovo je\n",
    "viselinijski\n",
    "komentar\n",
    "*/"
   ]
  },
  {
   "cell_type": "markdown",
   "metadata": {},
   "source": [
    "## Ispisivanje i čitanje poruka sa komandne linije\n",
    "\n",
    "Programski jezik C++ je baziran i kompatibilan sa programskim jezikom C i sadrži sve C-ove biblioteke, tako da uvek možemo uključiti *stdio.h* zaglavlje i pozvati funkcije **printf()** i **scanf()** za ispis i čitanje vrednosti, respektivno, ali C++ nudi dodatni sloj apstrakcije koji značajno pojednostavlja razvoj i pisanje kompjuterskih programa.\n",
    "\n",
    "Streamovi su apstrakcije \"uređaja\" koji dozvoljavaju pisanje i čitanje. Streamovi su obično asocirani sa fizičkim uređajima poput diska, tastature, mreže ili konzole. Biblioteka za rukovanje sa standardnim \"stream objektima\" se naziva *iostream* i da bi čitali i pisali vrednosti na kozoli potrebno je uključiti zaglavlje *iostream* (primetite da C++ zaglavlja nemaju ekstenziju \".h\"). Dovoljno je samo jednom uključiti neko zaglavlje u Jupyter svesci i ono će biti dostupna do kraja rada sa tom sveskom (ili do restartovanja kernela)."
   ]
  },
  {
   "cell_type": "code",
   "execution_count": null,
   "metadata": {},
   "outputs": [],
   "source": [
    "#include <iostream>"
   ]
  },
  {
   "cell_type": "markdown",
   "metadata": {},
   "source": [
    "### Ispis na konzolu\n",
    "\n",
    "Stream objekat za ispis na konzolu se naziva **cout** (console output), i on pripada standardnom imenskom prostoru (**std** namespace), pa zbog toga pišemo \"std::cout\" (gde \"::\" predstavlja *scope* operator). Cout objekat je povezan sa konzolom i svaka poruka prosleđenja **cout** objektu će se pojaviti na korisničkom ekranu. Za ispisivanje poruke koristimo \"<<\" operator (std::cout << \"Poruka\"; - \"Poruka\" se šalje na konzolu). Za prelazak u novi red uvek možemo koristiti specijalni znak '\\n', ali zbog preglednijeg koda, C++ nudi specijalnu poruku za to: **std::endl**. Za bolje razumevanje, pogledajte ovaj primer na [pythontutor](http://www.pythontutor.com/cpp.html#code=%23include%20%3Ciostream%3E%0A%0Aint%20main%28%29%20%7B%0A%20%20std%3A%3Acout%20%3C%3C%20%22Dobrodosli%20na%20predmet%20Razvojni%22%20%0A%20%20%20%20%20%20%20%20%20%20%20%20%3C%3C%20%22Alati%20u%20Telekomunikacijama%22%20%3C%3C%20std%3A%3Aendl%3B%0A%20%20return%200%3B%0A%7D&curInstr=0&mode=display&origin=opt-frontend.js&py=cpp&rawInputLstJSON=%5B%5D) sajtu."
   ]
  },
  {
   "cell_type": "code",
   "execution_count": null,
   "metadata": {},
   "outputs": [],
   "source": [
    "std::cout << \"Dobrodosli na predmet RAuT\" << std::endl;"
   ]
  },
  {
   "cell_type": "markdown",
   "metadata": {},
   "source": [
    "### Čitanje sa konzole\n",
    "\n",
    "Stream objekat za čitanje vrednosti sa konzole se naziva **cin** (console input) i takođe pripada standardnom imenskom prostoru (std::cin). Operator za čitanje poruka iz stream objekta (i smeštanje vrednosti u promenljivu) jeste \">>\" (std::cin >> x; Vrednost se čita sa konzole i smešta se u promenljivu x).\n",
    "\n",
    "Da bi pročitali neku vrednost, moramo prvo definisati promenljivu koja će služiti za smeštanje te vrednosti. Objekat **cin** će na osnovu tipa promenljive znati kako da isčita vrednost. U narednom primeru želimo da pročitamo ime korisnika i ispišemo odgovarajuću poruku. Za sada ćemo koristiti niz znakova (niz char-ova) za smeštanje teksta, a kasnije ćemo videti da C++ ima moćnije i bolje alate za rukovanje sa stringovima. Za razliku imzeđu dinamičke (smeštanje promenljive na heap memoriju) i statičke alokacije (smeštanje promenljive na stack memoriju) niza pogledajte sledeći [primer](http://www.pythontutor.com/cpp.html#code=int%20main%28%29%20%7B%0A%20%20%0A%20%20char%20s1%5B5%5D%20%3D%20%22RAuT%22%3B%0A%20%20char%20*s2%20%3D%20%22RAuT%22%3B%0A%0A%20%20return%200%3B%0A%7D&curInstr=3&mode=display&origin=opt-frontend.js&py=cpp&rawInputLstJSON=%5B%5D)."
   ]
  },
  {
   "cell_type": "code",
   "execution_count": null,
   "metadata": {},
   "outputs": [],
   "source": [
    "char s[30];"
   ]
  },
  {
   "cell_type": "markdown",
   "metadata": {},
   "source": [
    "C++ (pa samim tim i cling) ne dozvoljava redefinisanje promenljivih, tako da nije moguće dva put pokrenuti prethodni red, bez greške. Ukoliko se kernel restartuje (gašenjem sveske ili pritiskom na restart dugme), promenljiva će biti obrisana i njeno korišćenje u ostatku sveske više neće biti moguće."
   ]
  },
  {
   "cell_type": "code",
   "execution_count": null,
   "metadata": {},
   "outputs": [],
   "source": [
    "std::cout << \"Unesite Vase ime (do 30 znakova): \";\n",
    "std::cin >> s;\n",
    "std::cout << \"Pozdrav \" << s << std::endl;"
   ]
  },
  {
   "cell_type": "markdown",
   "metadata": {},
   "source": [
    "Pythontutor realizacija prethodnog programa je data na sledećem [linku](http://www.pythontutor.com/cpp.html#code=%23include%20%3Ciostream%3E%0A%0Aint%20main%28%29%20%7B%0A%20%20char%20*s%3B%20%0A%20%20%0A%20%20std%3A%3Acout%20%3C%3C%20%22Unesite%20Vase%20ime%20%28do%2030%20znakova%29%3A%20%22%3B%0A%20%20s%20%3D%20%22Sale%22%3B%20//cin%20nije%20podrzan%20od%20strane%20pythontutor-a%0A%20%20std%3A%3Acout%20%3C%3C%20%22Pozdrav%20%22%20%3C%3C%20s%20%3C%3C%20std%3A%3Aendl%3B%0A%0A%20%20return%200%3B%0A%7D&curInstr=0&mode=display&origin=opt-frontend.js&py=cpp&rawInputLstJSON=%5B%5D). "
   ]
  },
  {
   "cell_type": "markdown",
   "metadata": {},
   "source": [
    "Pomoću **cin** objekta moguće je čitati više uzastopnih vrednosti, ali samo ako su one razdvojene razmakom (\" \") ili ENTER-om. Znakovi poput zareza (\",\") će biti interpretirani kao char i mogu dovesti do neželjenog ponašanja programa (npr. druga vrednost neće biti ispravno pročitana). [Tutor kod](http://www.pythontutor.com/cpp.html#code=%23include%20%3Ciostream%3E%0A%0Aint%20main%28%29%20%7B%0A%20%20int%20x,%20y%3B%0A%20%20%0A%20%20x%20%3D%205%3B%20%0A%20%20y%20%3D%207%3B%0A%20%20%0A%20%20std%3A%3Acout%20%3C%3C%20x%20%3C%3C%20%22%20%2B%20%22%20%3C%3C%20y%20%3C%3C%20%22%20%3D%20%22%20%3C%3C%20x%20%2B%20y%20%3C%3C%20std%3A%3Aendl%3B%0A%20%20%0A%20%20return%200%3B%0A%7D&curInstr=0&mode=display&origin=opt-frontend.js&py=cpp&rawInputLstJSON=%5B%5D)."
   ]
  },
  {
   "cell_type": "code",
   "execution_count": null,
   "metadata": {},
   "outputs": [],
   "source": [
    "int x, y;"
   ]
  },
  {
   "cell_type": "code",
   "execution_count": null,
   "metadata": {},
   "outputs": [],
   "source": [
    "std::cin >> x >> y;\n",
    "std::cout << x << \" + \" << y << \" = \" << x + y << std::endl;"
   ]
  },
  {
   "cell_type": "markdown",
   "metadata": {},
   "source": [
    "## Osnovni tipovi i promenljive\n",
    "\n",
    "Promenljiva se definiše na sledeći način: [tip] [ime] = [vrednost].\n",
    "\n",
    "[tip] može biti bilo koji osnovni (int, char, double, ...), složeni (niz, funkcija, pokazivač, nabrajanje, ...) ili korisnički definisan tip (unija, struktura ili klasa).\n",
    "\n",
    "[ime] predstavlja naziv promenljive preko koje možemo da joj pristupimo. Svaka promenljiva (i samim tim i njeno ime) ima oblast važenja. \n",
    "\n",
    "Ukoliko nekoj promenljivoj ne dodelimo početnu [vrednost] (inicijalizacija) ona će dobiti neku automatsku početnu vrednost. U većini slučajeva kompajler će upozoriti korisnika ako pokuša da koristi promenljivu bez inicijalizacije, pošto ovo može dovesti do nepredviđenog ponašanja programa. "
   ]
  },
  {
   "cell_type": "code",
   "execution_count": null,
   "metadata": {},
   "outputs": [],
   "source": [
    "int a; // a i c ce dobiti pocetnu vrednost 0, mada to ne mora vaziti u opstem slucaju\n",
    "int b = 4;\n",
    "double c; \n",
    "float d = 5.;\n",
    "char e = 'c'; \n",
    "bool f = false; // bool konstante su false = 0 i true != 0"
   ]
  },
  {
   "cell_type": "code",
   "execution_count": null,
   "metadata": {},
   "outputs": [],
   "source": [
    "std::cout << \"a: \" << a << \", size: \" << sizeof(a)     << std::endl \n",
    "          << \"b: \" << b << \", size: \" << sizeof(int)   << std::endl\n",
    "          << \"c: \" << c << \", size: \" << sizeof(c)     << std::endl\n",
    "          << \"d: \" << d << \", size: \" << sizeof(float) << std::endl\n",
    "          << \"e: \" << e << \", size: \" << sizeof('x')   << std::endl\n",
    "          << \"f: \" << e << \", size: \" << sizeof(true)  << std::endl;"
   ]
  },
  {
   "cell_type": "markdown",
   "metadata": {},
   "source": [
    "Za razliku od programskog jezika C, u C++-u sizeof predstavlja operator (a ne funkciju), koji vraća veličinu tipa ili promenljive u bajtima. Primetite da sizeof kao argument može primiti tip, promenljivu ili vrednost. Takođe je zanimljivo primetiti da sizeof(bool) ima veličinu 1 bajt (8 bita), čak iako bool koristi samo jedan bit. Veličina bool-a zavisi od implementacije kompajlera (može biti i 4 bajta). \n",
    "\n",
    "Za određivanje tipa promenljive, C++ sadrži operator **typeid** koji je definisan u biblioteci *typeinfo*. Slično kao i sizeof operator, typeid može da primi tip, promenljivu ili vrednost, a sam ispis zavisi od implementacije."
   ]
  },
  {
   "cell_type": "code",
   "execution_count": null,
   "metadata": {},
   "outputs": [],
   "source": [
    "#include <typeinfo>"
   ]
  },
  {
   "cell_type": "code",
   "execution_count": null,
   "metadata": {},
   "outputs": [],
   "source": [
    "std::cout << typeid(a).name() << \" <=> \" << typeid(int).name()   << std::endl;\n",
    "std::cout << typeid(b).name() << \" <=> \" << typeid(int).name()   << std::endl;\n",
    "std::cout << typeid(c).name() << \" <=> \" << typeid(double).name()<< std::endl;\n",
    "std::cout << typeid(d).name() << \" <=> \" << typeid(float).name() << std::endl;\n",
    "std::cout << typeid(e).name() << \" <=> \" << typeid(char).name()  << std::endl;\n",
    "std::cout << typeid(f).name() << \" <=> \" << typeid(bool).name()  << std::endl;"
   ]
  },
  {
   "cell_type": "markdown",
   "metadata": {},
   "source": [
    "### Literali\n",
    "\n",
    "#### Celobrojni\n",
    "\n",
    "Celobrojni literali mogu biti zadati u decimalnom zapisu (obični brojevi), oktalnom zapisu (počinju sa cifrom \"0\" nakon koje idu cifre od 0 do 7), heksadecimalnom zapisu (počinju sa 0x/0X nakon čega idu cifre od 0 do 9 i slova a - f, tj A - F) i u binarnom zapisu (počinju sa 0b/0B nakon čega idu 0 i 1). Takođe je moguće koristiti sufikse u/U - unsigned i l/L - long. "
   ]
  },
  {
   "cell_type": "code",
   "execution_count": null,
   "metadata": {},
   "outputs": [],
   "source": [
    "sizeof(int long long)"
   ]
  },
  {
   "cell_type": "code",
   "execution_count": null,
   "metadata": {},
   "outputs": [],
   "source": [
    "std::cout << 235UL      << std::endl;\n",
    "std::cout << 0235LL     << std::endl;\n",
    "std::cout << 0x235Ul    << std::endl;\n",
    "std::cout << 0XFFAll    << std::endl;\n",
    "std::cout << 0b011101ul << std::endl;"
   ]
  },
  {
   "cell_type": "markdown",
   "metadata": {},
   "source": [
    "#### Broj u pokretnoj tački\n",
    "\n",
    "Realni brojevi se zapisuju sa \".\" iza koje mogu ići cifre (npr. 4. i 3.141). Mogu se zapisati kao realni broj sa eksponatom (3.14e15, 5.25E-10). Moguće je koristiti sufiks l (long) i f koji označava float (dok je podrazumevana vrednost double)."
   ]
  },
  {
   "cell_type": "code",
   "execution_count": null,
   "metadata": {},
   "outputs": [],
   "source": [
    "std::cout << 3.1415l    << std::endl;\n",
    "std::cout << 3.1415f     << std::endl;\n",
    "std::cout << 3.14e-10    << std::endl;\n",
    "std::cout << 3.141E7L    << std::endl;"
   ]
  },
  {
   "cell_type": "markdown",
   "metadata": {},
   "source": [
    "#### Znakovi (char) i Stringovi\n",
    "\n",
    "Znakovi se pišu između jednostrukih navodnika. Ili se navodi znak ('a') ili se zadaje ASCII kod u heksadecimalnom ili oktalnom obliku koji odgovara datom znaku ('\\x61' ili '\\141'). String se navodi između dvostrukih navodnika."
   ]
  },
  {
   "cell_type": "code",
   "execution_count": null,
   "metadata": {},
   "outputs": [],
   "source": [
    "std::cout << 'a'    << std::endl;\n",
    "std::cout << '\\x61' << std::endl;\n",
    "std::cout << '\\141' << std::endl;\n",
    "std::cout << \"a\"    << std::endl;\n",
    "std::cout << \"RAuT\" << std::endl;"
   ]
  },
  {
   "cell_type": "markdown",
   "metadata": {},
   "source": [
    "### Specifikatori\n",
    "\n",
    "Specifikatori služe za modifikaciju količine memorijskog prostora potrebnog za čuvanje podataka, kao i reinterpretaciju smeštenih podataka. \n",
    "* **char**\n",
    " * signed\n",
    " * unsigned\n",
    " ---\n",
    "* **int**\n",
    " * short\n",
    " * long \n",
    " * long long\n",
    " ---\n",
    " * signed \n",
    " * unsigned\n",
    " ---\n",
    "* **double**\n",
    " * long\n",
    " ---\n",
    " \n",
    "Celobrojni tip (int) može da kombinuje specifikator veličine i specifikator interpretacije tipa (npr. unsigned long)."
   ]
  },
  {
   "cell_type": "code",
   "execution_count": null,
   "metadata": {},
   "outputs": [],
   "source": [
    "std::cout << typeid(signed char).name()        << \" ... \" << sizeof(signed char)        << std::endl;\n",
    "std::cout << typeid(unsigned char).name()      << \" ... \" << sizeof(unsigned char)      << std::endl;\n",
    "std::cout << typeid(short).name()              << \" ... \" << sizeof(short)              << std::endl;\n",
    "std::cout << typeid(int).name()                << \" ... \" << sizeof(int)                << std::endl;\n",
    "std::cout << typeid(long).name()               << \" ... \" << sizeof(long)               << std::endl;\n",
    "std::cout << typeid(unsigned long).name()      << \" ... \" << sizeof(unsigned long)      << std::endl;\n",
    "std::cout << typeid(unsigned long long).name() << \" ... \" << sizeof(unsigned long long) << std::endl;\n",
    "std::cout << typeid(long long).name()          << \" ... \" << sizeof(long long)          << std::endl;\n",
    "std::cout << typeid(double).name()             << \" ... \" << sizeof(double)             << std::endl;\n",
    "std::cout << typeid(long double).name()        << \" ... \" << sizeof(long double)        << std::endl;"
   ]
  },
  {
   "cell_type": "markdown",
   "metadata": {},
   "source": [
    "Pojedine veličine zavise od implementacije. Tip long ima veličinu bar koliko i int. Long long ima veličinu 8 bita. Double ima veličinu 8 bita, dok long double ima veličinu bar koliko i double. Specifikatori signed i unsigned ne menjaju veličinu, samo interpretaciju. "
   ]
  },
  {
   "cell_type": "markdown",
   "metadata": {},
   "source": [
    "### Automatska dedukcija tipa\n",
    "\n",
    "C++ je u stanju da prilikom inicijalizacije sam odredi tip promenljive na osnovu dodeljene vrednosti. Ukoliko želimo da C++ sam zaključi tip, koristimo ključnu reč **auto**. Takođe je moguće definisati da podatak ima isti tip kao neki drugi podatak pomoću operatora **decltype**."
   ]
  },
  {
   "cell_type": "code",
   "execution_count": null,
   "metadata": {},
   "outputs": [],
   "source": [
    "auto var1 = 4;    // običan int\n",
    "auto var2 = 4UL;  // U = unsigned, L = long\n",
    "auto var3 = 4ULL; // ULL = unsigned long long \n",
    "auto var4 = 4.0;  // 4.0 ce biti tipa double\n",
    "auto var5 = 4.f;  // 4.0f ce biti tipa float\n",
    "auto var6 = '4';\n",
    "auto var7 = true;"
   ]
  },
  {
   "cell_type": "code",
   "execution_count": null,
   "metadata": {},
   "outputs": [],
   "source": [
    "std::cout << typeid(var1).name() << \" <=> \" << typeid(int).name()                << std::endl;\n",
    "std::cout << typeid(var2).name() << \" <=> \" << typeid(unsigned long).name()      << std::endl;\n",
    "std::cout << typeid(var3).name() << \" <=> \" << typeid(unsigned long long).name() << std::endl;\n",
    "std::cout << typeid(var4).name() << \" <=> \" << typeid(double).name()             << std::endl;\n",
    "std::cout << typeid(var5).name() << \" <=> \" << typeid(float).name()              << std::endl;\n",
    "std::cout << typeid(var6).name() << \" <=> \" << typeid(char).name()               << std::endl;\n",
    "std::cout << typeid(var7).name() << \" <=> \" << typeid(bool).name()               << std::endl;"
   ]
  },
  {
   "cell_type": "code",
   "execution_count": null,
   "metadata": {},
   "outputs": [],
   "source": [
    "decltype(var1) v1;\n",
    "decltype(var2) v2;\n",
    "decltype(var3) v3;\n",
    "decltype(var4) v4;\n",
    "decltype(var5) v5;\n",
    "decltype(var6) v6;\n",
    "decltype(var7) v7;"
   ]
  },
  {
   "cell_type": "code",
   "execution_count": null,
   "metadata": {},
   "outputs": [],
   "source": [
    "std::cout << typeid(var1).name() << \" <=> \" << typeid(v1).name() << std::endl;\n",
    "std::cout << typeid(var2).name() << \" <=> \" << typeid(v2).name() << std::endl;\n",
    "std::cout << typeid(var3).name() << \" <=> \" << typeid(v3).name() << std::endl;\n",
    "std::cout << typeid(var4).name() << \" <=> \" << typeid(v4).name() << std::endl;\n",
    "std::cout << typeid(var5).name() << \" <=> \" << typeid(v5).name() << std::endl;\n",
    "std::cout << typeid(var6).name() << \" <=> \" << typeid(v6).name() << std::endl;\n",
    "std::cout << typeid(var7).name() << \" <=> \" << typeid(v7).name() << std::endl;"
   ]
  },
  {
   "cell_type": "markdown",
   "metadata": {},
   "source": [
    "### Modifikatori (eng. Qualifiers)\n",
    "\n",
    "Modifikatori pružaju dodatnu informaciju o promenljivoj prilikom njenog uvođenja. C++ dozvoljava nekoliko modfifikatora, od kojih su najznačajniji:\n",
    "* const: \n",
    "    promenljiva koja ima const modifikator, ne može biti promenjena prilikom izvršavanja programa\n",
    "* volatile: promenljiva može biti promenjena na neki drugi način, nedefinisan programom. Na ovaj način se stavlja do znanja kompajleru da ne optimizuje datu promenljivu, pošto to može dovesti do neželjenog ponašanja.\n",
    "* restrict: samo za pokazivače (int restrict *p), ako je bilo koji objekat modifikovan od strane restrict pokazivača u nekom bloku, onda može biti modifikovan samo preko tog pokazivača.\n",
    "\n",
    "Restrict i volatile se ređe koriste, tako da ćemo se za sad samo ograničiti na const modifikator."
   ]
  },
  {
   "cell_type": "code",
   "execution_count": null,
   "metadata": {},
   "outputs": [],
   "source": [
    "const int vv = 5; // const promenljiva mora biti inicijalizovana\n",
    "//vv = 7; // ovo je greska, kasnije promene promenljive vv nisu dozvoljene\n",
    "int vx = vv;"
   ]
  },
  {
   "cell_type": "code",
   "execution_count": null,
   "metadata": {},
   "outputs": [],
   "source": [
    "std::cout << vv << \" <--> \" << vx << std::endl;"
   ]
  }
 ],
 "metadata": {
  "kernelspec": {
   "display_name": "C++14",
   "language": "C++14",
   "name": "xcpp14"
  },
  "language_info": {
   "codemirror_mode": "text/x-c++src",
   "file_extension": ".cpp",
   "mimetype": "text/x-c++src",
   "name": "c++",
   "version": "-std=c++14"
  }
 },
 "nbformat": 4,
 "nbformat_minor": 2
}
