{
 "cells": [
  {
   "cell_type": "markdown",
   "metadata": {
    "slideshow": {
     "slide_type": "slide"
    }
   },
   "source": [
    "# Složeni tipovi\n",
    "\n",
    "#### Aleksandar Minja <br> Oktobar 2019\n"
   ]
  },
  {
   "cell_type": "markdown",
   "metadata": {
    "slideshow": {
     "slide_type": "slide"
    }
   },
   "source": [
    "Složeni tipovi (*compound types*) se dele na:\n",
    "* Korisnički definisani (*user-defined types*) tipovi\n",
    "    * klase\n",
    "    * strukture\n",
    "    * unije"
   ]
  },
  {
   "cell_type": "markdown",
   "metadata": {
    "slideshow": {
     "slide_type": "subslide"
    }
   },
   "source": [
    "* Ostali složeni tipovi:\n",
    "    * pokazivači\n",
    "    * reference\n",
    "    * nabrajanja (enumerations)\n",
    "    * nizovi \n",
    "    * funkcije"
   ]
  },
  {
   "cell_type": "markdown",
   "metadata": {
    "slideshow": {
     "slide_type": "notes"
    }
   },
   "source": [
    "U ovom pregledu ćemo razmotriti neke česte složene tipove. Kasnije ćemo videti da C++ dolazi sa velikom kolekcijom (STL - Standard Template Library) generičkih \"korisnički definisanih\" tipova (npr. \"pametni\" pokazivači) i pratećih algoritama, koji obavljaju istu funkciju kao i složeni tipovi ali eliminišu česte greške i smanjuju mogućnost nastajanja bugova prilikom programiranja."
   ]
  },
  {
   "cell_type": "code",
   "execution_count": null,
   "metadata": {
    "slideshow": {
     "slide_type": "slide"
    }
   },
   "outputs": [],
   "source": [
    "//Ukljucujemo iostream biblioteku za citanje i ispis na konzolu\n",
    "#include <iostream>"
   ]
  },
  {
   "cell_type": "markdown",
   "metadata": {
    "slideshow": {
     "slide_type": "notes"
    }
   },
   "source": [
    "Zbog preglednosti ćemo odmah na početku uključiti sva potrebna zaglavlja i definisati neke promenljive koje će se korisitit u ostatku sveske. "
   ]
  },
  {
   "cell_type": "markdown",
   "metadata": {
    "slideshow": {
     "slide_type": "slide"
    }
   },
   "source": [
    "## Memorija"
   ]
  },
  {
   "cell_type": "markdown",
   "metadata": {
    "slideshow": {
     "slide_type": "slide"
    }
   },
   "source": [
    "* Memorija: jedan ili više blokova adresabilnih lokacija\n",
    "    * Najmanja jedinica memorije je 1 bajt (8 bita)\n",
    "    * Svaki bajt ima adresu (bajt je adresabilan)\n",
    "    * Blok je niz bajtova bez prekida"
   ]
  },
  {
   "cell_type": "markdown",
   "metadata": {
    "slideshow": {
     "slide_type": "fragment"
    }
   },
   "source": [
    "* Memorijska lokacija je objekat **skalarnog tipa**:\n",
    "    * Aritmetički tipovi (npr. int, char, bool ...)\n",
    "    * pokazivači \n",
    "    * enumeratori"
   ]
  },
  {
   "cell_type": "markdown",
   "metadata": {
    "slideshow": {
     "slide_type": "slide"
    }
   },
   "source": [
    "## Pokazivači i Reference"
   ]
  },
  {
   "cell_type": "markdown",
   "metadata": {
    "slideshow": {
     "slide_type": "fragment"
    }
   },
   "source": [
    "* Mehanizmi za rukovanje memorijskim lokacijama"
   ]
  },
  {
   "cell_type": "markdown",
   "metadata": {
    "slideshow": {
     "slide_type": "notes"
    }
   },
   "source": [
    "Svaki program se prilikom pokretanja učitava u radnu memoriju (RAM - Random Access Memory), što znači da svaki njegov element (svaka promenljiva, funkcija, struktura ...)  zauzima određeni prostor u memoriji. Memorija se sastoji od niza adresabilnih lokacija (pri čemu je veličinja najmanje adresabilne lokacije najčešće 1 bajt - 8 bita), i C++ ima ugrađeni mehanizam (pokazivači i reference) za rukovanje memorijskim adresama. "
   ]
  },
  {
   "cell_type": "markdown",
   "metadata": {
    "slideshow": {
     "slide_type": "notes"
    }
   },
   "source": [
    "Pokazivač je složen tip koji služi za čuvanje memorijskih adresa. Pokazivač se deklariše na sledeći način:\n",
    "\n",
    "&lt; tip &gt; * identifikator;\n",
    "    \n",
    "Za identifikator se kaže da je \"pokazivač na &lt; tip &gt;\" i on čuva početnu adresu nekog podatka tipa &lt; tip &gt; (pri čemu to može biti i neki složeni tip ili void). Kao što smo videli, svaki tip ima različitu veličinu, a pokazivač čuva samo adresu prvog bajta, međutim svaki pokazivač zna kolko bajtova \"adresira\" (zna tip na koji pokazuje, tj. pokazivač na tip **int** se razlikuje po tipu od pokazivača na tip **float** ili od pokazivača na tip **char**). Prilikom deklarisanja pokazivača znak &ast; se odnosi na identifikator, a ne na &lt; tip &gt;.\n"
   ]
  },
  {
   "cell_type": "code",
   "execution_count": null,
   "metadata": {
    "slideshow": {
     "slide_type": "slide"
    }
   },
   "outputs": [],
   "source": [
    "std::cout << sizeof(int)    << \" <--> \" << sizeof(int*)     << std::endl;\n",
    "std::cout << sizeof(char)   << \" <--> \" << sizeof(char*)    << std::endl;\n",
    "std::cout << sizeof(double) << \" <--> \" << sizeof(double*)  << std::endl;"
   ]
  },
  {
   "cell_type": "markdown",
   "metadata": {
    "slideshow": {
     "slide_type": "subslide"
    }
   },
   "source": [
    "Veličina pokazivača zavisi od procesora i operativnog sistema (OS) i u opštem slučaju iznosi 4 bajta (32 bita) za 32-bitne OS, odnosno 8 bajtova (64 bita) za 64-bitne OS. U slučaju 32-bitnih OS, bilo je moguće adresirati svega $2^{32} = 4294967296$ bajta (tj. $2^{32} / 1024 / 1024 = 4096$ MB) i RAM nije mogao biti veći od 4 GB (postoje tehnike koje omogućavaju adresiranje većih memorija, ali se te tehnike obično koriste samo na serverima). Teoretski, 64-bitni OS (i procesor) su u stanju da podrže RAM veličine 16 EB-a (eksabajt)."
   ]
  },
  {
   "cell_type": "markdown",
   "metadata": {},
   "source": [
    "Operator adresiranja (&) vraća adresu promenljive ili izraza. Ukoliko napišemo & izraz, bitno je da izraz ima mesto u memoriji (tj. da nije privremena vrednost). Ukoliko imamo pokazivač px, da bi pročitali vrednost sačuvanu na lokaciji na koju pokazuje px, potrebno je dereferencirati pokazivač - ovo radimo pomoću znaka &ast; (&ast;px). [Tutor](http://www.pythontutor.com/cpp.html#code=int%20main%28%29%20%7B%0A%20%20%0A%20%20int%20x%20%3D%205,%20y%20%3D%207%3B%0A%20%20int%20*px%20%3D%20%26x,%20*py%20%3D%20%26y%3B%0A%0A%20%20px%20%3D%20py%3B%0A%20%20%0A%20%20*px%20%3D%209%3B%0A%0A%20%20return%200%3B%0A%7D&curInstr=5&mode=display&origin=opt-frontend.js&py=cpp&rawInputLstJSON=%5B%5D) primer."
   ]
  },
  {
   "cell_type": "code",
   "execution_count": null,
   "metadata": {},
   "outputs": [],
   "source": [
    "int x = 5;\n",
    "int y = 7;\n",
    "int *px = &x, *py = &y; // * se odnosi na ime promenljive!"
   ]
  },
  {
   "cell_type": "code",
   "execution_count": null,
   "metadata": {},
   "outputs": [],
   "source": [
    "std::cout << *px << \" <--> \" << x << std::endl; \n",
    "std::cout << *py << \" <--> \" << y << std::endl;"
   ]
  },
  {
   "cell_type": "code",
   "execution_count": null,
   "metadata": {},
   "outputs": [],
   "source": [
    "//px pokazuje na istu lokaciju kao i py\n",
    "px = py; "
   ]
  },
  {
   "cell_type": "code",
   "execution_count": null,
   "metadata": {},
   "outputs": [],
   "source": [
    "std::cout << *px << \" <--> \" << x << std::endl; \n",
    "std::cout << *py << \" <--> \" << y << std::endl;"
   ]
  },
  {
   "cell_type": "code",
   "execution_count": null,
   "metadata": {},
   "outputs": [],
   "source": [
    "//pristupamo lokaciji na koju pokazuje px i upisujemo novu vrednost\n",
    "*px = 9; "
   ]
  },
  {
   "cell_type": "code",
   "execution_count": null,
   "metadata": {},
   "outputs": [],
   "source": [
    "std::cout << *py << \" <--> \" << y << std::endl;"
   ]
  },
  {
   "cell_type": "markdown",
   "metadata": {},
   "source": [
    "### Pokazivači i konstante\n",
    "\n",
    "1. Pokazivač na konstantu se defeniše na sledeći način (modifikator **const** ide levo od znaka * ):\n",
    "\n",
    "    * **const** &lt; tip &gt; * identifikator;\n",
    "\n",
    "    * &lt; tip &gt; **const** * identifikator;\n",
    "   \n",
    "   Ono na šta pokazivač pokazuje ne može da se menja (bar ne preko pokazivača). \n",
    "\n",
    "\n",
    "2. Konstantan pokazivač se define na sledeći način (modifikator **const** ide desno od znaka * ):\n",
    "\n",
    "    * &lt; tip &gt; * **const** identifikator;\n",
    "\n",
    "   Pokazivač ne može da se menja (da pokazuje na nešto drugo).\n",
    "\n",
    "\n",
    "3. Konstantan pokazivač na konstantu se definiše na sledeći način:\n",
    "\n",
    "    * **const** &lt; tip &gt; * **const** identifikator;\n",
    "\n",
    "   Ni pokazivač, ni ono na šta pokazivač pokazuje ne može da se menja.\n",
    "   \n",
    "Prikazan je [primer](http://www.pythontutor.com/cpp.html#code=int%20main%28%29%20%7B%0A%20%20%0A%20%20const%20int%20a%20%3D%205%3B%0A%20%20int%20b%20%3D%207%3B%0A%20%20%0A%20%20const%20int%20*pa%20%3D%20%26a%3B%0A%20%20int%20*%20pb%20%3D%20%26b%3B%0A%20%20%0A%20%20//*pa%20%3D%206%3B%20//%20GRESKA!!!%0A%20%20pa%20%3D%20%26b%3B%0A%20%20//*pa%20%3D%206%3B%20//%20GRESKA!!!%0A%20%20*pb%20%3D%206%3B%0A%20%20%0A%20%20return%200%3B%0A%7D&curInstr=0&mode=display&origin=opt-frontend.js&py=cpp&rawInputLstJSON=%5B%5D) na sajtu pythontutor."
   ]
  },
  {
   "cell_type": "code",
   "execution_count": null,
   "metadata": {},
   "outputs": [],
   "source": [
    "const int a = 5;\n",
    "const int b = 7;\n",
    "\n",
    "int c = 9;\n",
    "\n",
    "const int *pa;"
   ]
  },
  {
   "cell_type": "code",
   "execution_count": null,
   "metadata": {},
   "outputs": [],
   "source": [
    "pa = &a;\n",
    "//*pa = 6; // ce javiti gresku\n",
    "std::cout << *pa << std::endl;"
   ]
  },
  {
   "cell_type": "code",
   "execution_count": null,
   "metadata": {},
   "outputs": [],
   "source": [
    "pa = &b;\n",
    "//*pa = 6; // ce javiti gresku\n",
    "std::cout << *pa << std::endl;"
   ]
  },
  {
   "cell_type": "code",
   "execution_count": null,
   "metadata": {},
   "outputs": [],
   "source": [
    "pa = &c;\n",
    "//*pa = 6; // ce javiti gresku\n",
    "std::cout << *pa << std::endl;"
   ]
  },
  {
   "cell_type": "code",
   "execution_count": null,
   "metadata": {},
   "outputs": [],
   "source": [
    "int * const pc = &c;\n",
    "//pc = pb; // ce javiti gresku\n",
    "*pc = 7;"
   ]
  },
  {
   "cell_type": "code",
   "execution_count": null,
   "metadata": {},
   "outputs": [],
   "source": [
    "std::cout << *pc << std::endl;"
   ]
  },
  {
   "cell_type": "code",
   "execution_count": null,
   "metadata": {},
   "outputs": [],
   "source": [
    "const int * const pb = &a;\n",
    "//*pb = 6; // ce javiti gresku\n",
    "//pb = &b; //ce javiti gresku"
   ]
  },
  {
   "cell_type": "code",
   "execution_count": null,
   "metadata": {},
   "outputs": [],
   "source": [
    "std::cout << *pb << std::endl;"
   ]
  },
  {
   "cell_type": "markdown",
   "metadata": {},
   "source": [
    "## Reference"
   ]
  },
  {
   "cell_type": "markdown",
   "metadata": {},
   "source": [
    "Reference ne zauzimaju prostor u memoriji i ne može da se dobije adresa na referencu (ne postoji pokazivač na referencu). Reference se ponašaju kao konstantni pokazivači (jednom inicijalizovani, ne mogu da pokazuju na neku drugu proemnljivu) čije se dereferenciranje obavlja automatski - ovo može značajno da pojednostavi kod. Na pythontutor sajtu reference su prikazane kao pokazivači, što se može videti na sledećem [tutor primeru](http://www.pythontutor.com/cpp.html#code=int%20main%28%29%20%7B%0A%20%20%0A%20%20int%20x%20%3D%205,%20y%20%3D%207%3B%0A%20%20%0A%20%20int%20%26a%20%3D%20x%3B%0A%20%20int%20%26b%20%3D%20y%3B%0A%20%20%20%20%0A%20%20a%20%3D%20345%3B%0A%20%20b%20%3D%20221%3B%0A%20%20%0A%20%20a%20%3D%20b%3B%0A%20%20%0A%20%20x%20%3D%201117%3B%0A%20%20%0A%20%20b%20%3D%20x%3B%0A%0A%20%20return%200%3B%0A%7D&curInstr=0&mode=display&origin=opt-frontend.js&py=cpp&rawInputLstJSON=%5B%5D)."
   ]
  },
  {
   "cell_type": "code",
   "execution_count": null,
   "metadata": {},
   "outputs": [],
   "source": [
    "int o = 5, p = 7;\n",
    "  \n",
    "int &ro = o; // mora se inicijalizovati prilikom uvodjenja imena\n",
    "int &rp = p; // mora se inicijalizovati prilikom uvodjenja imena"
   ]
  },
  {
   "cell_type": "code",
   "execution_count": null,
   "metadata": {},
   "outputs": [],
   "source": [
    "std::cout << ro << \" <--> \" << o << std::endl; // automatsko dereferenciranje\n",
    "std::cout << rp << \" <--> \" << p << std::endl; "
   ]
  },
  {
   "cell_type": "code",
   "execution_count": null,
   "metadata": {},
   "outputs": [],
   "source": [
    "o = 345;\n",
    "p = 221;"
   ]
  },
  {
   "cell_type": "code",
   "execution_count": null,
   "metadata": {},
   "outputs": [],
   "source": [
    "std::cout << ro << \" <--> \" << o << std::endl; // automatsko dereferenciranje\n",
    "std::cout << rp << \" <--> \" << p << std::endl; "
   ]
  },
  {
   "cell_type": "code",
   "execution_count": null,
   "metadata": {},
   "outputs": [],
   "source": [
    "ro = rp;"
   ]
  },
  {
   "cell_type": "code",
   "execution_count": null,
   "metadata": {},
   "outputs": [],
   "source": [
    "std::cout << ro << \" <--> \" << o << std::endl; \n",
    "std::cout << rp << \" <--> \" << p << std::endl; "
   ]
  },
  {
   "cell_type": "code",
   "execution_count": null,
   "metadata": {},
   "outputs": [],
   "source": [
    "o = 1117;\n",
    "rp = o;"
   ]
  },
  {
   "cell_type": "code",
   "execution_count": null,
   "metadata": {},
   "outputs": [],
   "source": [
    "std::cout << ro << \" <--> \" << o << std::endl; \n",
    "std::cout << rp << \" <--> \" << p << std::endl; "
   ]
  },
  {
   "cell_type": "markdown",
   "metadata": {},
   "source": [
    "## Nabrajanja (Enum-i)"
   ]
  },
  {
   "cell_type": "markdown",
   "metadata": {},
   "source": [
    "Nabrajanja (enumeracije) služi za dodeljivanje imena (koja čine program razumljivijim) celobrojnim vrednostima. Za definisanje nabrajanja koristi se ključna reč enum. Svakom imenu se dodeljuje jedna celobrojna vrednost. Prvom imenu se dodeljuje vrednost 0 (sem ako drugačije nije navedeno) i svako sledeće ime dobija vrednost za jedan veću od prethodne. [Tutor primer](http://www.pythontutor.com/cpp.html#code=int%20main%28%29%20%7B%0A%20%20enum%20Dani%20%7B%20Pon%20%3D%201,%20Uto,%20Sre,%20Cet,%20Pet,%20Sub%20%3D%2016,%20Ned%20%7D%3B%0A%20%20%0A%20%20Dani%20dan%3B%0A%20%20dan%20%3D%20Pon%3B%0A%20%20dan%20%3D%20Uto%3B%0A%20%20dan%20%3D%20Sre%3B%0A%20%20dan%20%3D%20Cet%3B%0A%20%20dan%20%3D%20Pet%3B%0A%20%20dan%20%3D%20Sub%3B%0A%20%20dan%20%3D%20Ned%3B%0A%0A%20%20return%200%3B%0A%7D&curInstr=0&mode=display&origin=opt-frontend.js&py=cpp&rawInputLstJSON=%5B%5D)."
   ]
  },
  {
   "cell_type": "code",
   "execution_count": null,
   "metadata": {},
   "outputs": [],
   "source": [
    "enum Dani { Pon = 1, Uto, Sre, Cet, Pet, Sub = 16, Ned };\n",
    "Dani dan;"
   ]
  },
  {
   "cell_type": "code",
   "execution_count": null,
   "metadata": {},
   "outputs": [],
   "source": [
    "dan = Pon;\n",
    "std::cout << \"Ponedeljak: \" << dan << std::endl;\n",
    "dan = Uto;\n",
    "std::cout << \"Utorak:     \" << dan << std::endl;\n",
    "dan = Sre;\n",
    "std::cout << \"Sreda:      \" << dan << std::endl;\n",
    "dan = Cet;\n",
    "std::cout << \"Cetvrtak:   \" << dan << std::endl;\n",
    "dan = Pet;\n",
    "std::cout << \"Petak:      \" << dan << std::endl;\n",
    "dan = Sub;\n",
    "std::cout << \"Subota:     \" << dan << std::endl;\n",
    "dan = Ned;\n",
    "std::cout << \"Nedelja:    \" << dan << std::endl;"
   ]
  },
  {
   "cell_type": "markdown",
   "metadata": {},
   "source": [
    "## Nizovi"
   ]
  },
  {
   "cell_type": "markdown",
   "metadata": {},
   "source": [
    "Niz je uređena struktura podataka međusobno jednakih tipova, koji se nazivaju elementi niza. U memoriji, niz je predstavljen neprekidnim blokom memorijskih lokacija u kojima su elemnti niza smešteni jedan iza drugog. Niz se deklariše na sledeći način:\n",
    "\n",
    "&lt; tip &gt; identifikator[N]; // N predstavlja broj el. u nizu i mora da bude celobrojni konstantni broj\n",
    "\n",
    "Niz može da se inicijalizuje pomoću inicijalizacione liste, pri čemu, u slučaju da ima manje vrednosti nego elemenata niza, ostali elementi će biti postavljeni na nulu. \n",
    "\n",
    "&lt; tip &gt; identifikator[N] = {E1, E2}; // E1 i E2 predstavljaju neke vrednosti tipa  &lt; tip &gt;"
   ]
  },
  {
   "cell_type": "code",
   "execution_count": null,
   "metadata": {},
   "outputs": [],
   "source": [
    "int niz[3] = {7, 9};"
   ]
  },
  {
   "cell_type": "code",
   "execution_count": null,
   "metadata": {},
   "outputs": [],
   "source": [
    "std::cout << \"Velicina niza: \" << sizeof(niz) << \" <--> \" << sizeof(int)*3 << std::endl << std::endl;\n",
    "\n",
    "std::cout << \"1. element: \" << niz[0] << std::endl;\n",
    "std::cout << \"2. element: \" << niz[1] << std::endl;\n",
    "std::cout << \"3. element: \" << niz[2] << std::endl;"
   ]
  },
  {
   "cell_type": "markdown",
   "metadata": {},
   "source": [
    "Ovako definisan niz se alocira na stack-u (statička memorija), i broj elemenata mora biti fiksan i poznat pre pokretanja programa. U slučaju da ne znamo unapred broj elemenata niza, moguće je dinamički alocirati niz na heap-u (dinamička memorija) pomoću operatora **new**. Operaor **new** vraća pokazivač na memorijsku lokaciju na heap-u. Sve promenljive alocirane pomoću operatora **new**, moraju biti oslobođene pomoću operatora **delete**, u suprotnom dolazi do tkz. curenja memorije. **new** i **delete** su zamena za funkcije **malloc()** i **free()**. [Tutor](http://www.pythontutor.com/cpp.html#code=int%20main%28%29%20%7B%0A%20%20int%20nx%20%3D%205%3B%0A%20%20int%20*pnx%20%3D%20new%20int%28nx%29%3B%0A%20%20int%20*pny%20%3D%20new%20int%3B%0A%20%20pny%20%3D%20%26nx%3B%0A%20%20%0A%20%20*pnx%20%3D%207%3B%0A%20%20*pny%20%3D%209%3B%0A%20%20%0A%20%20delete%20pnx%3B%0A%0A%20%20return%200%3B%0A%7D&curInstr=0&mode=display&origin=opt-frontend.js&py=cpp&rawInputLstJSON=%5B%5D) primer."
   ]
  },
  {
   "cell_type": "code",
   "execution_count": null,
   "metadata": {},
   "outputs": [],
   "source": [
    "int nx = 5;\n",
    "int *pnx = new int(nx);\n",
    "int *pny = new int;\n",
    "pny = &nx; "
   ]
  },
  {
   "cell_type": "code",
   "execution_count": null,
   "metadata": {},
   "outputs": [],
   "source": [
    "std::cout << *pny << \" <--> \" << nx << std::endl;\n",
    "std::cout << *pnx << \" <--> \" << nx << std::endl;"
   ]
  },
  {
   "cell_type": "code",
   "execution_count": null,
   "metadata": {},
   "outputs": [],
   "source": [
    "*pny = 7; //pokazuje na staticku memoriju - nx\n",
    "*pnx = 8; "
   ]
  },
  {
   "cell_type": "code",
   "execution_count": null,
   "metadata": {},
   "outputs": [],
   "source": [
    "std::cout << *pny << \" <--> \" << nx << std::endl;\n",
    "std::cout << *pnx << \" <--> \" << nx << std::endl;\n",
    "\n",
    "//delete pny; // ce javiti gresku, posto py pokazuje na nx\n",
    "delete pnx;"
   ]
  },
  {
   "cell_type": "markdown",
   "metadata": {},
   "source": [
    "Prilikom dinamičke alokacije niza koristimo &lt; tip &gt; id = **new** &lt; tip &gt;[N], pri čemu N, više ne mora da bude konstanta. Prilikom brisanja niza, koristi se sintaksa: **delete** [ ] id. Prilikom dinamičke alokacije niza, ne može da se koristi inicijalizacija pomoću inicijalizacione liste. [Tutor primer](http://www.pythontutor.com/cpp.html#code=int%20main%28%29%20%7B%0A%20%20int%20nx%20%3D%205%3B%0A%20%20int%20niz1%5B5%5D%20%3D%20%7B1,%202,%203%7D%3B%0A%20%20%0A%20%20int%20*niz2%3B%0A%20%20niz2%20%3D%20new%20int%5Bnx%5D%3B%0A%20%20niz2%5B0%5D%20%3D%20niz2%5B1%5D%20%3D%20niz2%5B2%5D%20%3D%20niz2%5B3%5D%20%3D%20niz2%5B4%5D%20%3D%205%3B%0A%20%20%0A%20%20delete%20%5B%5D%20niz2%3B%0A%0A%20%20return%200%3B%0A%7D&curInstr=0&mode=display&origin=opt-frontend.js&py=cpp&rawInputLstJSON=%5B%5D)."
   ]
  },
  {
   "cell_type": "code",
   "execution_count": null,
   "metadata": {},
   "outputs": [],
   "source": [
    "int *niz2 = new int[5];"
   ]
  },
  {
   "cell_type": "code",
   "execution_count": null,
   "metadata": {},
   "outputs": [],
   "source": [
    "niz2[0] = niz2[1] = niz2[2] = niz2[3] = niz2[4] = 5;\n",
    "*(niz2 + 3) = 4;\n",
    "*(niz2 + 4) = 7;"
   ]
  },
  {
   "cell_type": "code",
   "execution_count": null,
   "metadata": {},
   "outputs": [],
   "source": [
    "std::cout << \"Velicina niza: \" << sizeof(niz2) << \" <--> \" << sizeof(int)*5 << std::endl << std::endl;\n",
    "\n",
    "std::cout << \"1. element: \" << niz2[0] << std::endl;\n",
    "std::cout << \"2. element: \" << niz2[1] << std::endl;\n",
    "std::cout << \"3. element: \" << niz2[2] << std::endl;\n",
    "std::cout << \"4. element: \" << niz2[3] << std::endl;\n",
    "std::cout << \"5. element: \" << niz2[4] << std::endl;\n",
    "delete []niz2;"
   ]
  },
  {
   "cell_type": "markdown",
   "metadata": {},
   "source": [
    "Primetite da **sizeof** operator, primenjen na statički alociran niz vraća pravu veličinu niza, dok **sizeof** primenjen na dinamički alociran niz vraća veličinu 8, tj. veličinu pokazivača. Treba biti pažljiv prilikom korišćenja **sizeof** operatora."
   ]
  },
  {
   "cell_type": "markdown",
   "metadata": {},
   "source": [
    "## Strukture"
   ]
  },
  {
   "cell_type": "markdown",
   "metadata": {},
   "source": [
    "Struktura predstavlja uređeni skup promenlivih, koji za razliku od niza, ne moraju biti istog tipa. Strukture (ili klase) igraju mnogo značajniju ulogu u C++-u i u objektno orijentisanom programiranju (OOP) generalno, te su značajno unapređene u odnosu na C strukture. Prva značajna razlika jeste ta što je definicija sturkture pojednostavljena (nema typedef). Veličina strukture je bar koliko i zbir veličina svih promenljivih koje pripadaju strukturi (atributi ili polja), mada može biti i nešto veća (radi se poravnanje promenljivih). Prilikom definisanja instance strukture, može da se koristi inicijalizaciona lista (slično kao kod nizova). Za pristup atributima strukture, koristi se operator tačka (\".\"). [Tutor primer](http://www.pythontutor.com/cpp.html#code=struct%20S1%20%7B%0A%20%20%20%20int%20a%3B%20int%20b%3B%20int%20c%3B%0A%7D%3B%0A%0Astruct%20S2%7B%0A%20%20%20%20int%20a%3B%20char%20b%3B%20double%20c%3B%0A%7D%3B%0A%0Aint%20main%28%29%20%7B%0A%20%20S1%20s1%20%3D%20%7B1,%203%7D%3B%0A%20%20S2%20s2%20%3D%20%7B1,%20'c',%200.%7D%3B%0A%20%20%0A%20%20s1.a%20%3D%205%3B%0A%20%20s2.a%20%3D%209%3B%0A%20%20s1.b%20%3D%20'd'%3B%0A%20%20s2.b%20%3D%20'd'%3B%0A%20%20%0A%20%20S2%20*s3%20%3D%20%26s2%3B%0A%20%20s3%20-%3E%20a%20%3D%205%3B%0A%20%20s3%20-%3E%20b%20%3D%20'x'%3B%0A%20%20s3%20-%3E%20c%20%3D%209.%3B%0A%0A%20%20return%200%3B%0A%7D&curInstr=0&mode=display&origin=opt-frontend.js&py=cpp&rawInputLstJSON=%5B%5D). "
   ]
  },
  {
   "cell_type": "code",
   "execution_count": null,
   "metadata": {},
   "outputs": [],
   "source": [
    "struct S1 {\n",
    "    int a;\n",
    "    int b;\n",
    "    int c;\n",
    "};\n",
    "\n",
    "struct S2{\n",
    "    int a;\n",
    "    char b;\n",
    "    double c;\n",
    "};"
   ]
  },
  {
   "cell_type": "code",
   "execution_count": null,
   "metadata": {},
   "outputs": [],
   "source": [
    "S1 s1 = {1, 3};"
   ]
  },
  {
   "cell_type": "code",
   "execution_count": null,
   "metadata": {},
   "outputs": [],
   "source": [
    "std::cout << \"Veličina s1: \" << sizeof(s1) << \" <--> \" << sizeof(int)*3 << std::endl;\n",
    "\n",
    "std::cout << \"Strktura s1: \" << s1.a << \", \" << s1.b << \", \" << s1.c << std::endl;"
   ]
  },
  {
   "cell_type": "code",
   "execution_count": null,
   "metadata": {},
   "outputs": [],
   "source": [
    "S2 s2 = {1, 'c', 0.};"
   ]
  },
  {
   "cell_type": "code",
   "execution_count": null,
   "metadata": {},
   "outputs": [],
   "source": [
    "std::cout << \"Veličina s2: \" << sizeof(s2) << \" <--> \" << (sizeof(int) + sizeof(char) + sizeof(double)) << std::endl;\n",
    "\n",
    "std::cout << \"Strktura s2: \" << s2.a << \", \" << s2.b << \", \" << s2.c << std::endl;"
   ]
  },
  {
   "cell_type": "markdown",
   "metadata": {},
   "source": [
    "Ukoliko imamo pokazivač na strukturu, možemo pristupiti atributima strukture pomoću operatora \"->\". "
   ]
  },
  {
   "cell_type": "code",
   "execution_count": null,
   "metadata": {},
   "outputs": [],
   "source": [
    "S2 *s3 = &s2;\n",
    "s3 -> a = 5;\n",
    "s3 -> b = 'x';\n",
    "s3 -> c = 9.;"
   ]
  },
  {
   "cell_type": "code",
   "execution_count": null,
   "metadata": {},
   "outputs": [],
   "source": [
    "std::cout << \"Strktura s3: \" << s3 -> a << \", \" << s3 -> b << \", \" << s3 -> c << std::endl;"
   ]
  },
  {
   "cell_type": "markdown",
   "metadata": {},
   "source": [
    "## Enum Strukture (Bezbedni enumeratori)"
   ]
  },
  {
   "cell_type": "markdown",
   "metadata": {},
   "source": [
    "Enum strukture, često nazvani i scoped enumerators, su bezbedni enumeratori koji ne mogu da se porede sa drugim enumima ili celobrojnim vrednostima već samo sa instancama iste enum strukture. Ukoliko želimo da ispišemo vrednost nekog scoped enuma ili da ga poredimo sa celim brojem, moram da ga kastujemo u int."
   ]
  },
  {
   "cell_type": "code",
   "execution_count": null,
   "metadata": {},
   "outputs": [],
   "source": [
    "enum boje {Crvena, Plava, Zuta = 3, Zelena}; //Klasicni enum"
   ]
  },
  {
   "cell_type": "code",
   "execution_count": null,
   "metadata": {},
   "outputs": [],
   "source": [
    "std::cout << \"Crvena: \" << Crvena << \" == 0: \" << (Crvena == 0) << std::endl;\n",
    "std::cout << \"Plava:  \" << Plava  << \" == 1: \" << (Plava  == 1) << std::endl;\n",
    "std::cout << \"Zuta:   \" << Zuta   << \" == 2: \" << (Zuta   == 2) << std::endl;\n",
    "std::cout << \"Zuta:   \" << Zuta   << \" == 3: \" << (Zuta   == 3) << std::endl;\n",
    "std::cout << \"Zelena: \" << Zelena << \" == 4: \" << (Zelena == 4) << std::endl;"
   ]
  },
  {
   "cell_type": "code",
   "execution_count": null,
   "metadata": {},
   "outputs": [],
   "source": [
    "enum struct Boje { Crvena, Plava, Zuta = 3 , Zelena}; //Scoped enum"
   ]
  },
  {
   "cell_type": "code",
   "execution_count": null,
   "metadata": {},
   "outputs": [],
   "source": [
    "Boje b = Boje::Zuta;"
   ]
  },
  {
   "cell_type": "code",
   "execution_count": null,
   "metadata": {},
   "outputs": [],
   "source": [
    "std::cout << \"Boja b je Zuta: \" << (b == Boje::Zuta) << std::endl;\n",
    "std::cout << \"Broj Zute je: \" << (int)b << std::endl;"
   ]
  },
  {
   "cell_type": "code",
   "execution_count": null,
   "metadata": {},
   "outputs": [],
   "source": [
    "std::cout << \"Crvena: \" << (int)Boje::Crvena << \" == 0: \" << ((int)Boje::Crvena == 0) << std::endl;\n",
    "std::cout << \"Plava:  \" << (int)Boje::Plava  << \" == 1: \" << ((int)Boje::Plava  == 1) << std::endl;\n",
    "std::cout << \"Zuta:   \" << (int)Boje::Zuta   << \" == 2: \" << ((int)Boje::Zuta   == 2) << std::endl;\n",
    "std::cout << \"Zelena: \" << (int)Boje::Zelena << \" == 4: \" << ((int)Boje::Zelena == 4) << std::endl;"
   ]
  },
  {
   "cell_type": "markdown",
   "metadata": {},
   "source": [
    "## Bit Polja (Bitfields)"
   ]
  },
  {
   "cell_type": "markdown",
   "metadata": {},
   "source": [
    "Celobrojna polja struktura ne moraju da koriste sve bite, već samo par bita. To radimo tako što nakon deklaracije polja koristimo dvotačku i broj bita koji želimo da koristimo (npr. unsigned x : 3). Ovo je korisno za pravljenje flagova - unutrašnje stanje strukture. Takođe možemo ostaviti neke bite praznim, ili definisati dva (ili više) bit polja nad istim celobrojnim podatkom."
   ]
  },
  {
   "cell_type": "code",
   "execution_count": null,
   "metadata": {},
   "outputs": [],
   "source": [
    "struct S3 {\n",
    "    unsigned x:5;\n",
    "    // will usually occupy 2 bytes:\n",
    "    // 3 bits: value of b1\n",
    "    // 2 bits: unused\n",
    "    // 6 bits: value of b2\n",
    "    // 2 bits: value of b3\n",
    "    // 3 bits: unused\n",
    "    unsigned char b1 : 3, : 2, b2 : 6, b3 : 2;\n",
    "};"
   ]
  },
  {
   "cell_type": "code",
   "execution_count": null,
   "metadata": {},
   "outputs": [],
   "source": [
    "S3 ss = {30};"
   ]
  },
  {
   "cell_type": "code",
   "execution_count": null,
   "metadata": {},
   "outputs": [],
   "source": [
    "std::cout << (ss.x++) << std::endl;\n",
    "std::cout << (ss.x++) << std::endl;\n",
    "std::cout << (ss.x++) << std::endl;\n",
    "std::cout << (ss.x++) << std::endl;"
   ]
  },
  {
   "cell_type": "markdown",
   "metadata": {},
   "source": [
    "## Unije"
   ]
  },
  {
   "cell_type": "markdown",
   "metadata": {},
   "source": [
    "Unija je struktura gde se svi atributi (polja) preklapaju u memoriji. Unija je velika koliko i najveći atirbut. Kažemo da unija u svakom trenutku sadrži samo jedan od svojih atributa."
   ]
  },
  {
   "cell_type": "code",
   "execution_count": null,
   "metadata": {},
   "outputs": [],
   "source": [
    "union U1 {\n",
    "    char x; //1 bajt\n",
    "    unsigned y; //4 bajta\n",
    "    double z; //8 bajta\n",
    "};"
   ]
  },
  {
   "cell_type": "code",
   "execution_count": null,
   "metadata": {},
   "outputs": [],
   "source": [
    "U1 u = {'x'}; //Inicijalizujemo samo prvi el. unije"
   ]
  },
  {
   "cell_type": "code",
   "execution_count": null,
   "metadata": {},
   "outputs": [],
   "source": [
    "std::cout << sizeof(U1) << \" <--> \" << (sizeof(char) + sizeof(unsigned) + sizeof(double)) << std::endl;"
   ]
  },
  {
   "cell_type": "code",
   "execution_count": null,
   "metadata": {},
   "outputs": [],
   "source": [
    "std::cout << u.x << std::endl; \n",
    "std::cout << u.y << std::endl; //iskorisceno je prvih 8 bita, zbog x-a\n",
    "std::cout << u.z << std::endl;"
   ]
  },
  {
   "cell_type": "code",
   "execution_count": null,
   "metadata": {},
   "outputs": [],
   "source": [
    "u.y = 61; //menjamo sve vrednosti, i x i y i z.;"
   ]
  },
  {
   "cell_type": "code",
   "execution_count": null,
   "metadata": {},
   "outputs": [],
   "source": [
    "std::cout << u.x << std::endl; \n",
    "std::cout << u.y << std::endl; //iskorisceno je prvih 8 bita, zbog x-a\n",
    "std::cout << u.z << std::endl;"
   ]
  }
 ],
 "metadata": {
  "kernelspec": {
   "display_name": "C++14",
   "language": "C++14",
   "name": "xcpp14"
  },
  "language_info": {
   "codemirror_mode": "text/x-c++src",
   "file_extension": ".cpp",
   "mimetype": "text/x-c++src",
   "name": "c++",
   "version": "-std=c++14"
  }
 },
 "nbformat": 4,
 "nbformat_minor": 2
}
